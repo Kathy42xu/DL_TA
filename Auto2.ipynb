{
  "nbformat": 4,
  "nbformat_minor": 0,
  "metadata": {
    "colab": {
      "provenance": [],
      "authorship_tag": "ABX9TyPx/msr0huvJgdt5bZo1TwF",
      "include_colab_link": true
    },
    "kernelspec": {
      "name": "python3",
      "display_name": "Python 3"
    },
    "language_info": {
      "name": "python"
    }
  },
  "cells": [
    {
      "cell_type": "markdown",
      "metadata": {
        "id": "view-in-github",
        "colab_type": "text"
      },
      "source": [
        "<a href=\"https://colab.research.google.com/github/Kathy42xu/DL_TA/blob/main/Auto2.ipynb\" target=\"_parent\"><img src=\"https://colab.research.google.com/assets/colab-badge.svg\" alt=\"Open In Colab\"/></a>"
      ]
    },
    {
      "cell_type": "code",
      "execution_count": null,
      "metadata": {
        "colab": {
          "base_uri": "https://localhost:8080/"
        },
        "id": "YA1E301sVvF4",
        "outputId": "158d62ed-af7d-498d-9a25-cd7017ee571e"
      },
      "outputs": [
        {
          "output_type": "stream",
          "name": "stdout",
          "text": [
            "--2025-01-13 20:25:09--  https://files.grouplens.org/datasets/movielens/ml-32m.zip\n",
            "Resolving files.grouplens.org (files.grouplens.org)... 128.101.65.152\n",
            "Connecting to files.grouplens.org (files.grouplens.org)|128.101.65.152|:443... connected.\n",
            "HTTP request sent, awaiting response... 200 OK\n",
            "Length: 238950008 (228M) [application/zip]\n",
            "Saving to: ‘movielens/ml-32m.zip’\n",
            "\n",
            "movielens/ml-32m.zi 100%[===================>] 227.88M  72.5MB/s    in 3.3s    \n",
            "\n",
            "2025-01-13 20:25:12 (68.7 MB/s) - ‘movielens/ml-32m.zip’ saved [238950008/238950008]\n",
            "\n",
            "Archive:  movielens/ml-32m.zip\n",
            "   creating: movielens/ml-32m/\n",
            "  inflating: movielens/ml-32m/tags.csv  \n",
            "  inflating: movielens/ml-32m/links.csv  \n",
            "  inflating: movielens/ml-32m/README.txt  \n",
            "  inflating: movielens/ml-32m/checksums.txt  \n",
            "  inflating: movielens/ml-32m/ratings.csv  \n",
            "  inflating: movielens/ml-32m/movies.csv  \n",
            "Ratings Data:\n",
            "   userId  movieId  rating  timestamp\n",
            "0       1       17     4.0  944249077\n",
            "1       1       25     1.0  944250228\n",
            "2       1       29     2.0  943230976\n",
            "3       1       30     5.0  944249077\n",
            "4       1       32     5.0  943228858\n",
            "\n",
            "Movies Data:\n",
            "   movieId                               title  \\\n",
            "0        1                    Toy Story (1995)   \n",
            "1        2                      Jumanji (1995)   \n",
            "2        3             Grumpier Old Men (1995)   \n",
            "3        4            Waiting to Exhale (1995)   \n",
            "4        5  Father of the Bride Part II (1995)   \n",
            "\n",
            "                                        genres  \n",
            "0  Adventure|Animation|Children|Comedy|Fantasy  \n",
            "1                   Adventure|Children|Fantasy  \n",
            "2                               Comedy|Romance  \n",
            "3                         Comedy|Drama|Romance  \n",
            "4                                       Comedy  \n",
            "\n",
            "Tags Data:\n",
            "   userId  movieId          tag   timestamp\n",
            "0      22    26479  Kevin Kline  1583038886\n",
            "1      22    79592     misogyny  1581476297\n",
            "2      22   247150   acrophobia  1622483469\n",
            "3      34     2174        music  1249808064\n",
            "4      34     2174        weird  1249808102\n",
            "\n",
            "Links Data:\n",
            "   movieId  imdbId   tmdbId\n",
            "0        1  114709    862.0\n",
            "1        2  113497   8844.0\n",
            "2        3  113228  15602.0\n",
            "3        4  114885  31357.0\n",
            "4        5  113041  11862.0\n"
          ]
        }
      ],
      "source": [
        "import os\n",
        "\n",
        "os.makedirs('movielens', exist_ok=True)\n",
        "\n",
        "\n",
        "!wget -O movielens/ml-32m.zip https://files.grouplens.org/datasets/movielens/ml-32m.zip\n",
        "\n",
        "!unzip movielens/ml-32m.zip -d movielens/\n",
        "\n",
        "import pandas as pd\n",
        "\n",
        "# Load the ratings data\n",
        "ratings = pd.read_csv('movielens/ml-32m/ratings.csv')\n",
        "print(\"Ratings Data:\")\n",
        "print(ratings.head())\n",
        "\n",
        "# Load the movies data\n",
        "movies = pd.read_csv('movielens/ml-32m/movies.csv')\n",
        "print(\"\\nMovies Data:\")\n",
        "print(movies.head())\n",
        "\n",
        "# Load the tags data\n",
        "tags = pd.read_csv('movielens/ml-32m/tags.csv')\n",
        "print(\"\\nTags Data:\")\n",
        "print(tags.head())\n",
        "\n",
        "# Load the links data\n",
        "links = pd.read_csv('movielens/ml-32m/links.csv')\n",
        "print(\"\\nLinks Data:\")\n",
        "print(links.head())\n"
      ]
    },
    {
      "cell_type": "code",
      "source": [
        "import pandas as pd\n",
        "import numpy as np\n",
        "from sklearn.model_selection import train_test_split\n",
        "\n",
        "# Load datasets\n",
        "ratings = pd.read_csv('movielens/ml-32m/ratings.csv')\n",
        "movies = pd.read_csv('movielens/ml-32m/movies.csv')\n",
        "\n",
        "# Merge ratings with movies to filter based on titles\n",
        "merged_data = ratings.merge(movies, on=\"movieId\")\n",
        "all_ratings = merged_data[\n",
        "    merged_data['title'].str.endswith(tuple(f\"({year})\" for year in range(2020, 2025)))\n",
        "]\n",
        "\n",
        "# Display filtered data\n",
        "print(f\"Amount of data after filtering: {len(all_ratings)}\")\n",
        "print(all_ratings.head())\n",
        "\n",
        "# Create user-item interaction matrix\n",
        "user_item_matrix = all_ratings.pivot(index='userId', columns='movieId', values='rating').fillna(0)\n",
        "\n",
        "# Split into train and test sets\n",
        "train_data, test_data = train_test_split(user_item_matrix, test_size=0.2, random_state=42)"
      ],
      "metadata": {
        "colab": {
          "base_uri": "https://localhost:8080/"
        },
        "id": "-YGq3tjiV4YA",
        "outputId": "e5c44407-f622-4ccc-cc96-6e5352bb2c7e"
      },
      "execution_count": null,
      "outputs": [
        {
          "output_type": "stream",
          "name": "stdout",
          "text": [
            "Amount of data after filtering: 273932\n",
            "      userId  movieId  rating   timestamp  \\\n",
            "2237      22   235509     2.5  1611070726   \n",
            "2238      22   247150     3.0  1622483323   \n",
            "2239      22   278420     4.0  1668895485   \n",
            "2240      22   279412     3.5  1668895505   \n",
            "2241      22   280236     4.0  1674334098   \n",
            "\n",
            "                                    title                   genres  \n",
            "2237              Outside the Wire (2021)   Action|Sci-Fi|Thriller  \n",
            "2238                      Stowaway (2021)             Drama|Sci-Fi  \n",
            "2239  Weird: The Al Yankovic Story (2022)             Comedy|Drama  \n",
            "2240                Enola Holmes 2 (2022)  Adventure|Crime|Mystery  \n",
            "2241                      Spirited (2022)                   Comedy  \n"
          ]
        }
      ]
    },
    {
      "cell_type": "code",
      "source": [
        "import tensorflow as tf\n",
        "tf.compat.v1.disable_eager_execution()\n",
        "\n",
        "class AutoRec:\n",
        "    def __init__(self, num_items, hidden_neurons, learning_rate, lambda_value):\n",
        "        self.num_items = num_items\n",
        "        self.hidden_neurons = hidden_neurons\n",
        "        self.learning_rate = learning_rate\n",
        "        self.lambda_value = lambda_value\n",
        "\n",
        "        self.input_R = tf.compat.v1.placeholder(dtype=tf.float32, shape=[None, self.num_items])\n",
        "        self.input_mask_R = tf.compat.v1.placeholder(dtype=tf.float32, shape=[None, self.num_items])\n",
        "\n",
        "        self.build_model()\n",
        "\n",
        "    def build_model(self):\n",
        "      with tf.compat.v1.variable_scope(\"AutoRec\", reuse=tf.compat.v1.AUTO_REUSE):\n",
        "        V = tf.compat.v1.get_variable(\"V\", shape=[self.num_items, self.hidden_neurons],\n",
        "                                      initializer=tf.compat.v1.truncated_normal_initializer(mean=0, stddev=0.03))\n",
        "        W = tf.compat.v1.get_variable(\"W\", shape=[self.hidden_neurons, self.num_items],\n",
        "                                      initializer=tf.compat.v1.truncated_normal_initializer(mean=0, stddev=0.03))\n",
        "        mu = tf.compat.v1.get_variable(\"mu\", initializer=tf.zeros(self.hidden_neurons))\n",
        "        b = tf.compat.v1.get_variable(\"b\", initializer=tf.zeros(self.num_items))\n",
        "\n",
        "        # Encoder\n",
        "        self.encoder = tf.nn.sigmoid(tf.matmul(self.input_R, V) + mu)\n",
        "\n",
        "        # Decoder\n",
        "        self.decoder = tf.matmul(self.encoder, W) + b\n",
        "\n",
        "        # Loss\n",
        "        pre_rec_cost = tf.multiply(self.input_R - self.decoder, self.input_mask_R)\n",
        "        rec_cost = tf.reduce_sum(tf.square(pre_rec_cost))\n",
        "        reg_cost = self.lambda_value * 0.5 * (tf.nn.l2_loss(W) + tf.nn.l2_loss(V))\n",
        "\n",
        "        self.loss = rec_cost + reg_cost\n",
        "        self.optimizer = tf.compat.v1.train.AdamOptimizer(self.learning_rate).minimize(self.loss)\n",
        "\n",
        "\n",
        "    def train(self, train_data, mask, epochs, batch_size):\n",
        "        session = tf.compat.v1.Session()\n",
        "        session.run(tf.compat.v1.global_variables_initializer())\n",
        "\n",
        "        for epoch in range(epochs):\n",
        "            total_loss = 0\n",
        "            for i in range(0, len(train_data), batch_size):\n",
        "                batch_data = train_data[i:i + batch_size]\n",
        "                batch_mask = mask[i:i + batch_size]\n",
        "                feed_dict = {self.input_R: batch_data, self.input_mask_R: batch_mask}\n",
        "                _, batch_loss = session.run([self.optimizer, self.loss], feed_dict=feed_dict)\n",
        "                total_loss += batch_loss\n",
        "            print(f\"Epoch {epoch + 1}, Loss: {total_loss / len(train_data)}\")\n",
        "\n",
        "        self.session = session\n",
        "\n",
        "    def predict(self, test_data):\n",
        "        feed_dict = {self.input_R: test_data}\n",
        "        return self.session.run(self.decoder, feed_dict=feed_dict)\n"
      ],
      "metadata": {
        "id": "KBQrfIHVWKnR"
      },
      "execution_count": 13,
      "outputs": []
    },
    {
      "cell_type": "code",
      "source": [
        "from sklearn.metrics import mean_squared_error, mean_absolute_error\n",
        "\n",
        "# Prepare mask for training\n",
        "train_mask = (train_data > 0).astype(float)\n",
        "\n",
        "# Instantiate and train AutoRec\n",
        "num_items = user_item_matrix.shape[1]\n",
        "hidden_neurons = 500\n",
        "learning_rate = 0.001\n",
        "lambda_value = 0.1\n",
        "batch_size = 128\n",
        "epochs = 50\n",
        "\n",
        "autorec = AutoRec(num_items, hidden_neurons, learning_rate, lambda_value)\n",
        "autorec.train(train_data.values, train_mask.values, epochs, batch_size)\n",
        "\n",
        "# Predict on test set\n",
        "test_predictions = autorec.predict(test_data.values)\n",
        "\n",
        "# Evaluate\n",
        "test_mask = (test_data > 0).astype(float)\n",
        "true_ratings = test_data.values[test_mask.values > 0]\n",
        "predicted_ratings = test_predictions[test_mask.values > 0]\n",
        "\n",
        "rmse = np.sqrt(mean_squared_error(true_ratings, predicted_ratings))\n",
        "mae = mean_absolute_error(true_ratings, predicted_ratings)\n",
        "\n",
        "print(f\"RMSE: {rmse}, MAE: {mae}\")\n"
      ],
      "metadata": {
        "colab": {
          "base_uri": "https://localhost:8080/"
        },
        "id": "unEnMfGHWSGQ",
        "outputId": "83debd9d-0508-4f77-dac6-d7f869f47a1b"
      },
      "execution_count": null,
      "outputs": [
        {
          "output_type": "stream",
          "name": "stdout",
          "text": [
            "Epoch 1, Loss: 26.178412370369266\n",
            "Epoch 2, Loss: 12.747675087025492\n",
            "Epoch 3, Loss: 10.979370670543405\n",
            "Epoch 4, Loss: 9.727837949786652\n",
            "Epoch 5, Loss: 8.549806347567714\n",
            "Epoch 6, Loss: 7.447928881339498\n",
            "Epoch 7, Loss: 6.6494562835555024\n",
            "Epoch 8, Loss: 6.031248140328907\n",
            "Epoch 9, Loss: 5.427156183296899\n",
            "Epoch 10, Loss: 4.880229450448654\n",
            "Epoch 11, Loss: 4.485798541660554\n",
            "Epoch 12, Loss: 4.106306807517141\n",
            "Epoch 13, Loss: 3.778295158521605\n",
            "Epoch 14, Loss: 3.470911914087796\n",
            "Epoch 15, Loss: 3.2160648286165063\n",
            "Epoch 16, Loss: 3.0158913558882885\n",
            "Epoch 17, Loss: 2.8759342465834856\n",
            "Epoch 18, Loss: 2.7273963450953187\n",
            "Epoch 19, Loss: 2.6510749780333516\n",
            "Epoch 20, Loss: 2.6031139854507237\n",
            "Epoch 21, Loss: 2.5274902845722855\n",
            "Epoch 22, Loss: 2.4357210556285214\n",
            "Epoch 23, Loss: 2.3829953040874092\n",
            "Epoch 24, Loss: 2.3714613799001403\n",
            "Epoch 25, Loss: 2.41123780980658\n",
            "Epoch 26, Loss: 2.4790964896097467\n",
            "Epoch 27, Loss: 2.536939098495011\n",
            "Epoch 28, Loss: 2.470797234041026\n",
            "Epoch 29, Loss: 2.452528108819873\n",
            "Epoch 30, Loss: 2.4676206944720946\n",
            "Epoch 31, Loss: 2.4923098074650305\n",
            "Epoch 32, Loss: 2.4387388324478163\n",
            "Epoch 33, Loss: 2.39773354136933\n",
            "Epoch 34, Loss: 2.392421023306212\n",
            "Epoch 35, Loss: 2.406978701544679\n",
            "Epoch 36, Loss: 2.4278734363031704\n",
            "Epoch 37, Loss: 2.484238459430601\n",
            "Epoch 38, Loss: 2.4823166523985165\n",
            "Epoch 39, Loss: 2.5453799627803333\n",
            "Epoch 40, Loss: 2.5779243995914527\n",
            "Epoch 41, Loss: 2.5027268163559735\n",
            "Epoch 42, Loss: 2.3798130560594433\n",
            "Epoch 43, Loss: 2.3206541103150093\n",
            "Epoch 44, Loss: 2.288022964609949\n",
            "Epoch 45, Loss: 2.3176680081805605\n",
            "Epoch 46, Loss: 2.3715933829511235\n",
            "Epoch 47, Loss: 2.4494133158647835\n",
            "Epoch 48, Loss: 2.494705452169876\n",
            "Epoch 49, Loss: 2.527742447869763\n",
            "Epoch 50, Loss: 2.521658381716666\n",
            "RMSE: 0.8867284311523905, MAE: 0.6117869868865489\n"
          ]
        }
      ]
    },
    {
      "cell_type": "markdown",
      "source": [
        "#Try new dataset"
      ],
      "metadata": {
        "id": "MXvXGKyJYA27"
      }
    },
    {
      "cell_type": "code",
      "source": [
        "import torch\n",
        "torch.cuda.empty_cache()  # Clear GPU cache"
      ],
      "metadata": {
        "id": "WPCt9KciYC0b"
      },
      "execution_count": 2,
      "outputs": []
    },
    {
      "cell_type": "code",
      "source": [
        "%matplotlib inline\n",
        "import matplotlib.pyplot as plt\n",
        "import numpy as np\n",
        "import os.path as op\n",
        "import imp\n",
        "import numpy as np\n",
        "\n",
        "from zipfile import ZipFile\n",
        "try:\n",
        "    from urllib.request import urlretrieve\n",
        "except ImportError:  # Python 2 compat\n",
        "    from urllib import urlretrieve\n",
        "\n",
        "# this line need to be changed if not on colab:\n",
        "data_folder = '/content/'\n",
        "\n",
        "\n",
        "ML_1M_URL = \"https://files.grouplens.org/datasets/movielens/ml-32m.zip\"\n",
        "ML_1M_FILENAME = op.join(data_folder,ML_1M_URL.rsplit('/', 1)[1])\n",
        "ML_1M_FOLDER = op.join(data_folder,'ml-32m')"
      ],
      "metadata": {
        "id": "ksIpw1d7ZtGz"
      },
      "execution_count": 3,
      "outputs": []
    },
    {
      "cell_type": "code",
      "source": [
        "if not op.exists(ML_1M_FILENAME):\n",
        "    print('Downloading %s to %s...' % (ML_1M_URL, ML_1M_FILENAME))\n",
        "    urlretrieve(ML_1M_URL, ML_1M_FILENAME)\n",
        "\n",
        "if not op.exists(ML_1M_FOLDER):\n",
        "    print('Extracting %s to %s...' % (ML_1M_FILENAME, ML_1M_FOLDER))\n",
        "    ZipFile(ML_1M_FILENAME).extractall(data_folder)"
      ],
      "metadata": {
        "id": "kTsS1BDcZxZ5"
      },
      "execution_count": 4,
      "outputs": []
    },
    {
      "cell_type": "code",
      "source": [
        "import os\n",
        "\n",
        "# Path to the extracted dataset folder\n",
        "dataset_path = '/content/ml-32m'  # Adjust this path if needed\n",
        "\n",
        "# List all files in the folder\n",
        "files = os.listdir(dataset_path)\n",
        "print(\"Files in the dataset:\")\n",
        "for file in files:\n",
        "    print(file)"
      ],
      "metadata": {
        "colab": {
          "base_uri": "https://localhost:8080/"
        },
        "id": "bzW_2HqyZxv3",
        "outputId": "700b68d1-760b-42c0-d443-4b69d92d99e8"
      },
      "execution_count": 5,
      "outputs": [
        {
          "output_type": "stream",
          "name": "stdout",
          "text": [
            "Files in the dataset:\n",
            "ratings.csv\n",
            "tags.csv\n",
            "movies.csv\n",
            "links.csv\n",
            "checksums.txt\n",
            "README.txt\n"
          ]
        }
      ]
    },
    {
      "cell_type": "code",
      "source": [
        "import pandas as pd\n",
        "\n",
        "ratings = pd.read_csv('/content/ml-32m/ratings.csv')\n",
        "print(ratings.head())"
      ],
      "metadata": {
        "colab": {
          "base_uri": "https://localhost:8080/"
        },
        "id": "4eciubcvZzh8",
        "outputId": "a5e7ee04-cfec-42b3-d3c1-80695c4aa4ef"
      },
      "execution_count": 6,
      "outputs": [
        {
          "output_type": "stream",
          "name": "stdout",
          "text": [
            "   userId  movieId  rating  timestamp\n",
            "0       1       17     4.0  944249077\n",
            "1       1       25     1.0  944250228\n",
            "2       1       29     2.0  943230976\n",
            "3       1       30     5.0  944249077\n",
            "4       1       32     5.0  943228858\n"
          ]
        }
      ]
    },
    {
      "cell_type": "code",
      "source": [
        "movies = pd.read_csv('/content/ml-32m/movies.csv')\n",
        "print(movies.head())"
      ],
      "metadata": {
        "colab": {
          "base_uri": "https://localhost:8080/"
        },
        "id": "JjiHde4NZ1gh",
        "outputId": "58cffc7c-fdb5-42a6-e824-fc212384e35b"
      },
      "execution_count": 7,
      "outputs": [
        {
          "output_type": "stream",
          "name": "stdout",
          "text": [
            "   movieId                               title  \\\n",
            "0        1                    Toy Story (1995)   \n",
            "1        2                      Jumanji (1995)   \n",
            "2        3             Grumpier Old Men (1995)   \n",
            "3        4            Waiting to Exhale (1995)   \n",
            "4        5  Father of the Bride Part II (1995)   \n",
            "\n",
            "                                        genres  \n",
            "0  Adventure|Animation|Children|Comedy|Fantasy  \n",
            "1                   Adventure|Children|Fantasy  \n",
            "2                               Comedy|Romance  \n",
            "3                         Comedy|Drama|Romance  \n",
            "4                                       Comedy  \n"
          ]
        }
      ]
    },
    {
      "cell_type": "code",
      "source": [
        "# Ensure `movieId` in both datasets is of the same type\n",
        "ratings['movieId'] = ratings['movieId'].astype(int)\n",
        "movies['movieId'] = movies['movieId'].astype(int)\n",
        "\n",
        "# Merge the ratings and movies datasets on the common column 'movieId'\n",
        "all_ratings = ratings.merge(movies, on='movieId')\n",
        "\n",
        "# Preview the merged data\n",
        "print(all_ratings.head())"
      ],
      "metadata": {
        "colab": {
          "base_uri": "https://localhost:8080/"
        },
        "id": "_BOkWwnsZ3Rs",
        "outputId": "199a750c-adb8-43f0-ec63-724b10310902"
      },
      "execution_count": 8,
      "outputs": [
        {
          "output_type": "stream",
          "name": "stdout",
          "text": [
            "   userId  movieId  rating  timestamp  \\\n",
            "0       1       17     4.0  944249077   \n",
            "1       1       25     1.0  944250228   \n",
            "2       1       29     2.0  943230976   \n",
            "3       1       30     5.0  944249077   \n",
            "4       1       32     5.0  943228858   \n",
            "\n",
            "                                               title  \\\n",
            "0                       Sense and Sensibility (1995)   \n",
            "1                           Leaving Las Vegas (1995)   \n",
            "2  City of Lost Children, The (Cité des enfants p...   \n",
            "3  Shanghai Triad (Yao a yao yao dao waipo qiao) ...   \n",
            "4          Twelve Monkeys (a.k.a. 12 Monkeys) (1995)   \n",
            "\n",
            "                                   genres  \n",
            "0                           Drama|Romance  \n",
            "1                           Drama|Romance  \n",
            "2  Adventure|Drama|Fantasy|Mystery|Sci-Fi  \n",
            "3                             Crime|Drama  \n",
            "4                 Mystery|Sci-Fi|Thriller  \n"
          ]
        }
      ]
    },
    {
      "cell_type": "code",
      "source": [
        "# Define the cutoff UNIX timestamp for 2024\n",
        "cutoff_timestamp_2022 = 1673660792\n",
        "\n",
        "# Filter the dataset for data after 2024\n",
        "new_data = all_ratings[all_ratings['timestamp'] >= cutoff_timestamp_2022].copy()\n",
        "\n",
        "# Count the number of records\n",
        "num_records_after_2021 = len(new_data)\n",
        "\n",
        "print(f\"Number of records after 2021: {num_records_after_2021}\")"
      ],
      "metadata": {
        "colab": {
          "base_uri": "https://localhost:8080/"
        },
        "id": "m4s9914oZ5cD",
        "outputId": "67114d38-072d-494a-8be8-e0dfe010fc26"
      },
      "execution_count": 9,
      "outputs": [
        {
          "output_type": "stream",
          "name": "stdout",
          "text": [
            "Number of records after 2021: 749434\n"
          ]
        }
      ]
    },
    {
      "cell_type": "code",
      "source": [
        "# Create User-Item Interaction Matrix\n",
        "user_item_matrix = new_data.pivot(index='userId', columns='movieId', values='rating').fillna(0)\n",
        "\n",
        "# 查看生成的交互矩阵\n",
        "print(\"User-Item Interaction Matrix:\")\n",
        "print(user_item_matrix.head())\n"
      ],
      "metadata": {
        "id": "N97zzl6ofZ7R",
        "outputId": "5036c748-0801-458a-aaed-df06852668a9",
        "colab": {
          "base_uri": "https://localhost:8080/"
        }
      },
      "execution_count": 10,
      "outputs": [
        {
          "output_type": "stream",
          "name": "stdout",
          "text": [
            "User-Item Interaction Matrix:\n",
            "movieId  1       2       3       4       5       6       7       8       \\\n",
            "userId                                                                    \n",
            "22          0.0     0.0     0.0     0.0     0.0     0.0     0.0     0.0   \n",
            "28          0.0     0.0     0.0     0.0     0.0     0.0     0.0     0.0   \n",
            "31          0.0     0.0     0.0     0.0     0.0     0.0     0.0     0.0   \n",
            "75          0.0     0.0     0.0     0.0     0.0     0.0     0.0     0.0   \n",
            "79          0.0     0.0     0.0     0.0     0.0     0.0     0.0     0.0   \n",
            "\n",
            "movieId  9       10      ...  292617  292619  292625  292627  292709  292731  \\\n",
            "userId                   ...                                                   \n",
            "22          0.0     0.0  ...     0.0     0.0     0.0     0.0     0.0     0.0   \n",
            "28          0.0     0.0  ...     0.0     0.0     0.0     0.0     0.0     0.0   \n",
            "31          0.0     0.0  ...     0.0     0.0     0.0     0.0     0.0     0.0   \n",
            "75          0.0     0.0  ...     0.0     0.0     0.0     0.0     0.0     0.0   \n",
            "79          0.0     0.0  ...     0.0     0.0     0.0     0.0     0.0     0.0   \n",
            "\n",
            "movieId  292737  292753  292755  292757  \n",
            "userId                                   \n",
            "22          0.0     0.0     0.0     0.0  \n",
            "28          0.0     0.0     0.0     0.0  \n",
            "31          0.0     0.0     0.0     0.0  \n",
            "75          0.0     0.0     0.0     0.0  \n",
            "79          0.0     0.0     0.0     0.0  \n",
            "\n",
            "[5 rows x 35968 columns]\n"
          ]
        }
      ]
    },
    {
      "cell_type": "code",
      "source": [
        "from sklearn.model_selection import train_test_split\n",
        "\n",
        "# Split into train and test sets\n",
        "train_data, test_data = train_test_split(user_item_matrix, test_size=0.2, random_state=42)\n",
        "\n",
        "# 创建掩码 (Mask) 矩阵，用于标记已评分的数据\n",
        "train_mask = (train_data > 0).astype(float)\n",
        "test_mask = (test_data > 0).astype(float)\n",
        "\n",
        "print(f\"Train data shape: {train_data.shape}\")\n",
        "print(f\"Test data shape: {test_data.shape}\")\n"
      ],
      "metadata": {
        "colab": {
          "base_uri": "https://localhost:8080/"
        },
        "id": "m1dJpPTZgoTc",
        "outputId": "eff2755e-b317-438a-a5ba-b289203a1134"
      },
      "execution_count": 11,
      "outputs": [
        {
          "output_type": "stream",
          "name": "stdout",
          "text": [
            "Train data shape: (6872, 35968)\n",
            "Test data shape: (1718, 35968)\n"
          ]
        }
      ]
    },
    {
      "cell_type": "code",
      "source": [
        "# Define hyperparameters\n",
        "num_items = user_item_matrix.shape[1]\n",
        "hidden_neurons = 500\n",
        "learning_rate = 0.001\n",
        "lambda_value = 0.1\n",
        "batch_size = 128\n",
        "epochs = 50\n",
        "\n",
        "# Instantiate and train the model\n",
        "autorec = AutoRec(num_items, hidden_neurons, learning_rate, lambda_value)\n",
        "autorec.train(train_data.values, train_mask.values, epochs, batch_size)\n",
        "\n",
        "# Predict on test set\n",
        "test_predictions = autorec.predict(test_data.values)\n",
        "\n",
        "# Evaluate the model\n",
        "from sklearn.metrics import mean_squared_error, mean_absolute_error\n",
        "\n",
        "true_ratings = test_data.values[test_mask.values > 0]\n",
        "predicted_ratings = test_predictions[test_mask.values > 0]\n",
        "\n",
        "rmse = np.sqrt(mean_squared_error(true_ratings, predicted_ratings))\n",
        "mae = mean_absolute_error(true_ratings, predicted_ratings)\n",
        "\n",
        "print(f\"RMSE: {rmse:.4f}, MAE: {mae:.4f}\")\n"
      ],
      "metadata": {
        "colab": {
          "base_uri": "https://localhost:8080/"
        },
        "id": "oFeJf2m1grex",
        "outputId": "d9b29a32-67b6-49db-c108-ab35eafda4d9"
      },
      "execution_count": null,
      "outputs": [
        {
          "output_type": "stream",
          "name": "stdout",
          "text": [
            "Epoch 1, Loss: 249.6332752019063\n",
            "Epoch 2, Loss: 94.93822233224498\n",
            "Epoch 3, Loss: 85.24340415306224\n",
            "Epoch 4, Loss: 78.94402216421712\n",
            "Epoch 5, Loss: 73.09546942927368\n",
            "Epoch 6, Loss: 67.7627881086747\n",
            "Epoch 7, Loss: 63.126176862972024\n",
            "Epoch 8, Loss: 58.9256259975944\n",
            "Epoch 9, Loss: 55.18542189148447\n",
            "Epoch 10, Loss: 51.61791331387787\n",
            "Epoch 11, Loss: 48.582805984372726\n",
            "Epoch 12, Loss: 46.35387675559562\n",
            "Epoch 13, Loss: 45.457907982005786\n",
            "Epoch 14, Loss: 43.50829889832609\n",
            "Epoch 15, Loss: 38.375068673432494\n",
            "Epoch 16, Loss: 34.91625031547857\n",
            "Epoch 17, Loss: 32.96637371449587\n",
            "Epoch 18, Loss: 30.9753539115364\n",
            "Epoch 19, Loss: 29.25818642026748\n",
            "Epoch 20, Loss: 28.03268425511814\n",
            "Epoch 21, Loss: 27.34749943441229\n",
            "Epoch 22, Loss: 27.587528641759587\n",
            "Epoch 23, Loss: 27.557786508544638\n",
            "Epoch 24, Loss: 27.843046070671747\n",
            "Epoch 25, Loss: 28.694127288214403\n",
            "Epoch 26, Loss: 27.323436945780887\n",
            "Epoch 27, Loss: 24.34349271443448\n",
            "Epoch 28, Loss: 21.695066032365258\n",
            "Epoch 29, Loss: 20.457512656801377\n",
            "Epoch 30, Loss: 19.705203836816292\n",
            "Epoch 31, Loss: 19.384537986604382\n",
            "Epoch 32, Loss: 18.880722259059635\n",
            "Epoch 33, Loss: 18.68090243000923\n",
            "Epoch 34, Loss: 18.565483546229263\n",
            "Epoch 35, Loss: 18.600177236430444\n",
            "Epoch 36, Loss: 18.970162299514786\n",
            "Epoch 37, Loss: 20.000734446906378\n",
            "Epoch 38, Loss: 21.055608835986384\n",
            "Epoch 39, Loss: 22.691236626977\n",
            "Epoch 40, Loss: 24.006237345330234\n",
            "Epoch 41, Loss: 22.68615989107747\n",
            "Epoch 42, Loss: 20.06808429047448\n",
            "Epoch 43, Loss: 18.373644774395874\n",
            "Epoch 44, Loss: 17.479567895252018\n",
            "Epoch 45, Loss: 17.244746251489286\n",
            "Epoch 46, Loss: 17.14942319290463\n",
            "Epoch 47, Loss: 17.290981554735247\n",
            "Epoch 48, Loss: 17.24689864668219\n",
            "Epoch 49, Loss: 17.435444966184107\n",
            "Epoch 50, Loss: 17.61430534744707\n"
          ]
        }
      ]
    }
  ]
}