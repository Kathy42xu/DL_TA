{
  "cells": [
    {
      "cell_type": "markdown",
      "id": "733f8cec",
      "metadata": {
        "id": "733f8cec"
      },
      "source": [
        "# Quick refresher on Python\n",
        "\n",
        "Python is a high-level, dynamically typed multiparadigm programming language. Python code is often said to be almost like pseudocode, since it allows you to express very powerful ideas in very few lines of code while being very readable.\n",
        "\n",
        "This notebook is adapted from the notebook in [CS224N: Natural Language Processing with Deep Learning](https://web.stanford.edu/class/cs224n/) at Stanford.\n",
        "\n",
        "In this notebook, we give a quick review on Python. We will\n",
        "cover\n",
        "\n",
        "* Basic Python: Basic data types (Containers, Lists, Dictionaries, Sets, Tuples), Functions, Classes, Loops\n",
        "* Numpy: Arrays, Array indexing, Datatypes, Array math, Broadcasting"
      ]
    },
    {
      "cell_type": "markdown",
      "id": "85rWy6nUo7OK",
      "metadata": {
        "id": "85rWy6nUo7OK"
      },
      "source": [
        "You can check your Python version at the command line by running python --version."
      ]
    },
    {
      "cell_type": "code",
      "execution_count": 2,
      "id": "1075v8sCooK0",
      "metadata": {
        "id": "1075v8sCooK0"
      },
      "outputs": [
        {
          "name": "stdout",
          "output_type": "stream",
          "text": [
            "zsh:1: command not found: python\n"
          ]
        }
      ],
      "source": [
        "!python --version"
      ]
    },
    {
      "cell_type": "markdown",
      "id": "UettYemUprcN",
      "metadata": {
        "id": "UettYemUprcN"
      },
      "source": [
        "## Basic data types and operations"
      ]
    },
    {
      "cell_type": "markdown",
      "id": "nv4nH8WGpP10",
      "metadata": {
        "id": "nv4nH8WGpP10"
      },
      "source": [
        "### Numbers\n",
        "\n",
        "Integers and floats work as you would expect from other languages:"
      ]
    },
    {
      "cell_type": "code",
      "execution_count": 3,
      "id": "cftEjDxZpWDS",
      "metadata": {
        "id": "cftEjDxZpWDS"
      },
      "outputs": [
        {
          "name": "stdout",
          "output_type": "stream",
          "text": [
            "3 <class 'int'>\n"
          ]
        }
      ],
      "source": [
        "x = 3\n",
        "print(x, type(x))"
      ]
    },
    {
      "cell_type": "code",
      "execution_count": 4,
      "id": "hRNEYp1UpX5Q",
      "metadata": {
        "id": "hRNEYp1UpX5Q"
      },
      "outputs": [
        {
          "name": "stdout",
          "output_type": "stream",
          "text": [
            "4\n",
            "2\n",
            "6\n",
            "9\n"
          ]
        }
      ],
      "source": [
        "print(x + 1)   # Addition\n",
        "print(x - 1)   # Subtraction\n",
        "print(x * 2)   # Multiplication\n",
        "print(x ** 2)  # Exponentiation"
      ]
    },
    {
      "cell_type": "code",
      "execution_count": 5,
      "id": "WhwZpFQOpZ06",
      "metadata": {
        "id": "WhwZpFQOpZ06"
      },
      "outputs": [
        {
          "name": "stdout",
          "output_type": "stream",
          "text": [
            "4\n",
            "8\n"
          ]
        }
      ],
      "source": [
        "x += 1\n",
        "print(x)\n",
        "x *= 2\n",
        "print(x)"
      ]
    },
    {
      "cell_type": "code",
      "execution_count": 6,
      "id": "0U19W0gBpcey",
      "metadata": {
        "id": "0U19W0gBpcey"
      },
      "outputs": [
        {
          "name": "stdout",
          "output_type": "stream",
          "text": [
            "<class 'float'>\n",
            "2.5 3.5 5.0 6.25\n"
          ]
        }
      ],
      "source": [
        "y = 2.5\n",
        "print(type(y))\n",
        "print(y, y + 1, y * 2, y ** 2)"
      ]
    },
    {
      "cell_type": "markdown",
      "id": "Kt0vx1Bqpey4",
      "metadata": {
        "id": "Kt0vx1Bqpey4"
      },
      "source": [
        "### Booleans\n",
        "\n",
        "Python implements all of the usual operators for Boolean logic, but uses English words rather than symbols (&&, ||, etc.):"
      ]
    },
    {
      "cell_type": "code",
      "execution_count": 7,
      "id": "vMr1FXibp2Zg",
      "metadata": {
        "id": "vMr1FXibp2Zg"
      },
      "outputs": [
        {
          "name": "stdout",
          "output_type": "stream",
          "text": [
            "<class 'bool'>\n"
          ]
        }
      ],
      "source": [
        "t, f = True, False\n",
        "print(type(t))"
      ]
    },
    {
      "cell_type": "code",
      "execution_count": null,
      "id": "caLJALK5p4fc",
      "metadata": {
        "id": "caLJALK5p4fc"
      },
      "outputs": [],
      "source": [
        "print(t and f) # Logical AND;\n",
        "print(t or f)  # Logical OR;\n",
        "print(not t)   # Logical NOT;\n",
        "print(t != f)  # Logical XOR;"
      ]
    },
    {
      "cell_type": "markdown",
      "id": "UgXj5F4dp757",
      "metadata": {
        "id": "UgXj5F4dp757"
      },
      "source": [
        "### Strings\n",
        "\n",
        "You can find a list of all string methods in the [documentation](https://docs.python.org/3.7/library/stdtypes.html#string-methods)."
      ]
    },
    {
      "cell_type": "code",
      "execution_count": 8,
      "id": "6b8pYx30p_kj",
      "metadata": {
        "id": "6b8pYx30p_kj"
      },
      "outputs": [
        {
          "name": "stdout",
          "output_type": "stream",
          "text": [
            "hello 5\n"
          ]
        }
      ],
      "source": [
        "hello = 'hello'   # String literals can use single quotes\n",
        "world = \"world\"   # or double quotes; it does not matter\n",
        "print(hello, len(hello))"
      ]
    },
    {
      "cell_type": "code",
      "execution_count": null,
      "id": "TxVP2aW4qCoA",
      "metadata": {
        "id": "TxVP2aW4qCoA"
      },
      "outputs": [],
      "source": [
        "hw = hello + ' ' + world  # String concatenation\n",
        "print(hw)"
      ]
    },
    {
      "cell_type": "code",
      "execution_count": 9,
      "id": "KIp5c7l4qEWk",
      "metadata": {
        "id": "KIp5c7l4qEWk"
      },
      "outputs": [
        {
          "name": "stdout",
          "output_type": "stream",
          "text": [
            "hello world 12\n"
          ]
        }
      ],
      "source": [
        "hw12 = '{} {} {}'.format(hello, world, 12)  # string formatting\n",
        "print(hw12)"
      ]
    },
    {
      "cell_type": "code",
      "execution_count": 10,
      "id": "D2t2bZpMqH8l",
      "metadata": {
        "id": "D2t2bZpMqH8l"
      },
      "outputs": [
        {
          "name": "stdout",
          "output_type": "stream",
          "text": [
            "Hello\n",
            "HELLO\n",
            "  hello\n",
            " hello \n",
            "he(ell)(ell)o\n",
            "world\n"
          ]
        }
      ],
      "source": [
        "s = \"hello\"\n",
        "print(s.capitalize())  # Capitalize a string\n",
        "print(s.upper())       # Convert a string to uppercase; prints \"HELLO\"\n",
        "print(s.rjust(7))      # Right-justify a string, padding with spaces\n",
        "print(s.center(7))     # Center a string, padding with spaces\n",
        "print(s.replace('l', '(ell)'))  # Replace all instances of one substring with another\n",
        "print('  world '.strip())  # Strip leading and trailing whitespace"
      ]
    },
    {
      "cell_type": "markdown",
      "id": "347cd487",
      "metadata": {
        "id": "347cd487"
      },
      "source": [
        "## Collections"
      ]
    },
    {
      "cell_type": "markdown",
      "id": "e691f94d",
      "metadata": {
        "id": "e691f94d"
      },
      "source": [
        "Python has several built-in types that are useful for storing and manipulating data: list, tuple, dict. Here is the official Python documentation on these types (and many others): https://docs.python.org/3/library/stdtypes.html."
      ]
    },
    {
      "cell_type": "markdown",
      "id": "635401d7",
      "metadata": {
        "id": "635401d7"
      },
      "source": [
        "### Lists"
      ]
    },
    {
      "cell_type": "markdown",
      "id": "ce42dfd9",
      "metadata": {
        "id": "ce42dfd9"
      },
      "source": [
        "Lists are mutable arrays (you can change the object's state after you've created it). Let's see how they work."
      ]
    },
    {
      "cell_type": "code",
      "execution_count": 11,
      "id": "3f24605e",
      "metadata": {
        "id": "3f24605e"
      },
      "outputs": [],
      "source": [
        "names = [\"Zach\", \"Jay\"]"
      ]
    },
    {
      "cell_type": "code",
      "execution_count": 12,
      "id": "ae2fb323",
      "metadata": {
        "id": "ae2fb323"
      },
      "outputs": [
        {
          "name": "stdout",
          "output_type": "stream",
          "text": [
            "Zach\n"
          ]
        }
      ],
      "source": [
        "# Index into list by index\n",
        "print(names[0])"
      ]
    },
    {
      "cell_type": "code",
      "execution_count": 13,
      "id": "64066853",
      "metadata": {
        "id": "64066853"
      },
      "outputs": [
        {
          "name": "stdout",
          "output_type": "stream",
          "text": [
            "['Zach', 'Jay', 'Richard']\n"
          ]
        }
      ],
      "source": [
        "# Append to list (appends to end of list)\n",
        "names.append(\"Richard\")\n",
        "print(names)"
      ]
    },
    {
      "cell_type": "code",
      "execution_count": 14,
      "id": "357799cc",
      "metadata": {
        "id": "357799cc"
      },
      "outputs": [
        {
          "name": "stdout",
          "output_type": "stream",
          "text": [
            "3\n"
          ]
        }
      ],
      "source": [
        "# Get length of list\n",
        "print(len(names))"
      ]
    },
    {
      "cell_type": "code",
      "execution_count": 15,
      "id": "8977adcf",
      "metadata": {
        "id": "8977adcf"
      },
      "outputs": [
        {
          "name": "stdout",
          "output_type": "stream",
          "text": [
            "['Zach', 'Jay', 'Richard', 'Abi', 'Kevin']\n"
          ]
        }
      ],
      "source": [
        "# Concatenate two lists\n",
        "# += operator is a short hand for list1 = list1 + list2 (can also be used for -, *, / and on other types of variables)\n",
        "names += [\"Abi\", \"Kevin\"]\n",
        "print(names)"
      ]
    },
    {
      "cell_type": "code",
      "execution_count": 16,
      "id": "57c178a7",
      "metadata": {
        "id": "57c178a7"
      },
      "outputs": [],
      "source": [
        "# Two ways to create an empty list\n",
        "more_names = []\n",
        "more_names = list()"
      ]
    },
    {
      "cell_type": "code",
      "execution_count": 17,
      "id": "7913fce7",
      "metadata": {
        "id": "7913fce7",
        "scrolled": true
      },
      "outputs": [
        {
          "name": "stdout",
          "output_type": "stream",
          "text": [
            "[1, ['hi', 'bye'], -0.12, None]\n"
          ]
        }
      ],
      "source": [
        "# Create a list that contains different data types, this is allowed in Python\n",
        "stuff = [1, [\"hi\", \"bye\"], -0.12, None]\n",
        "print(stuff)"
      ]
    },
    {
      "cell_type": "markdown",
      "id": "68682c20",
      "metadata": {
        "id": "68682c20"
      },
      "source": [
        "List slicing is a useful way to access a slice of elements in a list."
      ]
    },
    {
      "cell_type": "code",
      "execution_count": 18,
      "id": "8fc049ef",
      "metadata": {
        "id": "8fc049ef"
      },
      "outputs": [
        {
          "name": "stdout",
          "output_type": "stream",
          "text": [
            "[0, 1, 2]\n"
          ]
        }
      ],
      "source": [
        "numbers = [0, 1, 2, 3, 4, 5, 6]\n",
        "\n",
        "# Slices from start index (inclusive) to end index (exclusive)\n",
        "print(numbers[0:3])"
      ]
    },
    {
      "cell_type": "code",
      "execution_count": 19,
      "id": "3e34a509",
      "metadata": {
        "id": "3e34a509"
      },
      "outputs": [
        {
          "name": "stdout",
          "output_type": "stream",
          "text": [
            "[0, 1, 2]\n",
            "[5, 6]\n"
          ]
        }
      ],
      "source": [
        "# When start index is not specified, it is start of list\n",
        "# When end index is not specified, it is end of list\n",
        "print(numbers[:3])\n",
        "print(numbers[5:])"
      ]
    },
    {
      "cell_type": "code",
      "execution_count": 20,
      "id": "813da35a",
      "metadata": {
        "id": "813da35a"
      },
      "outputs": [
        {
          "name": "stdout",
          "output_type": "stream",
          "text": [
            "[0, 1, 2, 3, 4, 5, 6]\n"
          ]
        }
      ],
      "source": [
        "# : takes the slice of all elements along a dimension, is very useful when working with numpy arrays\n",
        "print(numbers[:])"
      ]
    },
    {
      "cell_type": "code",
      "execution_count": 21,
      "id": "eaa197af",
      "metadata": {
        "id": "eaa197af"
      },
      "outputs": [
        {
          "name": "stdout",
          "output_type": "stream",
          "text": [
            "6\n",
            "[4, 5, 6]\n",
            "[3, 4]\n"
          ]
        }
      ],
      "source": [
        "# Negative index wraps around, start counting from the end of list\n",
        "print(numbers[-1])\n",
        "print(numbers[-3:])\n",
        "print(numbers[3:-2])"
      ]
    },
    {
      "cell_type": "markdown",
      "id": "22371049",
      "metadata": {
        "id": "22371049"
      },
      "source": [
        "### Tuples"
      ]
    },
    {
      "cell_type": "markdown",
      "id": "bfca6098",
      "metadata": {
        "id": "bfca6098"
      },
      "source": [
        "Tuples are immutable arrays (cannot be changed after creation). Let's see how they work."
      ]
    },
    {
      "cell_type": "code",
      "execution_count": 22,
      "id": "b542e470",
      "metadata": {
        "id": "b542e470"
      },
      "outputs": [],
      "source": [
        "# Use parentheses for tuples, square brackets for lists\n",
        "names = (\"Zach\", \"Jay\")"
      ]
    },
    {
      "cell_type": "code",
      "execution_count": 23,
      "id": "3906a033",
      "metadata": {
        "id": "3906a033"
      },
      "outputs": [
        {
          "name": "stdout",
          "output_type": "stream",
          "text": [
            "Zach\n",
            "2\n"
          ]
        }
      ],
      "source": [
        "# Syntax for accessing an element and getting length are the same as lists\n",
        "print(names[0])\n",
        "print(len(names))"
      ]
    },
    {
      "cell_type": "code",
      "execution_count": 24,
      "id": "8799a4c5",
      "metadata": {
        "id": "8799a4c5"
      },
      "outputs": [
        {
          "ename": "TypeError",
          "evalue": "'tuple' object does not support item assignment",
          "output_type": "error",
          "traceback": [
            "\u001b[0;31m---------------------------------------------------------------------------\u001b[0m",
            "\u001b[0;31mTypeError\u001b[0m                                 Traceback (most recent call last)",
            "Cell \u001b[0;32mIn[24], line 2\u001b[0m\n\u001b[1;32m      1\u001b[0m \u001b[38;5;66;03m# But unlike lists, tuples do not support item re-assignment\u001b[39;00m\n\u001b[0;32m----> 2\u001b[0m \u001b[43mnames\u001b[49m\u001b[43m[\u001b[49m\u001b[38;5;241;43m0\u001b[39;49m\u001b[43m]\u001b[49m \u001b[38;5;241m=\u001b[39m \u001b[38;5;124m\"\u001b[39m\u001b[38;5;124mRichard\u001b[39m\u001b[38;5;124m\"\u001b[39m\n",
            "\u001b[0;31mTypeError\u001b[0m: 'tuple' object does not support item assignment"
          ]
        }
      ],
      "source": [
        "# But unlike lists, tuples do not support item re-assignment\n",
        "names[0] = \"Richard\""
      ]
    },
    {
      "cell_type": "code",
      "execution_count": 25,
      "id": "9918ac4b",
      "metadata": {
        "id": "9918ac4b"
      },
      "outputs": [
        {
          "name": "stdout",
          "output_type": "stream",
          "text": [
            "()\n",
            "(10,)\n"
          ]
        }
      ],
      "source": [
        "# Create an empty tuple\n",
        "empty = tuple()\n",
        "print(empty)\n",
        "\n",
        "# Create a tuple with a single item, the comma is important\n",
        "single = (10,)\n",
        "print(single)"
      ]
    },
    {
      "cell_type": "markdown",
      "id": "00800704",
      "metadata": {
        "id": "00800704"
      },
      "source": [
        "### Dictionary"
      ]
    },
    {
      "cell_type": "markdown",
      "id": "8111c6c3",
      "metadata": {
        "id": "8111c6c3"
      },
      "source": [
        "Dictionaries are hash maps. Let's see how they work."
      ]
    },
    {
      "cell_type": "code",
      "execution_count": 26,
      "id": "646bda2f",
      "metadata": {
        "id": "646bda2f"
      },
      "outputs": [],
      "source": [
        "# Two ways to create an empty dictionary\n",
        "phonebook = {}\n",
        "phonebook = dict()"
      ]
    },
    {
      "cell_type": "code",
      "execution_count": 27,
      "id": "65c67196",
      "metadata": {
        "id": "65c67196"
      },
      "outputs": [],
      "source": [
        "# Create dictionary with one item\n",
        "phonebook = {\"Zach\": \"12-37\"}\n",
        "# Add another item\n",
        "phonebook[\"Jay\"] = \"34-23\""
      ]
    },
    {
      "cell_type": "code",
      "execution_count": 28,
      "id": "1bc431d9",
      "metadata": {
        "id": "1bc431d9"
      },
      "outputs": [
        {
          "name": "stdout",
          "output_type": "stream",
          "text": [
            "True\n",
            "False\n"
          ]
        }
      ],
      "source": [
        "# Check if a key is in the dictionary\n",
        "print(\"Zach\" in phonebook)\n",
        "print(\"Kevin\" in phonebook)"
      ]
    },
    {
      "cell_type": "code",
      "execution_count": 29,
      "id": "87018123",
      "metadata": {
        "id": "87018123"
      },
      "outputs": [
        {
          "name": "stdout",
          "output_type": "stream",
          "text": [
            "34-23\n"
          ]
        }
      ],
      "source": [
        "# Get corresponding value for a key\n",
        "print(phonebook[\"Jay\"])"
      ]
    },
    {
      "cell_type": "code",
      "execution_count": 30,
      "id": "f3WxAt6HrPcI",
      "metadata": {
        "id": "f3WxAt6HrPcI"
      },
      "outputs": [
        {
          "name": "stdout",
          "output_type": "stream",
          "text": [
            "N/A\n",
            "34-23\n"
          ]
        }
      ],
      "source": [
        "print(phonebook.get('Kevin', 'N/A'))    # Get an element with a default; prints \"N/A\"\n",
        "print(phonebook.get('Jay', 'N/A'))    # Get an element with a default; prints \"34-23\""
      ]
    },
    {
      "cell_type": "code",
      "execution_count": 33,
      "id": "18555a3a",
      "metadata": {
        "id": "18555a3a"
      },
      "outputs": [
        {
          "ename": "KeyError",
          "evalue": "'Zach'",
          "output_type": "error",
          "traceback": [
            "\u001b[0;31m---------------------------------------------------------------------------\u001b[0m",
            "\u001b[0;31mKeyError\u001b[0m                                  Traceback (most recent call last)",
            "Cell \u001b[0;32mIn[33], line 2\u001b[0m\n\u001b[1;32m      1\u001b[0m \u001b[38;5;66;03m# Delete an item\u001b[39;00m\n\u001b[0;32m----> 2\u001b[0m \u001b[38;5;28;01mdel\u001b[39;00m \u001b[43mphonebook\u001b[49m\u001b[43m[\u001b[49m\u001b[38;5;124;43m\"\u001b[39;49m\u001b[38;5;124;43mZach\u001b[39;49m\u001b[38;5;124;43m\"\u001b[39;49m\u001b[43m]\u001b[49m\n\u001b[1;32m      3\u001b[0m \u001b[38;5;28mprint\u001b[39m(phonebook)\n",
            "\u001b[0;31mKeyError\u001b[0m: 'Zach'"
          ]
        }
      ],
      "source": [
        "# Delete an item\n",
        "del phonebook[\"Zach\"]\n",
        "print(phonebook)"
      ]
    },
    {
      "cell_type": "markdown",
      "id": "7Tq12JRFsCEW",
      "metadata": {
        "id": "7Tq12JRFsCEW"
      },
      "source": [
        "### Sets\n",
        "\n"
      ]
    },
    {
      "cell_type": "markdown",
      "id": "kV51dBb8sOlk",
      "metadata": {
        "id": "kV51dBb8sOlk"
      },
      "source": [
        "A set is an unordered collection of distinct elements. As a simple example, consider the following:"
      ]
    },
    {
      "cell_type": "code",
      "execution_count": 34,
      "id": "tLJzqpCjsQV8",
      "metadata": {
        "id": "tLJzqpCjsQV8"
      },
      "outputs": [
        {
          "name": "stdout",
          "output_type": "stream",
          "text": [
            "True\n",
            "False\n"
          ]
        }
      ],
      "source": [
        "animals = {'cat', 'dog'}\n",
        "print('cat' in animals)   # Check if an element is in a set; prints \"True\"\n",
        "print('fish' in animals)  # prints \"False\""
      ]
    },
    {
      "cell_type": "code",
      "execution_count": 35,
      "id": "0-bdJFsssSSk",
      "metadata": {
        "id": "0-bdJFsssSSk"
      },
      "outputs": [
        {
          "name": "stdout",
          "output_type": "stream",
          "text": [
            "True\n",
            "3\n"
          ]
        }
      ],
      "source": [
        "animals.add('fish')      # Add an element to a set\n",
        "print('fish' in animals)\n",
        "print(len(animals))       # Number of elements in a set;"
      ]
    },
    {
      "cell_type": "markdown",
      "id": "60aceb86",
      "metadata": {
        "id": "60aceb86"
      },
      "source": [
        "## Loops"
      ]
    },
    {
      "cell_type": "code",
      "execution_count": 36,
      "id": "f7189f9d",
      "metadata": {
        "id": "f7189f9d"
      },
      "outputs": [
        {
          "name": "stdout",
          "output_type": "stream",
          "text": [
            "0\n",
            "1\n",
            "2\n",
            "3\n",
            "4\n"
          ]
        }
      ],
      "source": [
        "# Basic for loop\n",
        "for i in range(5):\n",
        "    print(i)"
      ]
    },
    {
      "cell_type": "code",
      "execution_count": null,
      "id": "10ae15db",
      "metadata": {
        "id": "10ae15db"
      },
      "outputs": [],
      "source": [
        "# To iterate over a list\n",
        "names = [\"Zach\", \"Jay\", \"Richard\"]\n",
        "for name in names:\n",
        "    print(name)"
      ]
    },
    {
      "cell_type": "code",
      "execution_count": null,
      "id": "00d5035b",
      "metadata": {
        "id": "00d5035b"
      },
      "outputs": [],
      "source": [
        "# To iterate over indices and values in a list\n",
        "# Way 1\n",
        "for i in range(len(names)):\n",
        "    print(i, names[i])\n",
        "\n",
        "print(\"---\")\n",
        "\n",
        "# Way 2\n",
        "for i, name in enumerate(names):\n",
        "    print(i, name)"
      ]
    },
    {
      "cell_type": "code",
      "execution_count": null,
      "id": "f18b7ce6",
      "metadata": {
        "id": "f18b7ce6"
      },
      "outputs": [],
      "source": [
        "# To iterate over a dictionary\n",
        "phonebook = {\"Zach\": \"12-37\", \"Jay\": \"34-23\"}\n",
        "\n",
        "# Iterate over keys\n",
        "for name in phonebook:\n",
        "    print(name)\n",
        "\n",
        "print(\"---\")\n",
        "\n",
        "# Iterate over values\n",
        "for number in phonebook.values():\n",
        "    print(number)\n",
        "\n",
        "print(\"---\")\n",
        "\n",
        "# Iterate over keys and values\n",
        "for name, number in phonebook.items():\n",
        "    print(name, number)"
      ]
    },
    {
      "cell_type": "markdown",
      "id": "MrzoI6QzsmY6",
      "metadata": {
        "id": "MrzoI6QzsmY6"
      },
      "source": [
        "## Functions"
      ]
    },
    {
      "cell_type": "markdown",
      "id": "JqnEoZDasqbM",
      "metadata": {
        "id": "JqnEoZDasqbM"
      },
      "source": [
        "Python functions are defined using the `def` keyword. For example:"
      ]
    },
    {
      "cell_type": "code",
      "execution_count": null,
      "id": "Og21SIQ0spxk",
      "metadata": {
        "id": "Og21SIQ0spxk"
      },
      "outputs": [],
      "source": [
        "def sign(x):\n",
        "    if x > 0:\n",
        "        return 'positive'\n",
        "    elif x < 0:\n",
        "        return 'negative'\n",
        "    else:\n",
        "        return 'zero'\n",
        "\n",
        "for x in [-1, 0, 1]:\n",
        "    print(sign(x))"
      ]
    },
    {
      "cell_type": "markdown",
      "id": "AUFjN0gUs0js",
      "metadata": {
        "id": "AUFjN0gUs0js"
      },
      "source": [
        "We will often define functions to take optional keyword arguments, like this:"
      ]
    },
    {
      "cell_type": "code",
      "execution_count": null,
      "id": "nhX69kBisvUC",
      "metadata": {
        "id": "nhX69kBisvUC"
      },
      "outputs": [],
      "source": [
        "def hello(name, loud=False):\n",
        "    if loud:\n",
        "        print('HELLO, {}'.format(name.upper()))\n",
        "    else:\n",
        "        print('Hello, {}!'.format(name))\n",
        "\n",
        "hello('Bob')\n",
        "hello('Fred', loud=True)"
      ]
    },
    {
      "cell_type": "markdown",
      "id": "tdD9NGx9s2eW",
      "metadata": {
        "id": "tdD9NGx9s2eW"
      },
      "source": [
        "## Classes"
      ]
    },
    {
      "cell_type": "markdown",
      "id": "Ho_sfOfAs5hR",
      "metadata": {
        "id": "Ho_sfOfAs5hR"
      },
      "source": [
        "The syntax for defining classes in Python is straightforward:"
      ]
    },
    {
      "cell_type": "code",
      "execution_count": null,
      "id": "kEr9Hv5ps80O",
      "metadata": {
        "id": "kEr9Hv5ps80O"
      },
      "outputs": [],
      "source": [
        "class Greeter:\n",
        "\n",
        "    # Constructor\n",
        "    def __init__(self, name):\n",
        "        self.name = name  # Create an instance variable\n",
        "\n",
        "    # Instance method\n",
        "    def greet(self, loud=False):\n",
        "        if loud:\n",
        "          print('HELLO, {}'.format(self.name.upper()))\n",
        "        else:\n",
        "          print('Hello, {}!'.format(self.name))\n",
        "\n",
        "g = Greeter('Fred')  # Construct an instance of the Greeter class\n",
        "g.greet()            # Call an instance method; prints \"Hello, Fred\"\n",
        "g.greet(loud=True)   # Call an instance method; prints \"HELLO, FRED!\""
      ]
    },
    {
      "cell_type": "markdown",
      "id": "e9661ef4",
      "metadata": {
        "id": "e9661ef4"
      },
      "source": [
        "## NumPy\n",
        "NumPy is a Python library, which adds support for large, multi-dimensional arrays and matrices, along with a large collection of optimized, high-level mathematical functions to operate on these arrays."
      ]
    },
    {
      "cell_type": "markdown",
      "id": "ecdb0df8",
      "metadata": {
        "id": "ecdb0df8"
      },
      "source": [
        "You may need to install numpy first before importing it in the next cell."
      ]
    },
    {
      "cell_type": "code",
      "execution_count": 37,
      "id": "ab7d3f32",
      "metadata": {
        "id": "ab7d3f32"
      },
      "outputs": [],
      "source": [
        "# Import numpy\n",
        "import numpy as np"
      ]
    },
    {
      "cell_type": "code",
      "execution_count": 38,
      "id": "6596eb30",
      "metadata": {
        "id": "6596eb30",
        "scrolled": false
      },
      "outputs": [
        {
          "name": "stdout",
          "output_type": "stream",
          "text": [
            "(3,)\n",
            "(1, 3)\n",
            "\n",
            "[[6 7]\n",
            " [8 9]]\n",
            "(2, 2)\n"
          ]
        }
      ],
      "source": [
        "# Create numpy arrays from lists\n",
        "x = np.array([1,2,3])\n",
        "a = np.array([[1,2,3]])\n",
        "\n",
        "\n",
        "y = np.array([[3,4,5]])\n",
        "z = np.array([[6,7],[8,9]])\n",
        "\n",
        "# Let's take a look at their shapes.\n",
        "# When working with numpy arrays, .shape will be a very useful debugging tool\n",
        "print(x.shape)\n",
        "print(y.shape)\n",
        "print()\n",
        "print(z)\n",
        "print(z.shape)"
      ]
    },
    {
      "cell_type": "markdown",
      "id": "f4b465bf",
      "metadata": {
        "id": "f4b465bf"
      },
      "source": [
        "Vectors can be represented as 1-D arrays of shape (N,) or 2-D arrays of shape (N, 1) or (1, N). But it's important to note that the shapes (N,), (N, 1), and (1,N) are not the same and may result in different behavior (we'll see some examples below involving matrix multiplication and broadcasting).\n",
        "\n",
        "Matrices are generally represented as 2-D arrays of shape (M, N).\n",
        "\n",
        "The best way to ensure your code gives you the behavior you expect is to keep track of your array shapes and try out small test cases or refer back to documentation when you are unsure."
      ]
    },
    {
      "cell_type": "code",
      "execution_count": 39,
      "id": "A0Wl4qioLmb-",
      "metadata": {
        "id": "A0Wl4qioLmb-"
      },
      "outputs": [
        {
          "name": "stdout",
          "output_type": "stream",
          "text": [
            "[0 1 2 3 4 5 6 7 8 9]\n",
            "\n",
            "[[0 1]\n",
            " [2 3]\n",
            " [4 5]\n",
            " [6 7]\n",
            " [8 9]]\n"
          ]
        }
      ],
      "source": [
        "a = np.arange(10)\n",
        "b = a.reshape((5, 2))\n",
        "print(a)\n",
        "print()\n",
        "print(b)"
      ]
    },
    {
      "cell_type": "markdown",
      "id": "bcb3f37c",
      "metadata": {
        "id": "bcb3f37c"
      },
      "source": [
        "### Array Operations"
      ]
    },
    {
      "cell_type": "markdown",
      "id": "18a8a694",
      "metadata": {
        "id": "18a8a694"
      },
      "source": [
        "There are many NumPy operations that can be used to reduce a numpy array along an axis.\n",
        "\n",
        "Let's look at the np.max operation (documentation: https://numpy.org/doc/stable/reference/generated/numpy.ndarray.max.html)."
      ]
    },
    {
      "cell_type": "code",
      "execution_count": 40,
      "id": "1fcf4220",
      "metadata": {
        "id": "1fcf4220"
      },
      "outputs": [
        {
          "name": "stdout",
          "output_type": "stream",
          "text": [
            "[[1 2]\n",
            " [3 4]\n",
            " [5 6]]\n",
            "\n",
            "(3, 2)\n"
          ]
        }
      ],
      "source": [
        "x = np.array([[1,2],[3,4], [5, 6]])\n",
        "print(x)\n",
        "print()\n",
        "print(x.shape)"
      ]
    },
    {
      "cell_type": "code",
      "execution_count": 41,
      "id": "df82f62e",
      "metadata": {
        "id": "df82f62e"
      },
      "outputs": [
        {
          "name": "stdout",
          "output_type": "stream",
          "text": [
            "[2 4 6]\n"
          ]
        }
      ],
      "source": [
        "print(np.max(x, axis = 1))"
      ]
    },
    {
      "cell_type": "code",
      "execution_count": 42,
      "id": "WDWPbijv7xsw",
      "metadata": {
        "id": "WDWPbijv7xsw"
      },
      "outputs": [
        {
          "name": "stdout",
          "output_type": "stream",
          "text": [
            "(3,)\n"
          ]
        }
      ],
      "source": [
        "print(np.max(x, axis = 1).shape)"
      ]
    },
    {
      "cell_type": "code",
      "execution_count": 43,
      "id": "0e888b74",
      "metadata": {
        "id": "0e888b74"
      },
      "outputs": [
        {
          "name": "stdout",
          "output_type": "stream",
          "text": [
            "[[2]\n",
            " [4]\n",
            " [6]]\n"
          ]
        }
      ],
      "source": [
        "print(np.max(x, axis = 1, keepdims = True))"
      ]
    },
    {
      "cell_type": "code",
      "execution_count": 44,
      "id": "bs1NM9oR703c",
      "metadata": {
        "id": "bs1NM9oR703c"
      },
      "outputs": [
        {
          "name": "stdout",
          "output_type": "stream",
          "text": [
            "(3, 1)\n"
          ]
        }
      ],
      "source": [
        "print(np.max(x, axis = 1, keepdims = True).shape)"
      ]
    },
    {
      "cell_type": "markdown",
      "id": "29ff27ec",
      "metadata": {
        "id": "29ff27ec"
      },
      "source": [
        "Next, let's look at some matrix operations. Let's take an element-wise product (Hadamard product)."
      ]
    },
    {
      "cell_type": "code",
      "execution_count": 47,
      "id": "25aeb52d",
      "metadata": {
        "id": "25aeb52d"
      },
      "outputs": [
        {
          "name": "stdout",
          "output_type": "stream",
          "text": [
            "[[1 2]\n",
            " [3 4]]\n",
            "[[3 3]\n",
            " [3 3]]\n",
            "---\n",
            "[[ 3  6]\n",
            " [ 9 12]]\n"
          ]
        }
      ],
      "source": [
        "A = np.array([[1, 2], [3, 4]])\n",
        "B = np.array([[3, 3], [3, 3]])\n",
        "print(A)\n",
        "print(B)\n",
        "print(\"---\")\n",
        "print(A * B)"
      ]
    },
    {
      "cell_type": "markdown",
      "id": "689f2a8d",
      "metadata": {
        "id": "689f2a8d"
      },
      "source": [
        "We can do matrix multiplication with np.matmul or @."
      ]
    },
    {
      "cell_type": "code",
      "execution_count": 48,
      "id": "c76ec303",
      "metadata": {
        "id": "c76ec303"
      },
      "outputs": [
        {
          "name": "stdout",
          "output_type": "stream",
          "text": [
            "[[ 9  9]\n",
            " [21 21]]\n",
            "[[ 9  9]\n",
            " [21 21]]\n"
          ]
        }
      ],
      "source": [
        "# One way to do matrix multiplication\n",
        "print(np.matmul(A, B))\n",
        "\n",
        "# Another way to do matrix multiplication\n",
        "print(A @ B)"
      ]
    },
    {
      "cell_type": "markdown",
      "id": "62696957",
      "metadata": {
        "id": "62696957"
      },
      "source": [
        "We can take the dot product or a matrix vector product with np.dot."
      ]
    },
    {
      "cell_type": "code",
      "execution_count": 49,
      "id": "0caf84b9",
      "metadata": {
        "id": "0caf84b9"
      },
      "outputs": [
        {
          "name": "stdout",
          "output_type": "stream",
          "text": [
            "321\n",
            "321\n"
          ]
        }
      ],
      "source": [
        "u = np.array([1, 2, 3])\n",
        "v = np.array([1, 10, 100])\n",
        "\n",
        "print(np.dot(u, v))\n",
        "\n",
        "# Can also call numpy operations on the numpy array, useful for chaining together multiple operations\n",
        "print(u.dot(v))"
      ]
    },
    {
      "cell_type": "code",
      "execution_count": 50,
      "id": "43e635bb",
      "metadata": {
        "id": "43e635bb"
      },
      "outputs": [
        {
          "name": "stdout",
          "output_type": "stream",
          "text": [
            "(3,)\n",
            "(3, 2)\n",
            "[531 642]\n",
            "(2,)\n"
          ]
        }
      ],
      "source": [
        "W = np.array([[1, 2], [3, 4], [5, 6]])\n",
        "print(v.shape)\n",
        "print(W.shape)\n",
        "\n",
        "# This works.\n",
        "print(np.dot(v, W))\n",
        "print(np.dot(v, W).shape)"
      ]
    },
    {
      "cell_type": "code",
      "execution_count": 51,
      "id": "683dd6ee",
      "metadata": {
        "id": "683dd6ee"
      },
      "outputs": [
        {
          "ename": "ValueError",
          "evalue": "shapes (3,2) and (3,) not aligned: 2 (dim 1) != 3 (dim 0)",
          "output_type": "error",
          "traceback": [
            "\u001b[0;31m---------------------------------------------------------------------------\u001b[0m",
            "\u001b[0;31mValueError\u001b[0m                                Traceback (most recent call last)",
            "Cell \u001b[0;32mIn[51], line 2\u001b[0m\n\u001b[1;32m      1\u001b[0m \u001b[38;5;66;03m# This does not. Why?\u001b[39;00m\n\u001b[0;32m----> 2\u001b[0m \u001b[38;5;28mprint\u001b[39m(\u001b[43mnp\u001b[49m\u001b[38;5;241;43m.\u001b[39;49m\u001b[43mdot\u001b[49m\u001b[43m(\u001b[49m\u001b[43mW\u001b[49m\u001b[43m,\u001b[49m\u001b[43m \u001b[49m\u001b[43mv\u001b[49m\u001b[43m)\u001b[49m)\n",
            "\u001b[0;31mValueError\u001b[0m: shapes (3,2) and (3,) not aligned: 2 (dim 1) != 3 (dim 0)"
          ]
        }
      ],
      "source": [
        "# This does not. Why?\n",
        "print(np.dot(W, v))"
      ]
    },
    {
      "cell_type": "code",
      "execution_count": null,
      "id": "9e8b2184",
      "metadata": {
        "id": "9e8b2184"
      },
      "outputs": [],
      "source": [
        "# We can fix the above issue by transposing W.\n",
        "print(np.dot(W.T, v))\n",
        "print(np.dot(W.T, v).shape)"
      ]
    },
    {
      "cell_type": "markdown",
      "id": "c13199d8",
      "metadata": {
        "id": "c13199d8"
      },
      "source": [
        "###  Indexing"
      ]
    },
    {
      "cell_type": "markdown",
      "id": "d3d3d5c2",
      "metadata": {
        "id": "d3d3d5c2"
      },
      "source": [
        "Slicing / indexing numpy arrays is a extension of the Python concept of slicing (lists) to N dimensions."
      ]
    },
    {
      "cell_type": "code",
      "execution_count": 52,
      "id": "bb930e29",
      "metadata": {
        "id": "bb930e29",
        "scrolled": true
      },
      "outputs": [
        {
          "name": "stdout",
          "output_type": "stream",
          "text": [
            "[[0.38142953 0.93092601 0.02463752 0.23630907]\n",
            " [0.18649018 0.50592824 0.51176299 0.23252545]\n",
            " [0.26687496 0.07018877 0.61636967 0.89455549]]\n"
          ]
        }
      ],
      "source": [
        "x = np.random.random((3, 4))\n",
        "\n",
        "# Selects all of x\n",
        "print(x[:])"
      ]
    },
    {
      "cell_type": "code",
      "execution_count": 53,
      "id": "16d0fe9a",
      "metadata": {
        "id": "16d0fe9a"
      },
      "outputs": [
        {
          "name": "stdout",
          "output_type": "stream",
          "text": [
            "[[0.38142953 0.93092601 0.02463752 0.23630907]\n",
            " [0.26687496 0.07018877 0.61636967 0.89455549]]\n",
            "---\n",
            "[0.50592824 0.51176299]\n"
          ]
        }
      ],
      "source": [
        "# Selects the 0th and 2nd rows\n",
        "print(x[np.array([0, 2]), :])\n",
        "\n",
        "print(\"---\")\n",
        "\n",
        "# Selects 1st row as 1-D vector and and 1st through 2nd elements\n",
        "print(x[1, 1:3])"
      ]
    },
    {
      "cell_type": "code",
      "execution_count": 54,
      "id": "04bf1911",
      "metadata": {
        "id": "04bf1911"
      },
      "outputs": [
        {
          "name": "stdout",
          "output_type": "stream",
          "text": [
            "[0.93092601 0.50592824 0.51176299 0.61636967 0.89455549]\n"
          ]
        }
      ],
      "source": [
        "# Boolean indexing\n",
        "print(x[x > 0.5])"
      ]
    },
    {
      "cell_type": "code",
      "execution_count": 55,
      "id": "118924a3",
      "metadata": {
        "id": "118924a3"
      },
      "outputs": [
        {
          "name": "stdout",
          "output_type": "stream",
          "text": [
            "[[[0.38142953]\n",
            "  [0.93092601]\n",
            "  [0.02463752]\n",
            "  [0.23630907]]\n",
            "\n",
            " [[0.18649018]\n",
            "  [0.50592824]\n",
            "  [0.51176299]\n",
            "  [0.23252545]]\n",
            "\n",
            " [[0.26687496]\n",
            "  [0.07018877]\n",
            "  [0.61636967]\n",
            "  [0.89455549]]]\n"
          ]
        }
      ],
      "source": [
        "# 3-D vector of shape (3, 4, 1)\n",
        "print(x[:, :, np.newaxis])"
      ]
    },
    {
      "cell_type": "markdown",
      "id": "48e1704f",
      "metadata": {
        "id": "48e1704f"
      },
      "source": [
        "### Broadcasting"
      ]
    },
    {
      "cell_type": "markdown",
      "id": "40d35521",
      "metadata": {
        "id": "40d35521"
      },
      "source": [
        "The term broadcasting describes how NumPy treats arrays with different shapes during arithmetic operations.\n",
        "\n",
        "**General Broadcasting Rules**\n",
        "\n",
        "When operating on two arrays, NumPy compares their shapes element-wise. It starts with the trailing (i.e. rightmost) dimensions and works its way left. Two dimensions are compatible when:\n",
        "- they are equal, or\n",
        "- one of them is 1 (in which case, elements on the axis are repeated along the dimension)\n",
        "\n",
        "See more details and examples: https://numpy.org/doc/stable/user/basics.broadcasting.html\n",
        "\n",
        "**Note**: If you're getting an error, print the shapes of the matrices and investigate from there."
      ]
    },
    {
      "cell_type": "code",
      "execution_count": 56,
      "id": "e3f0c8b1",
      "metadata": {
        "id": "e3f0c8b1"
      },
      "outputs": [],
      "source": [
        "x = np.random.random((3, 4))\n",
        "\n",
        "y = np.random.random((3, 1))\n",
        "z = np.random.random((1, 4))\n",
        "\n",
        "# In this example, y and z are broadcasted to match the shape of x.\n",
        "# y is broadcasted along dim 1.\n",
        "s = x + y\n",
        "# z is broadcasted along dim 0.\n",
        "p = x * z"
      ]
    },
    {
      "cell_type": "code",
      "execution_count": 57,
      "id": "93cdfc8a",
      "metadata": {
        "id": "93cdfc8a"
      },
      "outputs": [
        {
          "name": "stdout",
          "output_type": "stream",
          "text": [
            "(3, 4)\n",
            "\n",
            "(3, 1)\n",
            "(3, 4)\n"
          ]
        }
      ],
      "source": [
        "print(x.shape)\n",
        "print()\n",
        "print(y.shape)\n",
        "print(s.shape)"
      ]
    },
    {
      "cell_type": "code",
      "execution_count": 58,
      "id": "FICMa8RiMR08",
      "metadata": {
        "id": "FICMa8RiMR08"
      },
      "outputs": [
        {
          "name": "stdout",
          "output_type": "stream",
          "text": [
            "[[0. 0. 0.]\n",
            " [0. 0. 0.]\n",
            " [0. 0. 0.]]\n",
            "\n",
            "[[1. 2. 3.]\n",
            " [1. 2. 3.]\n",
            " [1. 2. 3.]]\n"
          ]
        }
      ],
      "source": [
        "a = np.zeros((3, 3))\n",
        "b = np.array([[1, 2, 3]])\n",
        "print(a)\n",
        "print()\n",
        "print(a+b)"
      ]
    },
    {
      "cell_type": "markdown",
      "id": "fec8ae1e",
      "metadata": {
        "id": "fec8ae1e"
      },
      "source": [
        "Let's look at a more complex example."
      ]
    },
    {
      "cell_type": "code",
      "execution_count": 64,
      "id": "2b1b271d",
      "metadata": {
        "id": "2b1b271d"
      },
      "outputs": [
        {
          "data": {
            "text/plain": [
              "array([0.18955774, 0.40346053, 0.36080344])"
            ]
          },
          "execution_count": 64,
          "metadata": {},
          "output_type": "execute_result"
        }
      ],
      "source": [
        "a = np.random.random((3, 4))\n",
        "b = np.random.random((3, 1))\n",
        "c = np.random.random((3, ))\n",
        "a\n",
        "b\n",
        "c"
      ]
    },
    {
      "cell_type": "markdown",
      "id": "972fda59",
      "metadata": {
        "id": "972fda59"
      },
      "source": [
        "What is the expected broadcasting behavior for these operations? What do the following operations give us? What are the resulting shapes?"
      ]
    },
    {
      "cell_type": "code",
      "execution_count": 62,
      "id": "ab0e1d5b",
      "metadata": {
        "id": "ab0e1d5b"
      },
      "outputs": [
        {
          "name": "stdout",
          "output_type": "stream",
          "text": [
            "(3, 1)\n",
            "(1, 3)\n",
            "(3, 3)\n",
            "[[1.49605611 1.32185445 1.43239936]\n",
            " [1.32185445 1.14765279 1.2581977 ]\n",
            " [1.43239936 1.2581977  1.36874262]]\n"
          ]
        }
      ],
      "source": [
        "result1 = b + b.T\n",
        "\n",
        "print(b.shape)\n",
        "print(b.T.shape)\n",
        "print(result1.shape)\n",
        "print(result1)"
      ]
    },
    {
      "cell_type": "markdown",
      "id": "I_ciHeCZ7xwB",
      "metadata": {
        "id": "I_ciHeCZ7xwB"
      },
      "source": [
        "We see the following code has an error. Why we have this error?"
      ]
    },
    {
      "cell_type": "code",
      "execution_count": 63,
      "id": "d7e113be",
      "metadata": {
        "id": "d7e113be",
        "scrolled": true
      },
      "outputs": [
        {
          "ename": "ValueError",
          "evalue": "operands could not be broadcast together with shapes (3,4) (3,) ",
          "output_type": "error",
          "traceback": [
            "\u001b[0;31m---------------------------------------------------------------------------\u001b[0m",
            "\u001b[0;31mValueError\u001b[0m                                Traceback (most recent call last)",
            "Cell \u001b[0;32mIn[63], line 1\u001b[0m\n\u001b[0;32m----> 1\u001b[0m result2 \u001b[38;5;241m=\u001b[39m \u001b[43ma\u001b[49m\u001b[43m \u001b[49m\u001b[38;5;241;43m+\u001b[39;49m\u001b[43m \u001b[49m\u001b[43mc\u001b[49m\n\u001b[1;32m      3\u001b[0m \u001b[38;5;28mprint\u001b[39m(a\u001b[38;5;241m.\u001b[39mshape)\n\u001b[1;32m      4\u001b[0m \u001b[38;5;28mprint\u001b[39m(c\u001b[38;5;241m.\u001b[39mshape)\n",
            "\u001b[0;31mValueError\u001b[0m: operands could not be broadcast together with shapes (3,4) (3,) "
          ]
        }
      ],
      "source": [
        "result2 = a + c\n",
        "\n",
        "print(a.shape)\n",
        "print(c.shape)\n",
        "print(result2.shape)\n",
        "print(result2)"
      ]
    },
    {
      "cell_type": "code",
      "execution_count": null,
      "id": "e91c0c70",
      "metadata": {
        "id": "e91c0c70"
      },
      "outputs": [],
      "source": [
        "result3 = b + c\n",
        "\n",
        "print(b.shape)\n",
        "print(c.shape)\n",
        "print(result3.shape)\n",
        "print(result3)"
      ]
    },
    {
      "cell_type": "code",
      "execution_count": null,
      "id": "L6HlZYlNayZn",
      "metadata": {
        "id": "L6HlZYlNayZn"
      },
      "outputs": [],
      "source": [
        "print(b)\n",
        "print(c)\n",
        "print(result3)"
      ]
    },
    {
      "cell_type": "markdown",
      "id": "0a845479",
      "metadata": {
        "id": "0a845479"
      },
      "source": [
        "### Efficient NumPy Code"
      ]
    },
    {
      "cell_type": "markdown",
      "id": "55c8d74f",
      "metadata": {
        "id": "55c8d74f"
      },
      "source": [
        "When working with numpy arrays, avoid explicit for-loops over indices/axes at all costs. For-loops will dramatically slow down your code (~10-100x)."
      ]
    },
    {
      "cell_type": "markdown",
      "id": "e1285d83",
      "metadata": {
        "id": "e1285d83"
      },
      "source": [
        "We can time code using the %%timeit magic. Let's compare using explicit for-loop vs. using numpy operations."
      ]
    },
    {
      "cell_type": "code",
      "execution_count": 65,
      "id": "ba02c912",
      "metadata": {
        "id": "ba02c912"
      },
      "outputs": [
        {
          "name": "stdout",
          "output_type": "stream",
          "text": [
            "112 ms ± 300 μs per loop (mean ± std. dev. of 7 runs, 10 loops each)\n"
          ]
        }
      ],
      "source": [
        "%%timeit\n",
        "x = np.random.rand(1000, 1000)\n",
        "for i in range(100, 1000):\n",
        "    for j in range(x.shape[1]):\n",
        "        x[i, j] += 5"
      ]
    },
    {
      "cell_type": "code",
      "execution_count": 66,
      "id": "3c96fc83",
      "metadata": {
        "id": "3c96fc83"
      },
      "outputs": [
        {
          "name": "stdout",
          "output_type": "stream",
          "text": [
            "4.44 ms ± 39.2 μs per loop (mean ± std. dev. of 7 runs, 100 loops each)\n"
          ]
        }
      ],
      "source": [
        "%%timeit\n",
        "x = np.random.rand(1000, 1000)\n",
        "x[np.arange(100,1000), :] += 5"
      ]
    },
    {
      "cell_type": "markdown",
      "id": "YCloX0G5qpsT",
      "metadata": {
        "id": "YCloX0G5qpsT"
      },
      "source": [
        "### List comprehensions"
      ]
    },
    {
      "cell_type": "markdown",
      "id": "lo0WcNnNqw2j",
      "metadata": {
        "id": "lo0WcNnNqw2j"
      },
      "source": [
        "When programming, frequently we want to transform one type of data into another. As a simple example, consider the following code that computes square numbers:"
      ]
    },
    {
      "cell_type": "code",
      "execution_count": null,
      "id": "72b832dd",
      "metadata": {
        "id": "72b832dd"
      },
      "outputs": [],
      "source": [
        "nums = [0, 1, 2, 3, 4]\n",
        "squares = []\n",
        "for x in nums:\n",
        "    squares.append(x ** 2)\n",
        "print(squares)"
      ]
    },
    {
      "cell_type": "markdown",
      "id": "Fn5lDju4q23h",
      "metadata": {
        "id": "Fn5lDju4q23h"
      },
      "source": [
        "You can make this code simpler using a list comprehension:"
      ]
    },
    {
      "cell_type": "code",
      "execution_count": null,
      "id": "Gj1hmUVUq00_",
      "metadata": {
        "id": "Gj1hmUVUq00_"
      },
      "outputs": [],
      "source": [
        "nums = [0, 1, 2, 3, 4]\n",
        "squares = [x ** 2 for x in nums]\n",
        "print(squares)"
      ]
    },
    {
      "cell_type": "markdown",
      "id": "xc9he2gXq7NT",
      "metadata": {
        "id": "xc9he2gXq7NT"
      },
      "source": [
        "List comprehensions can also contain conditions:"
      ]
    },
    {
      "cell_type": "code",
      "execution_count": null,
      "id": "eRiwNliZq5te",
      "metadata": {
        "id": "eRiwNliZq5te"
      },
      "outputs": [],
      "source": [
        "nums = [0, 1, 2, 3, 4]\n",
        "even_squares = [x ** 2 for x in nums if x % 2 == 0]\n",
        "print(even_squares)"
      ]
    },
    {
      "cell_type": "markdown",
      "id": "ahjh5dDbrw4m",
      "metadata": {
        "id": "ahjh5dDbrw4m"
      },
      "source": [
        "Dictionary comprehensions: These are similar to list comprehensions, but allow you to easily construct dictionaries. For example:"
      ]
    },
    {
      "cell_type": "code",
      "execution_count": null,
      "id": "HWSmGtEnrzHA",
      "metadata": {
        "id": "HWSmGtEnrzHA"
      },
      "outputs": [],
      "source": [
        "nums = [0, 1, 2, 3, 4]\n",
        "even_num_to_square = {x: x ** 2 for x in nums if x % 2 == 0}\n",
        "print(even_num_to_square)"
      ]
    }
  ],
  "metadata": {
    "colab": {
      "provenance": []
    },
    "kernelspec": {
      "display_name": "Python 3 (ipykernel)",
      "language": "python",
      "name": "python3"
    },
    "language_info": {
      "codemirror_mode": {
        "name": "ipython",
        "version": 3
      },
      "file_extension": ".py",
      "mimetype": "text/x-python",
      "name": "python",
      "nbconvert_exporter": "python",
      "pygments_lexer": "ipython3",
      "version": "3.12.3"
    }
  },
  "nbformat": 4,
  "nbformat_minor": 5
}
