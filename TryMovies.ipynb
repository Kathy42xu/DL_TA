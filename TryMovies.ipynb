{
  "nbformat": 4,
  "nbformat_minor": 0,
  "metadata": {
    "colab": {
      "provenance": [],
      "authorship_tag": "ABX9TyN9NBz/rQBzUZCU4TqjX2rf",
      "include_colab_link": true
    },
    "kernelspec": {
      "name": "python3",
      "display_name": "Python 3"
    },
    "language_info": {
      "name": "python"
    }
  },
  "cells": [
    {
      "cell_type": "markdown",
      "metadata": {
        "id": "view-in-github",
        "colab_type": "text"
      },
      "source": [
        "<a href=\"https://colab.research.google.com/github/Kathy42xu/DL_TA/blob/main/TryMovies.ipynb\" target=\"_parent\"><img src=\"https://colab.research.google.com/assets/colab-badge.svg\" alt=\"Open In Colab\"/></a>"
      ]
    },
    {
      "cell_type": "markdown",
      "source": [
        "##MovieLens32M\n",
        "It contains 32000204 ratings and 2000072 tag applications across 87585 movies\n",
        "\n",
        "Each user is represented by an id, and no other information is provided.\n",
        "\n"
      ],
      "metadata": {
        "id": "wAx45SAqdaYa"
      }
    },
    {
      "cell_type": "code",
      "source": [
        "import os\n",
        "\n",
        "os.makedirs('movielens', exist_ok=True)\n",
        "\n",
        "\n",
        "!wget -O movielens/ml-32m.zip https://files.grouplens.org/datasets/movielens/ml-32m.zip\n",
        "\n",
        "!unzip movielens/ml-32m.zip -d movielens/\n"
      ],
      "metadata": {
        "colab": {
          "base_uri": "https://localhost:8080/"
        },
        "id": "P9ka3OyUf-6L",
        "outputId": "e3fef28b-9204-43e9-a67e-282046c0214d"
      },
      "execution_count": 1,
      "outputs": [
        {
          "output_type": "stream",
          "name": "stdout",
          "text": [
            "--2024-12-27 19:03:28--  https://files.grouplens.org/datasets/movielens/ml-32m.zip\n",
            "Resolving files.grouplens.org (files.grouplens.org)... 128.101.65.152\n",
            "Connecting to files.grouplens.org (files.grouplens.org)|128.101.65.152|:443... connected.\n",
            "HTTP request sent, awaiting response... 200 OK\n",
            "Length: 238950008 (228M) [application/zip]\n",
            "Saving to: ‘movielens/ml-32m.zip’\n",
            "\n",
            "movielens/ml-32m.zi 100%[===================>] 227.88M  61.7MB/s    in 4.0s    \n",
            "\n",
            "2024-12-27 19:03:32 (56.4 MB/s) - ‘movielens/ml-32m.zip’ saved [238950008/238950008]\n",
            "\n",
            "Archive:  movielens/ml-32m.zip\n",
            "   creating: movielens/ml-32m/\n",
            "  inflating: movielens/ml-32m/tags.csv  \n",
            "  inflating: movielens/ml-32m/links.csv  \n",
            "  inflating: movielens/ml-32m/README.txt  \n",
            "  inflating: movielens/ml-32m/checksums.txt  \n",
            "  inflating: movielens/ml-32m/ratings.csv  \n",
            "  inflating: movielens/ml-32m/movies.csv  \n"
          ]
        }
      ]
    },
    {
      "cell_type": "markdown",
      "source": [
        "Inspect datafile\n"
      ],
      "metadata": {
        "id": "kZ_1l9Cigtj0"
      }
    },
    {
      "cell_type": "code",
      "source": [
        "import pandas as pd\n",
        "\n",
        "# Load the ratings data\n",
        "ratings = pd.read_csv('movielens/ml-32m/ratings.csv')\n",
        "print(\"Ratings Data:\")\n",
        "print(ratings.head())\n",
        "\n",
        "# Load the movies data\n",
        "movies = pd.read_csv('movielens/ml-32m/movies.csv')\n",
        "print(\"\\nMovies Data:\")\n",
        "print(movies.head())\n",
        "\n",
        "# Load the tags data\n",
        "tags = pd.read_csv('movielens/ml-32m/tags.csv')\n",
        "print(\"\\nTags Data:\")\n",
        "print(tags.head())\n",
        "\n",
        "# Load the links data\n",
        "links = pd.read_csv('movielens/ml-32m/links.csv')\n",
        "print(\"\\nLinks Data:\")\n",
        "print(links.head())\n",
        "\n"
      ],
      "metadata": {
        "colab": {
          "base_uri": "https://localhost:8080/"
        },
        "id": "LEOG8RWBgwFy",
        "outputId": "a831059a-eb4c-48cd-db5a-47ce34cf7bb9"
      },
      "execution_count": 3,
      "outputs": [
        {
          "output_type": "stream",
          "name": "stdout",
          "text": [
            "Ratings Data:\n",
            "   userId  movieId  rating  timestamp\n",
            "0       1       17     4.0  944249077\n",
            "1       1       25     1.0  944250228\n",
            "2       1       29     2.0  943230976\n",
            "3       1       30     5.0  944249077\n",
            "4       1       32     5.0  943228858\n",
            "\n",
            "Movies Data:\n",
            "   movieId                               title  \\\n",
            "0        1                    Toy Story (1995)   \n",
            "1        2                      Jumanji (1995)   \n",
            "2        3             Grumpier Old Men (1995)   \n",
            "3        4            Waiting to Exhale (1995)   \n",
            "4        5  Father of the Bride Part II (1995)   \n",
            "\n",
            "                                        genres  \n",
            "0  Adventure|Animation|Children|Comedy|Fantasy  \n",
            "1                   Adventure|Children|Fantasy  \n",
            "2                               Comedy|Romance  \n",
            "3                         Comedy|Drama|Romance  \n",
            "4                                       Comedy  \n",
            "\n",
            "Tags Data:\n",
            "   userId  movieId          tag   timestamp\n",
            "0      22    26479  Kevin Kline  1583038886\n",
            "1      22    79592     misogyny  1581476297\n",
            "2      22   247150   acrophobia  1622483469\n",
            "3      34     2174        music  1249808064\n",
            "4      34     2174        weird  1249808102\n",
            "\n",
            "Links Data:\n",
            "   movieId  imdbId   tmdbId\n",
            "0        1  114709    862.0\n",
            "1        2  113497   8844.0\n",
            "2        3  113228  15602.0\n",
            "3        4  114885  31357.0\n",
            "4        5  113041  11862.0\n"
          ]
        }
      ]
    },
    {
      "cell_type": "code",
      "source": [
        "# Get basic information about each dataset\n",
        "print(\"\\nRatings Summary:\")\n",
        "print(ratings.info())\n",
        "print(ratings.describe())\n",
        "\n",
        "print(\"\\nMovies Summary:\")\n",
        "print(movies.info())\n",
        "\n",
        "print(\"\\nTags Summary:\")\n",
        "print(tags.info())\n",
        "\n",
        "print(\"\\nLinks Summary:\")\n",
        "print(links.info())\n"
      ],
      "metadata": {
        "colab": {
          "base_uri": "https://localhost:8080/"
        },
        "id": "mB4Uh0SXhOtg",
        "outputId": "abcc8090-ec9f-4bf9-fb56-03cec9aca0ad"
      },
      "execution_count": 4,
      "outputs": [
        {
          "output_type": "stream",
          "name": "stdout",
          "text": [
            "\n",
            "Ratings Summary:\n",
            "<class 'pandas.core.frame.DataFrame'>\n",
            "RangeIndex: 32000204 entries, 0 to 32000203\n",
            "Data columns (total 4 columns):\n",
            " #   Column     Dtype  \n",
            "---  ------     -----  \n",
            " 0   userId     int64  \n",
            " 1   movieId    int64  \n",
            " 2   rating     float64\n",
            " 3   timestamp  int64  \n",
            "dtypes: float64(1), int64(3)\n",
            "memory usage: 976.6 MB\n",
            "None\n",
            "             userId       movieId        rating     timestamp\n",
            "count  3.200020e+07  3.200020e+07  3.200020e+07  3.200020e+07\n",
            "mean   1.002785e+05  2.931861e+04  3.540396e+00  1.275241e+09\n",
            "std    5.794905e+04  5.095816e+04  1.058986e+00  2.561630e+08\n",
            "min    1.000000e+00  1.000000e+00  5.000000e-01  7.896520e+08\n",
            "25%    5.005300e+04  1.233000e+03  3.000000e+00  1.051012e+09\n",
            "50%    1.002970e+05  3.452000e+03  3.500000e+00  1.272622e+09\n",
            "75%    1.504510e+05  4.419900e+04  4.000000e+00  1.503158e+09\n",
            "max    2.009480e+05  2.927570e+05  5.000000e+00  1.697164e+09\n",
            "\n",
            "Movies Summary:\n",
            "<class 'pandas.core.frame.DataFrame'>\n",
            "RangeIndex: 87585 entries, 0 to 87584\n",
            "Data columns (total 3 columns):\n",
            " #   Column   Non-Null Count  Dtype \n",
            "---  ------   --------------  ----- \n",
            " 0   movieId  87585 non-null  int64 \n",
            " 1   title    87585 non-null  object\n",
            " 2   genres   87585 non-null  object\n",
            "dtypes: int64(1), object(2)\n",
            "memory usage: 2.0+ MB\n",
            "None\n",
            "\n",
            "Tags Summary:\n",
            "<class 'pandas.core.frame.DataFrame'>\n",
            "RangeIndex: 2000072 entries, 0 to 2000071\n",
            "Data columns (total 4 columns):\n",
            " #   Column     Dtype \n",
            "---  ------     ----- \n",
            " 0   userId     int64 \n",
            " 1   movieId    int64 \n",
            " 2   tag        object\n",
            " 3   timestamp  int64 \n",
            "dtypes: int64(3), object(1)\n",
            "memory usage: 61.0+ MB\n",
            "None\n",
            "\n",
            "Links Summary:\n",
            "<class 'pandas.core.frame.DataFrame'>\n",
            "RangeIndex: 87585 entries, 0 to 87584\n",
            "Data columns (total 3 columns):\n",
            " #   Column   Non-Null Count  Dtype  \n",
            "---  ------   --------------  -----  \n",
            " 0   movieId  87585 non-null  int64  \n",
            " 1   imdbId   87585 non-null  int64  \n",
            " 2   tmdbId   87461 non-null  float64\n",
            "dtypes: float64(1), int64(2)\n",
            "memory usage: 2.0 MB\n",
            "None\n"
          ]
        }
      ]
    }
  ]
}