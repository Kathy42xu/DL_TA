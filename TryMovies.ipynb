{
  "nbformat": 4,
  "nbformat_minor": 0,
  "metadata": {
    "colab": {
      "provenance": [],
      "authorship_tag": "ABX9TyNCvyIinoARM5EQtKTgQ9uh",
      "include_colab_link": true
    },
    "kernelspec": {
      "name": "python3",
      "display_name": "Python 3"
    },
    "language_info": {
      "name": "python"
    }
  },
  "cells": [
    {
      "cell_type": "markdown",
      "metadata": {
        "id": "view-in-github",
        "colab_type": "text"
      },
      "source": [
        "<a href=\"https://colab.research.google.com/github/Kathy42xu/DL_TA/blob/main/TryMovies.ipynb\" target=\"_parent\"><img src=\"https://colab.research.google.com/assets/colab-badge.svg\" alt=\"Open In Colab\"/></a>"
      ]
    },
    {
      "cell_type": "markdown",
      "source": [
        "##MovieLens32M\n",
        "It contains 32000204 ratings and 2000072 tag applications across 87585 movies\n",
        "\n",
        "Each user is represented by an id, and no other information is provided.\n",
        "\n"
      ],
      "metadata": {
        "id": "wAx45SAqdaYa"
      }
    },
    {
      "cell_type": "code",
      "source": [
        "import os\n",
        "\n",
        "os.makedirs('movielens', exist_ok=True)\n",
        "\n",
        "\n",
        "!wget -O movielens/ml-32m.zip https://files.grouplens.org/datasets/movielens/ml-32m.zip\n",
        "\n",
        "!unzip movielens/ml-32m.zip -d movielens/\n"
      ],
      "metadata": {
        "colab": {
          "base_uri": "https://localhost:8080/"
        },
        "id": "P9ka3OyUf-6L",
        "outputId": "b9eb8224-69bb-462f-94c7-d76228f14af6"
      },
      "execution_count": null,
      "outputs": [
        {
          "output_type": "stream",
          "name": "stdout",
          "text": [
            "--2024-12-28 19:27:33--  https://files.grouplens.org/datasets/movielens/ml-32m.zip\n",
            "Resolving files.grouplens.org (files.grouplens.org)... 128.101.65.152\n",
            "Connecting to files.grouplens.org (files.grouplens.org)|128.101.65.152|:443... connected.\n",
            "HTTP request sent, awaiting response... 200 OK\n",
            "Length: 238950008 (228M) [application/zip]\n",
            "Saving to: ‘movielens/ml-32m.zip’\n",
            "\n",
            "movielens/ml-32m.zi 100%[===================>] 227.88M  57.3MB/s    in 4.5s    \n",
            "\n",
            "2024-12-28 19:27:38 (51.1 MB/s) - ‘movielens/ml-32m.zip’ saved [238950008/238950008]\n",
            "\n",
            "Archive:  movielens/ml-32m.zip\n",
            "   creating: movielens/ml-32m/\n",
            "  inflating: movielens/ml-32m/tags.csv  \n",
            "  inflating: movielens/ml-32m/links.csv  \n",
            "  inflating: movielens/ml-32m/README.txt  \n",
            "  inflating: movielens/ml-32m/checksums.txt  \n",
            "  inflating: movielens/ml-32m/ratings.csv  \n",
            "  inflating: movielens/ml-32m/movies.csv  \n"
          ]
        }
      ]
    },
    {
      "cell_type": "markdown",
      "source": [
        "#Inspect datafile\n"
      ],
      "metadata": {
        "id": "kZ_1l9Cigtj0"
      }
    },
    {
      "cell_type": "code",
      "source": [
        "import pandas as pd\n",
        "\n",
        "# Load the ratings data\n",
        "ratings = pd.read_csv('movielens/ml-32m/ratings.csv')\n",
        "print(\"Ratings Data:\")\n",
        "print(ratings.head())\n",
        "\n",
        "# Load the movies data\n",
        "movies = pd.read_csv('movielens/ml-32m/movies.csv')\n",
        "print(\"\\nMovies Data:\")\n",
        "print(movies.head())\n",
        "\n",
        "# Load the tags data\n",
        "tags = pd.read_csv('movielens/ml-32m/tags.csv')\n",
        "print(\"\\nTags Data:\")\n",
        "print(tags.head())\n",
        "\n",
        "# Load the links data\n",
        "links = pd.read_csv('movielens/ml-32m/links.csv')\n",
        "print(\"\\nLinks Data:\")\n",
        "print(links.head())\n",
        "\n"
      ],
      "metadata": {
        "colab": {
          "base_uri": "https://localhost:8080/"
        },
        "id": "LEOG8RWBgwFy",
        "outputId": "d6e9fb9d-3fe4-4a3c-b661-e8c77559a5a2"
      },
      "execution_count": 1,
      "outputs": [
        {
          "output_type": "stream",
          "name": "stdout",
          "text": [
            "Ratings Data:\n",
            "   userId  movieId  rating  timestamp\n",
            "0       1       17     4.0  944249077\n",
            "1       1       25     1.0  944250228\n",
            "2       1       29     2.0  943230976\n",
            "3       1       30     5.0  944249077\n",
            "4       1       32     5.0  943228858\n",
            "\n",
            "Movies Data:\n",
            "   movieId                               title  \\\n",
            "0        1                    Toy Story (1995)   \n",
            "1        2                      Jumanji (1995)   \n",
            "2        3             Grumpier Old Men (1995)   \n",
            "3        4            Waiting to Exhale (1995)   \n",
            "4        5  Father of the Bride Part II (1995)   \n",
            "\n",
            "                                        genres  \n",
            "0  Adventure|Animation|Children|Comedy|Fantasy  \n",
            "1                   Adventure|Children|Fantasy  \n",
            "2                               Comedy|Romance  \n",
            "3                         Comedy|Drama|Romance  \n",
            "4                                       Comedy  \n",
            "\n",
            "Tags Data:\n",
            "   userId  movieId          tag   timestamp\n",
            "0      22    26479  Kevin Kline  1583038886\n",
            "1      22    79592     misogyny  1581476297\n",
            "2      22   247150   acrophobia  1622483469\n",
            "3      34     2174        music  1249808064\n",
            "4      34     2174        weird  1249808102\n",
            "\n",
            "Links Data:\n",
            "   movieId  imdbId   tmdbId\n",
            "0        1  114709    862.0\n",
            "1        2  113497   8844.0\n",
            "2        3  113228  15602.0\n",
            "3        4  114885  31357.0\n",
            "4        5  113041  11862.0\n"
          ]
        }
      ]
    },
    {
      "cell_type": "code",
      "source": [
        "# Get basic information about each dataset\n",
        "print(\"\\nRatings Summary:\")\n",
        "print(ratings.info())\n",
        "print(ratings.describe())\n",
        "\n",
        "print(\"\\nMovies Summary:\")\n",
        "print(movies.info())\n",
        "\n",
        "print(\"\\nTags Summary:\")\n",
        "print(tags.info())\n",
        "\n",
        "print(\"\\nLinks Summary:\")\n",
        "print(links.info())\n"
      ],
      "metadata": {
        "colab": {
          "base_uri": "https://localhost:8080/"
        },
        "id": "mB4Uh0SXhOtg",
        "outputId": "80326613-f256-4101-f4a1-da9840a0771e"
      },
      "execution_count": 2,
      "outputs": [
        {
          "output_type": "stream",
          "name": "stdout",
          "text": [
            "\n",
            "Ratings Summary:\n",
            "<class 'pandas.core.frame.DataFrame'>\n",
            "RangeIndex: 32000204 entries, 0 to 32000203\n",
            "Data columns (total 4 columns):\n",
            " #   Column     Dtype  \n",
            "---  ------     -----  \n",
            " 0   userId     int64  \n",
            " 1   movieId    int64  \n",
            " 2   rating     float64\n",
            " 3   timestamp  int64  \n",
            "dtypes: float64(1), int64(3)\n",
            "memory usage: 976.6 MB\n",
            "None\n",
            "             userId       movieId        rating     timestamp\n",
            "count  3.200020e+07  3.200020e+07  3.200020e+07  3.200020e+07\n",
            "mean   1.002785e+05  2.931861e+04  3.540396e+00  1.275241e+09\n",
            "std    5.794905e+04  5.095816e+04  1.058986e+00  2.561630e+08\n",
            "min    1.000000e+00  1.000000e+00  5.000000e-01  7.896520e+08\n",
            "25%    5.005300e+04  1.233000e+03  3.000000e+00  1.051012e+09\n",
            "50%    1.002970e+05  3.452000e+03  3.500000e+00  1.272622e+09\n",
            "75%    1.504510e+05  4.419900e+04  4.000000e+00  1.503158e+09\n",
            "max    2.009480e+05  2.927570e+05  5.000000e+00  1.697164e+09\n",
            "\n",
            "Movies Summary:\n",
            "<class 'pandas.core.frame.DataFrame'>\n",
            "RangeIndex: 87585 entries, 0 to 87584\n",
            "Data columns (total 3 columns):\n",
            " #   Column   Non-Null Count  Dtype \n",
            "---  ------   --------------  ----- \n",
            " 0   movieId  87585 non-null  int64 \n",
            " 1   title    87585 non-null  object\n",
            " 2   genres   87585 non-null  object\n",
            "dtypes: int64(1), object(2)\n",
            "memory usage: 2.0+ MB\n",
            "None\n",
            "\n",
            "Tags Summary:\n",
            "<class 'pandas.core.frame.DataFrame'>\n",
            "RangeIndex: 2000072 entries, 0 to 2000071\n",
            "Data columns (total 4 columns):\n",
            " #   Column     Dtype \n",
            "---  ------     ----- \n",
            " 0   userId     int64 \n",
            " 1   movieId    int64 \n",
            " 2   tag        object\n",
            " 3   timestamp  int64 \n",
            "dtypes: int64(3), object(1)\n",
            "memory usage: 61.0+ MB\n",
            "None\n",
            "\n",
            "Links Summary:\n",
            "<class 'pandas.core.frame.DataFrame'>\n",
            "RangeIndex: 87585 entries, 0 to 87584\n",
            "Data columns (total 3 columns):\n",
            " #   Column   Non-Null Count  Dtype  \n",
            "---  ------   --------------  -----  \n",
            " 0   movieId  87585 non-null  int64  \n",
            " 1   imdbId   87585 non-null  int64  \n",
            " 2   tmdbId   87461 non-null  float64\n",
            "dtypes: float64(1), int64(2)\n",
            "memory usage: 2.0 MB\n",
            "None\n"
          ]
        }
      ]
    },
    {
      "cell_type": "markdown",
      "source": [
        "Merge\n"
      ],
      "metadata": {
        "id": "qYvRQQfvkMFD"
      }
    },
    {
      "cell_type": "code",
      "source": [
        "merged_data = ratings.merge(movies, on='movieId')\n",
        "\n",
        "# Display the first few rows of the merged dataset\n",
        "print(merged_data.head())"
      ],
      "metadata": {
        "id": "-Reob9e7kRU2",
        "outputId": "fd7f80ad-2c43-41f2-d8f4-2498afc731eb",
        "colab": {
          "base_uri": "https://localhost:8080/"
        }
      },
      "execution_count": 3,
      "outputs": [
        {
          "output_type": "stream",
          "name": "stdout",
          "text": [
            "   userId  movieId  rating  timestamp  \\\n",
            "0       1       17     4.0  944249077   \n",
            "1       1       25     1.0  944250228   \n",
            "2       1       29     2.0  943230976   \n",
            "3       1       30     5.0  944249077   \n",
            "4       1       32     5.0  943228858   \n",
            "\n",
            "                                               title  \\\n",
            "0                       Sense and Sensibility (1995)   \n",
            "1                           Leaving Las Vegas (1995)   \n",
            "2  City of Lost Children, The (Cité des enfants p...   \n",
            "3  Shanghai Triad (Yao a yao yao dao waipo qiao) ...   \n",
            "4          Twelve Monkeys (a.k.a. 12 Monkeys) (1995)   \n",
            "\n",
            "                                   genres  \n",
            "0                           Drama|Romance  \n",
            "1                           Drama|Romance  \n",
            "2  Adventure|Drama|Fantasy|Mystery|Sci-Fi  \n",
            "3                             Crime|Drama  \n",
            "4                 Mystery|Sci-Fi|Thriller  \n"
          ]
        }
      ]
    },
    {
      "cell_type": "markdown",
      "source": [
        "# time downsampling\n"
      ],
      "metadata": {
        "id": "nb9BXgz9ck_y"
      }
    },
    {
      "cell_type": "code",
      "source": [
        "#map to 0-len(user)-1\n",
        "\n",
        "# Map userId to a contiguous range\n",
        "user_id_mapping = {id: idx for idx, id in enumerate(merged_data['userId'].unique())}\n",
        "merged_data['userId'] = merged_data['userId'].map(user_id_mapping)\n",
        "\n",
        "# Map movieId to a contiguous range\n",
        "item_id_mapping = {id: idx for idx, id in enumerate(merged_data['movieId'].unique())}\n",
        "merged_data['movieId'] = merged_data['movieId'].map(item_id_mapping)\n"
      ],
      "metadata": {
        "id": "0fvOFUXvhUza"
      },
      "execution_count": 68,
      "outputs": []
    },
    {
      "cell_type": "code",
      "source": [
        "# Filter movies whose titles end with years in the range 2020 to 2024\n",
        "all_ratings = merged_data[\n",
        "    merged_data['title'].str.endswith(tuple(f\"({year})\" for year in range(2020, 2025)))\n",
        "]\n",
        "\n",
        "print(f\"Amount of data after downsampling: {len(all_ratings)}\")\n",
        "\n",
        "# Display the first few rows\n",
        "print(all_ratings.head())\n",
        "\n"
      ],
      "metadata": {
        "id": "r8iNXZ7zcoc8",
        "outputId": "0937fa78-b67d-4474-ccec-c544ee595325",
        "colab": {
          "base_uri": "https://localhost:8080/"
        }
      },
      "execution_count": 69,
      "outputs": [
        {
          "output_type": "stream",
          "name": "stdout",
          "text": [
            "Amount of data after downsampling: 273932\n",
            "      userId  movieId  rating   timestamp  \\\n",
            "2237      21     1355     2.5  1611070726   \n",
            "2238      21     1356     3.0  1622483323   \n",
            "2239      21     1357     4.0  1668895485   \n",
            "2240      21     1358     3.5  1668895505   \n",
            "2241      21     1359     4.0  1674334098   \n",
            "\n",
            "                                    title                   genres  \n",
            "2237              Outside the Wire (2021)   Action|Sci-Fi|Thriller  \n",
            "2238                      Stowaway (2021)             Drama|Sci-Fi  \n",
            "2239  Weird: The Al Yankovic Story (2022)             Comedy|Drama  \n",
            "2240                Enola Holmes 2 (2022)  Adventure|Crime|Mystery  \n",
            "2241                      Spirited (2022)                   Comedy  \n"
          ]
        }
      ]
    },
    {
      "cell_type": "code",
      "source": [
        "all_ratings['rating'].describe()"
      ],
      "metadata": {
        "id": "day1r4Qyen2l",
        "outputId": "94e2d0a2-1857-4403-f848-e3404970b87b",
        "colab": {
          "base_uri": "https://localhost:8080/",
          "height": 335
        }
      },
      "execution_count": 70,
      "outputs": [
        {
          "output_type": "execute_result",
          "data": {
            "text/plain": [
              "count    273932.000000\n",
              "mean          3.337754\n",
              "std           1.064189\n",
              "min           0.500000\n",
              "25%           3.000000\n",
              "50%           3.500000\n",
              "75%           4.000000\n",
              "max           5.000000\n",
              "Name: rating, dtype: float64"
            ],
            "text/html": [
              "<div>\n",
              "<style scoped>\n",
              "    .dataframe tbody tr th:only-of-type {\n",
              "        vertical-align: middle;\n",
              "    }\n",
              "\n",
              "    .dataframe tbody tr th {\n",
              "        vertical-align: top;\n",
              "    }\n",
              "\n",
              "    .dataframe thead th {\n",
              "        text-align: right;\n",
              "    }\n",
              "</style>\n",
              "<table border=\"1\" class=\"dataframe\">\n",
              "  <thead>\n",
              "    <tr style=\"text-align: right;\">\n",
              "      <th></th>\n",
              "      <th>rating</th>\n",
              "    </tr>\n",
              "  </thead>\n",
              "  <tbody>\n",
              "    <tr>\n",
              "      <th>count</th>\n",
              "      <td>273932.000000</td>\n",
              "    </tr>\n",
              "    <tr>\n",
              "      <th>mean</th>\n",
              "      <td>3.337754</td>\n",
              "    </tr>\n",
              "    <tr>\n",
              "      <th>std</th>\n",
              "      <td>1.064189</td>\n",
              "    </tr>\n",
              "    <tr>\n",
              "      <th>min</th>\n",
              "      <td>0.500000</td>\n",
              "    </tr>\n",
              "    <tr>\n",
              "      <th>25%</th>\n",
              "      <td>3.000000</td>\n",
              "    </tr>\n",
              "    <tr>\n",
              "      <th>50%</th>\n",
              "      <td>3.500000</td>\n",
              "    </tr>\n",
              "    <tr>\n",
              "      <th>75%</th>\n",
              "      <td>4.000000</td>\n",
              "    </tr>\n",
              "    <tr>\n",
              "      <th>max</th>\n",
              "      <td>5.000000</td>\n",
              "    </tr>\n",
              "  </tbody>\n",
              "</table>\n",
              "</div><br><label><b>dtype:</b> float64</label>"
            ]
          },
          "metadata": {},
          "execution_count": 70
        }
      ]
    },
    {
      "cell_type": "code",
      "source": [
        "all_ratings['userId'].describe()\n",
        "#total_user_id = len(all_ratings['userId'].unique())\n",
        "#print(total_user_id)"
      ],
      "metadata": {
        "id": "Nq0YaaN6exkw",
        "outputId": "1ca1ea75-b084-40f2-96ac-c355079e6b3d",
        "colab": {
          "base_uri": "https://localhost:8080/",
          "height": 335
        }
      },
      "execution_count": 71,
      "outputs": [
        {
          "output_type": "execute_result",
          "data": {
            "text/plain": [
              "count    273932.000000\n",
              "mean      99675.527510\n",
              "std       57589.153149\n",
              "min          21.000000\n",
              "25%       50549.000000\n",
              "50%       99278.000000\n",
              "75%      149474.000000\n",
              "max      200932.000000\n",
              "Name: userId, dtype: float64"
            ],
            "text/html": [
              "<div>\n",
              "<style scoped>\n",
              "    .dataframe tbody tr th:only-of-type {\n",
              "        vertical-align: middle;\n",
              "    }\n",
              "\n",
              "    .dataframe tbody tr th {\n",
              "        vertical-align: top;\n",
              "    }\n",
              "\n",
              "    .dataframe thead th {\n",
              "        text-align: right;\n",
              "    }\n",
              "</style>\n",
              "<table border=\"1\" class=\"dataframe\">\n",
              "  <thead>\n",
              "    <tr style=\"text-align: right;\">\n",
              "      <th></th>\n",
              "      <th>userId</th>\n",
              "    </tr>\n",
              "  </thead>\n",
              "  <tbody>\n",
              "    <tr>\n",
              "      <th>count</th>\n",
              "      <td>273932.000000</td>\n",
              "    </tr>\n",
              "    <tr>\n",
              "      <th>mean</th>\n",
              "      <td>99675.527510</td>\n",
              "    </tr>\n",
              "    <tr>\n",
              "      <th>std</th>\n",
              "      <td>57589.153149</td>\n",
              "    </tr>\n",
              "    <tr>\n",
              "      <th>min</th>\n",
              "      <td>21.000000</td>\n",
              "    </tr>\n",
              "    <tr>\n",
              "      <th>25%</th>\n",
              "      <td>50549.000000</td>\n",
              "    </tr>\n",
              "    <tr>\n",
              "      <th>50%</th>\n",
              "      <td>99278.000000</td>\n",
              "    </tr>\n",
              "    <tr>\n",
              "      <th>75%</th>\n",
              "      <td>149474.000000</td>\n",
              "    </tr>\n",
              "    <tr>\n",
              "      <th>max</th>\n",
              "      <td>200932.000000</td>\n",
              "    </tr>\n",
              "  </tbody>\n",
              "</table>\n",
              "</div><br><label><b>dtype:</b> float64</label>"
            ]
          },
          "metadata": {},
          "execution_count": 71
        }
      ]
    },
    {
      "cell_type": "markdown",
      "source": [
        "# following code from solution\n"
      ],
      "metadata": {
        "id": "ojjHMJlgfb_V"
      }
    },
    {
      "cell_type": "code",
      "source": [
        "all_ratings.head()"
      ],
      "metadata": {
        "id": "HNPDBSECfn0P",
        "outputId": "a0d67ffb-d7b6-4350-a8f3-924e21932ea2",
        "colab": {
          "base_uri": "https://localhost:8080/",
          "height": 328
        }
      },
      "execution_count": 72,
      "outputs": [
        {
          "output_type": "execute_result",
          "data": {
            "text/plain": [
              "      userId  movieId  rating   timestamp  \\\n",
              "2237      21     1355     2.5  1611070726   \n",
              "2238      21     1356     3.0  1622483323   \n",
              "2239      21     1357     4.0  1668895485   \n",
              "2240      21     1358     3.5  1668895505   \n",
              "2241      21     1359     4.0  1674334098   \n",
              "\n",
              "                                    title                   genres  \n",
              "2237              Outside the Wire (2021)   Action|Sci-Fi|Thriller  \n",
              "2238                      Stowaway (2021)             Drama|Sci-Fi  \n",
              "2239  Weird: The Al Yankovic Story (2022)             Comedy|Drama  \n",
              "2240                Enola Holmes 2 (2022)  Adventure|Crime|Mystery  \n",
              "2241                      Spirited (2022)                   Comedy  "
            ],
            "text/html": [
              "\n",
              "  <div id=\"df-9baab97e-fb04-457e-a2a6-b74a4e3ea26b\" class=\"colab-df-container\">\n",
              "    <div>\n",
              "<style scoped>\n",
              "    .dataframe tbody tr th:only-of-type {\n",
              "        vertical-align: middle;\n",
              "    }\n",
              "\n",
              "    .dataframe tbody tr th {\n",
              "        vertical-align: top;\n",
              "    }\n",
              "\n",
              "    .dataframe thead th {\n",
              "        text-align: right;\n",
              "    }\n",
              "</style>\n",
              "<table border=\"1\" class=\"dataframe\">\n",
              "  <thead>\n",
              "    <tr style=\"text-align: right;\">\n",
              "      <th></th>\n",
              "      <th>userId</th>\n",
              "      <th>movieId</th>\n",
              "      <th>rating</th>\n",
              "      <th>timestamp</th>\n",
              "      <th>title</th>\n",
              "      <th>genres</th>\n",
              "    </tr>\n",
              "  </thead>\n",
              "  <tbody>\n",
              "    <tr>\n",
              "      <th>2237</th>\n",
              "      <td>21</td>\n",
              "      <td>1355</td>\n",
              "      <td>2.5</td>\n",
              "      <td>1611070726</td>\n",
              "      <td>Outside the Wire (2021)</td>\n",
              "      <td>Action|Sci-Fi|Thriller</td>\n",
              "    </tr>\n",
              "    <tr>\n",
              "      <th>2238</th>\n",
              "      <td>21</td>\n",
              "      <td>1356</td>\n",
              "      <td>3.0</td>\n",
              "      <td>1622483323</td>\n",
              "      <td>Stowaway (2021)</td>\n",
              "      <td>Drama|Sci-Fi</td>\n",
              "    </tr>\n",
              "    <tr>\n",
              "      <th>2239</th>\n",
              "      <td>21</td>\n",
              "      <td>1357</td>\n",
              "      <td>4.0</td>\n",
              "      <td>1668895485</td>\n",
              "      <td>Weird: The Al Yankovic Story (2022)</td>\n",
              "      <td>Comedy|Drama</td>\n",
              "    </tr>\n",
              "    <tr>\n",
              "      <th>2240</th>\n",
              "      <td>21</td>\n",
              "      <td>1358</td>\n",
              "      <td>3.5</td>\n",
              "      <td>1668895505</td>\n",
              "      <td>Enola Holmes 2 (2022)</td>\n",
              "      <td>Adventure|Crime|Mystery</td>\n",
              "    </tr>\n",
              "    <tr>\n",
              "      <th>2241</th>\n",
              "      <td>21</td>\n",
              "      <td>1359</td>\n",
              "      <td>4.0</td>\n",
              "      <td>1674334098</td>\n",
              "      <td>Spirited (2022)</td>\n",
              "      <td>Comedy</td>\n",
              "    </tr>\n",
              "  </tbody>\n",
              "</table>\n",
              "</div>\n",
              "    <div class=\"colab-df-buttons\">\n",
              "\n",
              "  <div class=\"colab-df-container\">\n",
              "    <button class=\"colab-df-convert\" onclick=\"convertToInteractive('df-9baab97e-fb04-457e-a2a6-b74a4e3ea26b')\"\n",
              "            title=\"Convert this dataframe to an interactive table.\"\n",
              "            style=\"display:none;\">\n",
              "\n",
              "  <svg xmlns=\"http://www.w3.org/2000/svg\" height=\"24px\" viewBox=\"0 -960 960 960\">\n",
              "    <path d=\"M120-120v-720h720v720H120Zm60-500h600v-160H180v160Zm220 220h160v-160H400v160Zm0 220h160v-160H400v160ZM180-400h160v-160H180v160Zm440 0h160v-160H620v160ZM180-180h160v-160H180v160Zm440 0h160v-160H620v160Z\"/>\n",
              "  </svg>\n",
              "    </button>\n",
              "\n",
              "  <style>\n",
              "    .colab-df-container {\n",
              "      display:flex;\n",
              "      gap: 12px;\n",
              "    }\n",
              "\n",
              "    .colab-df-convert {\n",
              "      background-color: #E8F0FE;\n",
              "      border: none;\n",
              "      border-radius: 50%;\n",
              "      cursor: pointer;\n",
              "      display: none;\n",
              "      fill: #1967D2;\n",
              "      height: 32px;\n",
              "      padding: 0 0 0 0;\n",
              "      width: 32px;\n",
              "    }\n",
              "\n",
              "    .colab-df-convert:hover {\n",
              "      background-color: #E2EBFA;\n",
              "      box-shadow: 0px 1px 2px rgba(60, 64, 67, 0.3), 0px 1px 3px 1px rgba(60, 64, 67, 0.15);\n",
              "      fill: #174EA6;\n",
              "    }\n",
              "\n",
              "    .colab-df-buttons div {\n",
              "      margin-bottom: 4px;\n",
              "    }\n",
              "\n",
              "    [theme=dark] .colab-df-convert {\n",
              "      background-color: #3B4455;\n",
              "      fill: #D2E3FC;\n",
              "    }\n",
              "\n",
              "    [theme=dark] .colab-df-convert:hover {\n",
              "      background-color: #434B5C;\n",
              "      box-shadow: 0px 1px 3px 1px rgba(0, 0, 0, 0.15);\n",
              "      filter: drop-shadow(0px 1px 2px rgba(0, 0, 0, 0.3));\n",
              "      fill: #FFFFFF;\n",
              "    }\n",
              "  </style>\n",
              "\n",
              "    <script>\n",
              "      const buttonEl =\n",
              "        document.querySelector('#df-9baab97e-fb04-457e-a2a6-b74a4e3ea26b button.colab-df-convert');\n",
              "      buttonEl.style.display =\n",
              "        google.colab.kernel.accessAllowed ? 'block' : 'none';\n",
              "\n",
              "      async function convertToInteractive(key) {\n",
              "        const element = document.querySelector('#df-9baab97e-fb04-457e-a2a6-b74a4e3ea26b');\n",
              "        const dataTable =\n",
              "          await google.colab.kernel.invokeFunction('convertToInteractive',\n",
              "                                                    [key], {});\n",
              "        if (!dataTable) return;\n",
              "\n",
              "        const docLinkHtml = 'Like what you see? Visit the ' +\n",
              "          '<a target=\"_blank\" href=https://colab.research.google.com/notebooks/data_table.ipynb>data table notebook</a>'\n",
              "          + ' to learn more about interactive tables.';\n",
              "        element.innerHTML = '';\n",
              "        dataTable['output_type'] = 'display_data';\n",
              "        await google.colab.output.renderOutput(dataTable, element);\n",
              "        const docLink = document.createElement('div');\n",
              "        docLink.innerHTML = docLinkHtml;\n",
              "        element.appendChild(docLink);\n",
              "      }\n",
              "    </script>\n",
              "  </div>\n",
              "\n",
              "\n",
              "<div id=\"df-117c5eee-8bb2-4a2f-86b0-7329a72977f3\">\n",
              "  <button class=\"colab-df-quickchart\" onclick=\"quickchart('df-117c5eee-8bb2-4a2f-86b0-7329a72977f3')\"\n",
              "            title=\"Suggest charts\"\n",
              "            style=\"display:none;\">\n",
              "\n",
              "<svg xmlns=\"http://www.w3.org/2000/svg\" height=\"24px\"viewBox=\"0 0 24 24\"\n",
              "     width=\"24px\">\n",
              "    <g>\n",
              "        <path d=\"M19 3H5c-1.1 0-2 .9-2 2v14c0 1.1.9 2 2 2h14c1.1 0 2-.9 2-2V5c0-1.1-.9-2-2-2zM9 17H7v-7h2v7zm4 0h-2V7h2v10zm4 0h-2v-4h2v4z\"/>\n",
              "    </g>\n",
              "</svg>\n",
              "  </button>\n",
              "\n",
              "<style>\n",
              "  .colab-df-quickchart {\n",
              "      --bg-color: #E8F0FE;\n",
              "      --fill-color: #1967D2;\n",
              "      --hover-bg-color: #E2EBFA;\n",
              "      --hover-fill-color: #174EA6;\n",
              "      --disabled-fill-color: #AAA;\n",
              "      --disabled-bg-color: #DDD;\n",
              "  }\n",
              "\n",
              "  [theme=dark] .colab-df-quickchart {\n",
              "      --bg-color: #3B4455;\n",
              "      --fill-color: #D2E3FC;\n",
              "      --hover-bg-color: #434B5C;\n",
              "      --hover-fill-color: #FFFFFF;\n",
              "      --disabled-bg-color: #3B4455;\n",
              "      --disabled-fill-color: #666;\n",
              "  }\n",
              "\n",
              "  .colab-df-quickchart {\n",
              "    background-color: var(--bg-color);\n",
              "    border: none;\n",
              "    border-radius: 50%;\n",
              "    cursor: pointer;\n",
              "    display: none;\n",
              "    fill: var(--fill-color);\n",
              "    height: 32px;\n",
              "    padding: 0;\n",
              "    width: 32px;\n",
              "  }\n",
              "\n",
              "  .colab-df-quickchart:hover {\n",
              "    background-color: var(--hover-bg-color);\n",
              "    box-shadow: 0 1px 2px rgba(60, 64, 67, 0.3), 0 1px 3px 1px rgba(60, 64, 67, 0.15);\n",
              "    fill: var(--button-hover-fill-color);\n",
              "  }\n",
              "\n",
              "  .colab-df-quickchart-complete:disabled,\n",
              "  .colab-df-quickchart-complete:disabled:hover {\n",
              "    background-color: var(--disabled-bg-color);\n",
              "    fill: var(--disabled-fill-color);\n",
              "    box-shadow: none;\n",
              "  }\n",
              "\n",
              "  .colab-df-spinner {\n",
              "    border: 2px solid var(--fill-color);\n",
              "    border-color: transparent;\n",
              "    border-bottom-color: var(--fill-color);\n",
              "    animation:\n",
              "      spin 1s steps(1) infinite;\n",
              "  }\n",
              "\n",
              "  @keyframes spin {\n",
              "    0% {\n",
              "      border-color: transparent;\n",
              "      border-bottom-color: var(--fill-color);\n",
              "      border-left-color: var(--fill-color);\n",
              "    }\n",
              "    20% {\n",
              "      border-color: transparent;\n",
              "      border-left-color: var(--fill-color);\n",
              "      border-top-color: var(--fill-color);\n",
              "    }\n",
              "    30% {\n",
              "      border-color: transparent;\n",
              "      border-left-color: var(--fill-color);\n",
              "      border-top-color: var(--fill-color);\n",
              "      border-right-color: var(--fill-color);\n",
              "    }\n",
              "    40% {\n",
              "      border-color: transparent;\n",
              "      border-right-color: var(--fill-color);\n",
              "      border-top-color: var(--fill-color);\n",
              "    }\n",
              "    60% {\n",
              "      border-color: transparent;\n",
              "      border-right-color: var(--fill-color);\n",
              "    }\n",
              "    80% {\n",
              "      border-color: transparent;\n",
              "      border-right-color: var(--fill-color);\n",
              "      border-bottom-color: var(--fill-color);\n",
              "    }\n",
              "    90% {\n",
              "      border-color: transparent;\n",
              "      border-bottom-color: var(--fill-color);\n",
              "    }\n",
              "  }\n",
              "</style>\n",
              "\n",
              "  <script>\n",
              "    async function quickchart(key) {\n",
              "      const quickchartButtonEl =\n",
              "        document.querySelector('#' + key + ' button');\n",
              "      quickchartButtonEl.disabled = true;  // To prevent multiple clicks.\n",
              "      quickchartButtonEl.classList.add('colab-df-spinner');\n",
              "      try {\n",
              "        const charts = await google.colab.kernel.invokeFunction(\n",
              "            'suggestCharts', [key], {});\n",
              "      } catch (error) {\n",
              "        console.error('Error during call to suggestCharts:', error);\n",
              "      }\n",
              "      quickchartButtonEl.classList.remove('colab-df-spinner');\n",
              "      quickchartButtonEl.classList.add('colab-df-quickchart-complete');\n",
              "    }\n",
              "    (() => {\n",
              "      let quickchartButtonEl =\n",
              "        document.querySelector('#df-117c5eee-8bb2-4a2f-86b0-7329a72977f3 button');\n",
              "      quickchartButtonEl.style.display =\n",
              "        google.colab.kernel.accessAllowed ? 'block' : 'none';\n",
              "    })();\n",
              "  </script>\n",
              "</div>\n",
              "\n",
              "    </div>\n",
              "  </div>\n"
            ],
            "application/vnd.google.colaboratory.intrinsic+json": {
              "type": "dataframe",
              "variable_name": "all_ratings"
            }
          },
          "metadata": {},
          "execution_count": 72
        }
      ]
    },
    {
      "cell_type": "code",
      "source": [
        "all_ratings.info()"
      ],
      "metadata": {
        "id": "0_n8UWffvLPN",
        "outputId": "d842e04d-9086-4cf1-9930-a8b69be1ee29",
        "colab": {
          "base_uri": "https://localhost:8080/"
        }
      },
      "execution_count": 73,
      "outputs": [
        {
          "output_type": "stream",
          "name": "stdout",
          "text": [
            "<class 'pandas.core.frame.DataFrame'>\n",
            "Index: 273932 entries, 2237 to 31997970\n",
            "Data columns (total 6 columns):\n",
            " #   Column     Non-Null Count   Dtype  \n",
            "---  ------     --------------   -----  \n",
            " 0   userId     273932 non-null  int64  \n",
            " 1   movieId    273932 non-null  int64  \n",
            " 2   rating     273932 non-null  float64\n",
            " 3   timestamp  273932 non-null  int64  \n",
            " 4   title      273932 non-null  object \n",
            " 5   genres     273932 non-null  object \n",
            "dtypes: float64(1), int64(3), object(2)\n",
            "memory usage: 14.6+ MB\n"
          ]
        }
      ]
    },
    {
      "cell_type": "code",
      "source": [
        "total_item_id = len(all_ratings['movieId'].unique())\n",
        "print(total_item_id)"
      ],
      "metadata": {
        "id": "k_EgX36fgmVX",
        "outputId": "37e5b658-47db-48ff-f943-8a857b40e716",
        "colab": {
          "base_uri": "https://localhost:8080/"
        }
      },
      "execution_count": 74,
      "outputs": [
        {
          "output_type": "stream",
          "name": "stdout",
          "text": [
            "7937\n"
          ]
        }
      ]
    },
    {
      "cell_type": "code",
      "source": [
        "total_item_id = len(all_ratings['userId'].unique())\n",
        "print(total_item_id)"
      ],
      "metadata": {
        "id": "PAF1JGn9gqpE",
        "outputId": "8fa5fb74-7e04-40d9-9d02-217633e5dec4",
        "colab": {
          "base_uri": "https://localhost:8080/"
        }
      },
      "execution_count": 75,
      "outputs": [
        {
          "output_type": "stream",
          "name": "stdout",
          "text": [
            "19303\n"
          ]
        }
      ]
    },
    {
      "cell_type": "markdown",
      "source": [
        "Add index\n"
      ],
      "metadata": {
        "id": "xPQORsQqwWYs"
      }
    },
    {
      "cell_type": "code",
      "source": [
        "all_ratings['new_index'] = range(1, len(all_ratings) + 1)\n",
        "print(all_ratings.head())\n"
      ],
      "metadata": {
        "id": "QobdiE3VwaUq",
        "outputId": "53af188b-bcba-4476-a1bc-faf149ba3e32",
        "colab": {
          "base_uri": "https://localhost:8080/"
        }
      },
      "execution_count": 76,
      "outputs": [
        {
          "output_type": "stream",
          "name": "stdout",
          "text": [
            "      userId  movieId  rating   timestamp  \\\n",
            "2237      21     1355     2.5  1611070726   \n",
            "2238      21     1356     3.0  1622483323   \n",
            "2239      21     1357     4.0  1668895485   \n",
            "2240      21     1358     3.5  1668895505   \n",
            "2241      21     1359     4.0  1674334098   \n",
            "\n",
            "                                    title                   genres  new_index  \n",
            "2237              Outside the Wire (2021)   Action|Sci-Fi|Thriller          1  \n",
            "2238                      Stowaway (2021)             Drama|Sci-Fi          2  \n",
            "2239  Weird: The Al Yankovic Story (2022)             Comedy|Drama          3  \n",
            "2240                Enola Holmes 2 (2022)  Adventure|Crime|Mystery          4  \n",
            "2241                      Spirited (2022)                   Comedy          5  \n"
          ]
        },
        {
          "output_type": "stream",
          "name": "stderr",
          "text": [
            "<ipython-input-76-182de24cb495>:1: SettingWithCopyWarning: \n",
            "A value is trying to be set on a copy of a slice from a DataFrame.\n",
            "Try using .loc[row_indexer,col_indexer] = value instead\n",
            "\n",
            "See the caveats in the documentation: https://pandas.pydata.org/pandas-docs/stable/user_guide/indexing.html#returning-a-view-versus-a-copy\n",
            "  all_ratings['new_index'] = range(1, len(all_ratings) + 1)\n"
          ]
        }
      ]
    },
    {
      "cell_type": "markdown",
      "source": [
        "# output top movies"
      ],
      "metadata": {
        "id": "vQVLasfixUfY"
      }
    },
    {
      "cell_type": "code",
      "source": [
        "all_ratings['title'].value_counts().nlargest(100)[50:100]"
      ],
      "metadata": {
        "id": "lNPP5-0WxDpr",
        "outputId": "925ef3e8-4bf5-48c8-cb03-811c77ca3d4e",
        "colab": {
          "base_uri": "https://localhost:8080/",
          "height": 1000
        }
      },
      "execution_count": 77,
      "outputs": [
        {
          "output_type": "execute_result",
          "data": {
            "text/plain": [
              "title\n",
              "The Old Guard (2020)                                      982\n",
              "Guardians of the Galaxy Volume 3 (2023)                   980\n",
              "Minari (2020)                                             965\n",
              "Extraction (2020)                                         952\n",
              "Barbie (2023)                                             939\n",
              "Sonic the Hedgehog (2020)                                 935\n",
              "CODA (2021)                                               915\n",
              "Red Notice (2021)                                         895\n",
              "Raya and the Last Dragon (2021)                           886\n",
              "John Wick: Chapter 4 (2023)                               861\n",
              "Last Night in Soho (2021)                                 861\n",
              "Wrath of Man (2021)                                       861\n",
              "The Tomorrow War (2021)                                   860\n",
              "Godzilla vs. Kong (2021)                                  857\n",
              "Triangle of Sadness (2022)                                853\n",
              "Turning Red (2022)                                        850\n",
              "The Power of the Dog (2021)                               841\n",
              "The Adam Project (2022)                                   811\n",
              "Pig (2021)                                                810\n",
              "Prey (2022)                                               800\n",
              "The Last Duel (2021)                                      794\n",
              "Greyhound (2020)                                          794\n",
              "My Octopus Teacher (2020)                                 788\n",
              "Licorice Pizza (2021)                                     784\n",
              "Venom: Let There Be Carnage (2021)                        781\n",
              "Judas and the Black Messiah (2021)                        758\n",
              "Black Panther: Wakanda Forever (2022)                     743\n",
              "Love and Monsters (2020)                                  741\n",
              "Dungeons & Dragons: Honor Among Thieves (2023)            740\n",
              "King Richard (2021)                                       738\n",
              "I Care a Lot (2020)                                       735\n",
              "Barbarian (2022)                                          730\n",
              "The King of Staten Island (2020)                          714\n",
              "The Unbearable Weight of Massive Talent (2021)            713\n",
              "Jungle Cruise (2021)                                      712\n",
              "Nightmare Alley (2021)                                    710\n",
              "Death on the Nile (2020)                                  687\n",
              "Mulan (2020)                                              683\n",
              "The Worst Person in the World (2021)                      678\n",
              "Mortal Kombat (2021)                                      677\n",
              "The Hunt (2020)                                           664\n",
              "Elvis (2022)                                              660\n",
              "TÁR (2022)                                                648\n",
              "The Devil All the Time (2020)                             641\n",
              "Bad Boys for Life (2020)                                  638\n",
              "Army of the Dead (2021)                                   631\n",
              "Eurovision Song Contest: The Story of Fire Saga (2020)    628\n",
              "Wolfwalkers (2020)                                        626\n",
              "The King's Man (2020)                                     612\n",
              "Ghostbusters: Afterlife (2021)                            601\n",
              "Name: count, dtype: int64"
            ],
            "text/html": [
              "<div>\n",
              "<style scoped>\n",
              "    .dataframe tbody tr th:only-of-type {\n",
              "        vertical-align: middle;\n",
              "    }\n",
              "\n",
              "    .dataframe tbody tr th {\n",
              "        vertical-align: top;\n",
              "    }\n",
              "\n",
              "    .dataframe thead th {\n",
              "        text-align: right;\n",
              "    }\n",
              "</style>\n",
              "<table border=\"1\" class=\"dataframe\">\n",
              "  <thead>\n",
              "    <tr style=\"text-align: right;\">\n",
              "      <th></th>\n",
              "      <th>count</th>\n",
              "    </tr>\n",
              "    <tr>\n",
              "      <th>title</th>\n",
              "      <th></th>\n",
              "    </tr>\n",
              "  </thead>\n",
              "  <tbody>\n",
              "    <tr>\n",
              "      <th>The Old Guard (2020)</th>\n",
              "      <td>982</td>\n",
              "    </tr>\n",
              "    <tr>\n",
              "      <th>Guardians of the Galaxy Volume 3 (2023)</th>\n",
              "      <td>980</td>\n",
              "    </tr>\n",
              "    <tr>\n",
              "      <th>Minari (2020)</th>\n",
              "      <td>965</td>\n",
              "    </tr>\n",
              "    <tr>\n",
              "      <th>Extraction (2020)</th>\n",
              "      <td>952</td>\n",
              "    </tr>\n",
              "    <tr>\n",
              "      <th>Barbie (2023)</th>\n",
              "      <td>939</td>\n",
              "    </tr>\n",
              "    <tr>\n",
              "      <th>Sonic the Hedgehog (2020)</th>\n",
              "      <td>935</td>\n",
              "    </tr>\n",
              "    <tr>\n",
              "      <th>CODA (2021)</th>\n",
              "      <td>915</td>\n",
              "    </tr>\n",
              "    <tr>\n",
              "      <th>Red Notice (2021)</th>\n",
              "      <td>895</td>\n",
              "    </tr>\n",
              "    <tr>\n",
              "      <th>Raya and the Last Dragon (2021)</th>\n",
              "      <td>886</td>\n",
              "    </tr>\n",
              "    <tr>\n",
              "      <th>John Wick: Chapter 4 (2023)</th>\n",
              "      <td>861</td>\n",
              "    </tr>\n",
              "    <tr>\n",
              "      <th>Last Night in Soho (2021)</th>\n",
              "      <td>861</td>\n",
              "    </tr>\n",
              "    <tr>\n",
              "      <th>Wrath of Man (2021)</th>\n",
              "      <td>861</td>\n",
              "    </tr>\n",
              "    <tr>\n",
              "      <th>The Tomorrow War (2021)</th>\n",
              "      <td>860</td>\n",
              "    </tr>\n",
              "    <tr>\n",
              "      <th>Godzilla vs. Kong (2021)</th>\n",
              "      <td>857</td>\n",
              "    </tr>\n",
              "    <tr>\n",
              "      <th>Triangle of Sadness (2022)</th>\n",
              "      <td>853</td>\n",
              "    </tr>\n",
              "    <tr>\n",
              "      <th>Turning Red (2022)</th>\n",
              "      <td>850</td>\n",
              "    </tr>\n",
              "    <tr>\n",
              "      <th>The Power of the Dog (2021)</th>\n",
              "      <td>841</td>\n",
              "    </tr>\n",
              "    <tr>\n",
              "      <th>The Adam Project (2022)</th>\n",
              "      <td>811</td>\n",
              "    </tr>\n",
              "    <tr>\n",
              "      <th>Pig (2021)</th>\n",
              "      <td>810</td>\n",
              "    </tr>\n",
              "    <tr>\n",
              "      <th>Prey (2022)</th>\n",
              "      <td>800</td>\n",
              "    </tr>\n",
              "    <tr>\n",
              "      <th>The Last Duel (2021)</th>\n",
              "      <td>794</td>\n",
              "    </tr>\n",
              "    <tr>\n",
              "      <th>Greyhound (2020)</th>\n",
              "      <td>794</td>\n",
              "    </tr>\n",
              "    <tr>\n",
              "      <th>My Octopus Teacher (2020)</th>\n",
              "      <td>788</td>\n",
              "    </tr>\n",
              "    <tr>\n",
              "      <th>Licorice Pizza (2021)</th>\n",
              "      <td>784</td>\n",
              "    </tr>\n",
              "    <tr>\n",
              "      <th>Venom: Let There Be Carnage (2021)</th>\n",
              "      <td>781</td>\n",
              "    </tr>\n",
              "    <tr>\n",
              "      <th>Judas and the Black Messiah (2021)</th>\n",
              "      <td>758</td>\n",
              "    </tr>\n",
              "    <tr>\n",
              "      <th>Black Panther: Wakanda Forever (2022)</th>\n",
              "      <td>743</td>\n",
              "    </tr>\n",
              "    <tr>\n",
              "      <th>Love and Monsters (2020)</th>\n",
              "      <td>741</td>\n",
              "    </tr>\n",
              "    <tr>\n",
              "      <th>Dungeons &amp; Dragons: Honor Among Thieves (2023)</th>\n",
              "      <td>740</td>\n",
              "    </tr>\n",
              "    <tr>\n",
              "      <th>King Richard (2021)</th>\n",
              "      <td>738</td>\n",
              "    </tr>\n",
              "    <tr>\n",
              "      <th>I Care a Lot (2020)</th>\n",
              "      <td>735</td>\n",
              "    </tr>\n",
              "    <tr>\n",
              "      <th>Barbarian (2022)</th>\n",
              "      <td>730</td>\n",
              "    </tr>\n",
              "    <tr>\n",
              "      <th>The King of Staten Island (2020)</th>\n",
              "      <td>714</td>\n",
              "    </tr>\n",
              "    <tr>\n",
              "      <th>The Unbearable Weight of Massive Talent (2021)</th>\n",
              "      <td>713</td>\n",
              "    </tr>\n",
              "    <tr>\n",
              "      <th>Jungle Cruise (2021)</th>\n",
              "      <td>712</td>\n",
              "    </tr>\n",
              "    <tr>\n",
              "      <th>Nightmare Alley (2021)</th>\n",
              "      <td>710</td>\n",
              "    </tr>\n",
              "    <tr>\n",
              "      <th>Death on the Nile (2020)</th>\n",
              "      <td>687</td>\n",
              "    </tr>\n",
              "    <tr>\n",
              "      <th>Mulan (2020)</th>\n",
              "      <td>683</td>\n",
              "    </tr>\n",
              "    <tr>\n",
              "      <th>The Worst Person in the World (2021)</th>\n",
              "      <td>678</td>\n",
              "    </tr>\n",
              "    <tr>\n",
              "      <th>Mortal Kombat (2021)</th>\n",
              "      <td>677</td>\n",
              "    </tr>\n",
              "    <tr>\n",
              "      <th>The Hunt (2020)</th>\n",
              "      <td>664</td>\n",
              "    </tr>\n",
              "    <tr>\n",
              "      <th>Elvis (2022)</th>\n",
              "      <td>660</td>\n",
              "    </tr>\n",
              "    <tr>\n",
              "      <th>TÁR (2022)</th>\n",
              "      <td>648</td>\n",
              "    </tr>\n",
              "    <tr>\n",
              "      <th>The Devil All the Time (2020)</th>\n",
              "      <td>641</td>\n",
              "    </tr>\n",
              "    <tr>\n",
              "      <th>Bad Boys for Life (2020)</th>\n",
              "      <td>638</td>\n",
              "    </tr>\n",
              "    <tr>\n",
              "      <th>Army of the Dead (2021)</th>\n",
              "      <td>631</td>\n",
              "    </tr>\n",
              "    <tr>\n",
              "      <th>Eurovision Song Contest: The Story of Fire Saga (2020)</th>\n",
              "      <td>628</td>\n",
              "    </tr>\n",
              "    <tr>\n",
              "      <th>Wolfwalkers (2020)</th>\n",
              "      <td>626</td>\n",
              "    </tr>\n",
              "    <tr>\n",
              "      <th>The King's Man (2020)</th>\n",
              "      <td>612</td>\n",
              "    </tr>\n",
              "    <tr>\n",
              "      <th>Ghostbusters: Afterlife (2021)</th>\n",
              "      <td>601</td>\n",
              "    </tr>\n",
              "  </tbody>\n",
              "</table>\n",
              "</div><br><label><b>dtype:</b> int64</label>"
            ]
          },
          "metadata": {},
          "execution_count": 77
        }
      ]
    },
    {
      "cell_type": "code",
      "source": [
        "import matplotlib.pyplot as plt\n",
        "\n",
        "plt.figure(figsize=(7,5))\n",
        "_, _, bars = plt.hist(all_ratings['title'].value_counts(), bins=7)\n",
        "plt.bar_label(bars)\n",
        "plt.title('Histogram of Popularity')\n",
        "plt.xlabel('# of Ratings')\n",
        "plt.ylabel('# of Movies')\n",
        "plt.show()"
      ],
      "metadata": {
        "id": "apIasPYexhjf",
        "outputId": "143a74e5-2636-4c0f-cbec-7ce3703063a6",
        "colab": {
          "base_uri": "https://localhost:8080/",
          "height": 487
        }
      },
      "execution_count": 78,
      "outputs": [
        {
          "output_type": "display_data",
          "data": {
            "text/plain": [
              "<Figure size 700x500 with 1 Axes>"
            ],
            "image/png": "[encoded data removed]"
          },
          "metadata": {}
        }
      ]
    },
    {
      "cell_type": "code",
      "source": [
        "plt.figure(figsize=(7,5))\n",
        "_, _, bars = plt.hist(all_ratings['userId'].value_counts(), bins=7)\n",
        "plt.bar_label(bars)\n",
        "plt.title('Histogram of User Activity')\n",
        "plt.xlabel('# of Ratings')\n",
        "plt.ylabel('# of Users')\n",
        "plt.show()"
      ],
      "metadata": {
        "id": "CzrlTlO-yEgp",
        "outputId": "77d39851-8fc4-4e63-9fc2-271c490ef792",
        "colab": {
          "base_uri": "https://localhost:8080/",
          "height": 487
        }
      },
      "execution_count": 79,
      "outputs": [
        {
          "output_type": "display_data",
          "data": {
            "text/plain": [
              "<Figure size 700x500 with 1 Axes>"
            ],
            "image/png": "[encoded data removed]"
          },
          "metadata": {}
        }
      ]
    },
    {
      "cell_type": "markdown",
      "source": [
        "#average rating and top 20 (too much 5.0)"
      ],
      "metadata": {
        "id": "JCtMcrVjyNk9"
      }
    },
    {
      "cell_type": "code",
      "source": [
        "average_ratings = all_ratings.groupby([\"title\"])[\"rating\"].mean()\n",
        "average_ratings.nlargest(100)"
      ],
      "metadata": {
        "id": "TSowm0KayQUn",
        "outputId": "087eb0be-0140-4532-898c-47b9d928b275",
        "colab": {
          "base_uri": "https://localhost:8080/",
          "height": 490
        }
      },
      "execution_count": 80,
      "outputs": [
        {
          "output_type": "execute_result",
          "data": {
            "text/plain": [
              "title\n",
              "'Tis the Season to be Merry (2021)                       5.0\n",
              "A Compassionate Spy (2022)                               5.0\n",
              "A Country Romance (2021)                                 5.0\n",
              "A Godwink Christmas: Second Chance, First Love (2020)    5.0\n",
              "A Holiday Homecoming (2021)                              5.0\n",
              "                                                        ... \n",
              "Lights, Camera, Romance (2021)                           5.0\n",
              "Look At Me: XXXTENTACION (2022)                          5.0\n",
              "Lost & Found in Rome (2021)                              5.0\n",
              "Love in Aruba (2021)                                     5.0\n",
              "Love in Bloom (2022)                                     5.0\n",
              "Name: rating, Length: 100, dtype: float64"
            ],
            "text/html": [
              "<div>\n",
              "<style scoped>\n",
              "    .dataframe tbody tr th:only-of-type {\n",
              "        vertical-align: middle;\n",
              "    }\n",
              "\n",
              "    .dataframe tbody tr th {\n",
              "        vertical-align: top;\n",
              "    }\n",
              "\n",
              "    .dataframe thead th {\n",
              "        text-align: right;\n",
              "    }\n",
              "</style>\n",
              "<table border=\"1\" class=\"dataframe\">\n",
              "  <thead>\n",
              "    <tr style=\"text-align: right;\">\n",
              "      <th></th>\n",
              "      <th>rating</th>\n",
              "    </tr>\n",
              "    <tr>\n",
              "      <th>title</th>\n",
              "      <th></th>\n",
              "    </tr>\n",
              "  </thead>\n",
              "  <tbody>\n",
              "    <tr>\n",
              "      <th>'Tis the Season to be Merry (2021)</th>\n",
              "      <td>5.0</td>\n",
              "    </tr>\n",
              "    <tr>\n",
              "      <th>A Compassionate Spy (2022)</th>\n",
              "      <td>5.0</td>\n",
              "    </tr>\n",
              "    <tr>\n",
              "      <th>A Country Romance (2021)</th>\n",
              "      <td>5.0</td>\n",
              "    </tr>\n",
              "    <tr>\n",
              "      <th>A Godwink Christmas: Second Chance, First Love (2020)</th>\n",
              "      <td>5.0</td>\n",
              "    </tr>\n",
              "    <tr>\n",
              "      <th>A Holiday Homecoming (2021)</th>\n",
              "      <td>5.0</td>\n",
              "    </tr>\n",
              "    <tr>\n",
              "      <th>...</th>\n",
              "      <td>...</td>\n",
              "    </tr>\n",
              "    <tr>\n",
              "      <th>Lights, Camera, Romance (2021)</th>\n",
              "      <td>5.0</td>\n",
              "    </tr>\n",
              "    <tr>\n",
              "      <th>Look At Me: XXXTENTACION (2022)</th>\n",
              "      <td>5.0</td>\n",
              "    </tr>\n",
              "    <tr>\n",
              "      <th>Lost &amp; Found in Rome (2021)</th>\n",
              "      <td>5.0</td>\n",
              "    </tr>\n",
              "    <tr>\n",
              "      <th>Love in Aruba (2021)</th>\n",
              "      <td>5.0</td>\n",
              "    </tr>\n",
              "    <tr>\n",
              "      <th>Love in Bloom (2022)</th>\n",
              "      <td>5.0</td>\n",
              "    </tr>\n",
              "  </tbody>\n",
              "</table>\n",
              "<p>100 rows × 1 columns</p>\n",
              "</div><br><label><b>dtype:</b> float64</label>"
            ]
          },
          "metadata": {},
          "execution_count": 80
        }
      ]
    },
    {
      "cell_type": "markdown",
      "source": [
        "#Train, Validation, and Test Data"
      ],
      "metadata": {
        "id": "MpgB6ZHszbvi"
      }
    },
    {
      "cell_type": "code",
      "source": [
        "from sklearn.model_selection import train_test_split\n",
        "\n",
        "ratings_trainval, ratings_test = train_test_split(all_ratings, test_size=0.1, random_state=42)\n",
        "\n",
        "ratings_train, ratings_val = train_test_split(ratings_trainval, test_size=0.1, random_state=42)"
      ],
      "metadata": {
        "id": "67Yz6GqhzeMj"
      },
      "execution_count": 81,
      "outputs": []
    },
    {
      "cell_type": "code",
      "source": [
        "user_id_train = ratings_train['userId']\n",
        "item_id_train = ratings_train['movieId']\n",
        "rating_train = ratings_train['rating']\n",
        "\n",
        "user_id_test = ratings_test['userId']\n",
        "item_id_test = ratings_test['movieId']\n",
        "rating_test = ratings_test['rating']"
      ],
      "metadata": {
        "id": "mlOUAiUNzoIz"
      },
      "execution_count": 82,
      "outputs": []
    },
    {
      "cell_type": "code",
      "source": [
        "movies_not_train = list(set(all_ratings['movieId']) -set(item_id_train))\n",
        "movies_not_train_name = set(all_ratings[all_ratings['movieId'].isin(movies_not_train)]['title'])\n",
        "\n",
        "print(movies_not_train_name)"
      ],
      "metadata": {
        "id": "Do9E4FFFzxgf",
        "outputId": "34b46c43-ae0c-43d1-8c34-92b8cee92c48",
        "colab": {
          "base_uri": "https://localhost:8080/"
        }
      },
      "execution_count": 83,
      "outputs": [
        {
          "output_type": "stream",
          "name": "stdout",
          "text": [
            "{'Frontiers (2023)', 'Running the Bases (2022)', 'Move the Grave (2020)', 'Werewolf Cabal (2022)', 'Seasoned With Love (2021)', 'Banging Lanie (2020)', 'Birdemic 3: Sea Eagle (2022)', 'Iké Boys (2022)', 'The Man Who Knew Too Much (2020)', 'Pakka Commercial (2022)', 'Confession (2023)', 'Titina (2022)', 'Klokkenluider (2023)', 'Clown Fear (2020)', 'Banksy Most Wanted (2020)', 'Downfalls High (2021)', 'As They Made Us (2022)', 'Come Fly with Me (2023)', 'Girlfriends and Girlfriends (2023)', 'Agent Revelation (2021)', 'Shatner in Space (2021)', 'Escape From Area Fifty One (2021)', 'The Barkers: Mind the Cats! (2020)', 'Unparalleled Mulan (2020)', 'The Reenactment (2021)', 'A Crafty Christmas Romance (2020)', 'Toyen: The Subversive Baroness Of Surrealism (2022)', 'Frank & Zed (2020)', 'Far Far Away (2022)', 'Voices (2020)', 'Him (2021)', 'Shark (2022)', 'Dads (2022)', 'All the Names of God (2023)', \"Mama's Boy (2022)\", 'Finnick (2022)', 'A Bunch of Amateurs (2022)', 'The Mare (2020)', 'The Last Christmas Party (2020)', 'Jared Freid: 37 & Single (2023)', 'Bankrolled (2021)', 'A Spy Movie (2021)', 'The Perfect Find (2023)', 'To the Moon (2020)', 's01e03 (2020)', 'The Retreat (2021)', 'Blindfold (2021)', 'Tango Shalom (2021)', 'We Are As Gods (2022)', 'The Silent Forest (2022)', 'Mama’s Affair (2022)', 'The Wall of Shadows (2021)', 'Madalena (2021)', 'Goodbye, Petrushka (2022)', 'Exile (2020)', 'One Ranger (2023)', 'The Monster at the End of This Story (2020)', 'Nest (2022)', 'Carry on Jatta 3 (2023)', 'Goodbye, Don Glees! (2022)', 'Space Titans: Musk, Bezos Branson (2021)', 'The Fox (2022)', 'Complete Strangers (2020)', 'Love in the Great Smoky Mountains: A National Park Romance (2023)', 'Heart Shot (2022)', 'The United States of Insanity (2021)', 'Immersion (2021)', 'Give Me Pity! (2022)', 'Mob Land (2023)', 'Nurnberg (2023)', 'Nothing But the Blood (2020)', 'An Optical Illusion (2021)', 'Love According to Dalva (2023)', 'Hero Dog: The Journey Home (2021)', \"The Policeman's Lineage (2022)\", 'The Dorm (2021)', 'Manchester United: For the Glory (2020)', 'Love at Sunset Terrace (2020)', 'Mickey Saves Christmas (2022)', '2037 (2022)', 'A Tail of Love (2022)', 'Little Big Mouth (2021)', 'Starbright (2021)', 'Cool Abdoul (2021)', 'Storm Lake (2021)', 'Empire of Silence (2022)', 'Ogre (2022)', 'Greenback (2023)', 'Fear (2020)', 'Confessions of an Invisible Girl (2021)', 'Night on Earth: Shot in the Dark (2020)', 'Буран (2021)', 'Calm Before (2021)', 'Zoom (2020)', 'Get the Grift (2021)', 'One Life at a Time (2020)', 'Behind The Sightings (2021)', '45 Days: The Fight for a Nation (2021)', 'The Subject (2020)', 'The Rose Family (2020)', 'The Good Traitor (2020)', 'Orphea in Love (2022)', 'Cuatro Paredes (2021)', 'Empire (2023)', 'Luzifer (2022)', 'Tuesday Club (2022)', 'A Tree of Life: The Pittsburgh Synagogue Shooting (2022)', 'The Alternate (2021)', 'Legacy (2020)', 'Cross Purposes (2021)', 'No Dogs or Italians Allowed (2023)', 'Save the Cinema (2022)', 'All Man: The International Male Story (2022)', 'A Nightmare Wakes (2020)', 'The 27-Hour Day (2021)', 'Incision (2020)', 'Fake News (2021)', 'Two Tickets to Greece (2023)', 'Snapshot of Love (2022)', 'Ladies Only (2021)', 'Bad Ben: Benign (2021)', 'Stroke of Luck (2022)', 'Punorjonmo 2 | পুনর্জন্ম ২ (2021)', 'Robin Roberts Presents: The Mahalia Jackson Story (2021)', 'Blackwood (2022)', 'I Used to Be Funny (2023)', 'LIFE BEYOND: Chapter 2. The Museum of Alien Life (2020)', 'Synapse (2021)', 'Daughter of the Bride (2023)', 'Pilgrims (2021)', 'Mojave Diamonds (2023)', 'Shadow of Violence (2020)', 'Help (Movie) (2021)', '9/11: Four Flights (2021)', 'The Kids (2021)', 'Nowhere Alaska (2020)', 'What Goes Around (2020)', 'Achoura (2020)', 'Dragon Fury (2021)', 'Liverpool FC: The 30 Year Wait (2020)', 'Free Burma Rangers (2020)', 'Break Even (2020)', 'If From Every Tongue it Drips (2021)', 'Hacker: Trust No One (2022)', 'Namoo (2021)', 'Dogwashers (2020)', 'Driven to the Edge (2020)', 'We Choose To Go (2020)', 'Tahara (2022)', 'Aurora (2023)', 'North Korea: Inside The Mind of a Dictator (2021)', 'star-crossed: the film (2021)', 'The Male Gaze: Nocturnal Instincts (2021)', 'Finding Randy (2020)', 'Love, Game, Match (2022)', 'The Barcelona Vampiress (2020)', 'She Ball (2020)', 'Freelance (2023)', 'The Wedding Veil Journey (2023)', 'She Came at Night (2023)', 'Tugging Diary (2021)', 'Dawn, her Dad & the Tractor (2021)', \"Paul's Promise (2022)\", 'Escape: Puzzle of Fear (2020)', 'F_cking Bornholm (2022)', 'A Thousand Lines (2022)', 'Await the Dawn (2020)', 'A Fiance for Christmas (2021)', '10 Truths About Love (2022)', 'The Dilemma of Desire (2020)', '3 Women (2020)', 'Zátopek (2021)', 'Squatter (2020)', 'Deinfluencer (2022)', 'Why We Breathe (2020)', 'Finding Jesus 2 (2021)', 'Next Sohee (2022)', 'The Butcher’s Daughter (2022)', 'Qodrat (2022)', 'In the Name of a Prank (2022)', 'Mother Lode (2021)', 'Harland Manor (2021)', 'Girl Gang (2022)', 'A Taste of Whale (2022)', 'Match Me If You Can (2023)', 'When Love Springs (2023)', 'Gone Mom: The Disappearance of Jennifer Dulos (2021)', 'Space Wars: Quest for the Deepstar (2023)', 'Omen (2023)', 'The Companions (2022)', 'Rear Window (2020)', 'As Gouda as It Gets (2021)', 'Madison Baker Was Here (2021)', 'Coachella: 20 Years in the Desert (2020)', 'Kinsenas, Katapusan (2022)', 'Love Spreads (2021)', 'The Maiden (2022)', 'Up On The Glass (2020)', 'Deleter (2022)', 'Thellavarithe Guruvaram (2021)', 'The Grump: In Search of an Escort (2022)', 'Mako (2021)', 'Sandra Gets a Job (2021)', 'Corro da te (2022)', 'Contracts (2020)', 'Rattlesnake: The Ahanna Story (2020)', 'Abbi fede (2022)', 'BEYOND THE NEON (2022)', 'Bloody Summer Camp (2021)', \"Nobody's Hero (2022)\", 'Trunkfish (2021)', 'Royal Rendezvous (2023)', 'The Girl in Cabin Thirteen (2021)', 'Christmas on 5th Avenue (2021)', 'The Red Book Ritual (2022)', 'Romance in the Wilds (2021)', \"March '68 (2022)\", 'The Story of My Wife (2021)', 'The Ghosts of Monday (2022)', 'Country Gold (2022)', 'Dasara (2023)', 'Office Royale (2021)', 'Breaking Them Up (2020)', 'Lead Belly (2021)', 'The Cuban (2020)', 'Pursuit of Freedom (2022)', 'Toys of Terror (2020)', 'Explant (2021)', 'Hold Fast, Good Luck (2020)', 'Cabin Girl (2023)', 'Mirciulica (2022)', 'Soulmates (2021)', 'Badland Doves (2021)', 'Blood Pageant (2021)', 'Dying to Be You (2020)', 'Cade: The Tortured Crossing (2023)', 'A normal world (2020)', 'Lie Exposed (2020)', 'Dhaakad (2022)', 'Antakshari (2022)', 'Blue Island (2022)', \"A Cowgirl's Song (2022)\", 'Bunty Aur Babli 2 (2021)', 'Container (2020)', 'Bone Cage (2020)', 'Saturn Bowling (2022)', 'Christina P: Mom Genes (2022)', 'Angeliena (2021)', 'Mysterious Circumstance: The Death of Meriwether Lewis (2022)', 'Go Seppuku Yourselves (2021)', 'The Yellow Ceiling (2022)', 'The Black Emperor of Broadway (2020)', 'Phantom (2023)', 'Amy Tan: Unintended Memoir (2021)', 'Nocturnal (2020)', 'Macherla Niyojakavargam (2022)', 'Asur (2020)', \"The Emperor's Sword (2020)\", 'Exit (2020)', 'Arsène Wenger: Invincible (2021)', '8 Graves (2020)', 'Groomed (2021)', 'Paint (2020)', 'A Compassionate Spy (2022)', 'Theaters of War (2022)', 'Christmas is Canceled (2021)', 'Suicide for Beginners (2022)', 'The Angel Tree (2020)', 'We Are Still Here (2022)', 'Redemption of a Rogue (2021)', 'Endjährig (2020)', 'The Path of Excellence (2023)', '4 Presidents (2020)', '2020 (2020)', 'Dogtanian and the Three Muskehounds (2021)', \"Where Butterflies Don't Fly (2022)\", 'Battlecry (2021)', 'The Samaritans (2020)', 'Boris Karloff: The Man Behind the Monster (2021)', 'Blood Line (2020)', 'Hidden Letters (2022)', 'Escape 2120 (2020)', 'Character (2021)', 'Film Fest (2020)', 'Stallone: Frank, That Is (2021)', 'Sam Now (2022)', '137 Shots (2021)', 'Once Upon a Time in Venezuela (2020)', 'Caliber 9 (2020)', 'Farewell Mister Haffmann (2022)', 'Chris Watts: Confessions of a Killer (2020)', 'My Animal (2023)', 'On the Edge (2022)', 'Exploited (2022)', 'Smack Dab Kakha. Another Film (2023)', 'Sembi (2022)', 'Safeguard: An Electoral College Story (2020)', 'Deadly Promises (2020)', \"Agatha Christie's England (2020)\", 'Marry Go Round (2022)', 'Borrowed (2022)', 'Retrograde (2023)', 'Suitcase Killer: The Melanie McGuire Story (2022)', 'Iceland Is Best (2020)', 'Grand Paris (2023)', 'Home (2023)', 'The Uncle (2022)', 'La broma (2021)', 'Something in the Shadows (2021)', 'A Girl and A Guy (2021)', 'After So Many Days (2020)', \"Leanne Morgan: I'm Every Woman (2023)\", 'Northern Quality (2022)', 'The Wedding Day (2021)', 'Courting Mom and Dad (2021)', 'Three Ways (2022)', 'Dawn (2022)', 'The Night Owl (2022)', 'Most Eligible Bachelor (2021)', \"Général Soleimani, le stratège de l'Iran (2021)\", 'Minamata Mandala (2020)', 'Future Soldier (2023)', 'They Say Nothing Stays the Same (2021)', 'Paappan (2022)', 'Barbie & Chelsea the Lost Birthday (2021)', 'Getting to Know You (2020)', 'Subject (2022)', 'Crossword Mysteries: Terminal Descent (2021)', 'Where the Scary Things Are (2022)', 'Ron Carter: Finding the Right Notes (2022)', 'Joel Kim Booster: Psychosexual (2022)', 'Knitting (2021)', 'Psychopomp (2020)', 'The Five Rules Of Success (2020)', 'King Car (2021)', 'Bermuda Island (2023)', 'A Kiss Before Christmas (2021)', 'Puzhu (2022)', 'A Paris Proposal (2023)', \"Bruno Aleixo's Film (2020)\", 'El verano que vivimos (2020)', 'Jumping from High Places (2022)', 'American Reject (2022)', \"The Boulet Brothers' Halfway to Halloween TV Special (2023)\", 'My Lovely Angel (2021)', 'The Woman with No Face (2020)', 'The Last Deal (2023)', 'Patterns of Evidence: Journey to Mount Sinai II (2023)', 'Reversion (2020)', 'Welcome to the Occult Forest: The Movie (2022)', 'Mates (2023)', 'Dirt Music (2020)', 'Football Inside (2021)', 'The Boys in the Band: Something Personal (2020)', 'Extra Innings (2020)', 'The Last Ghost Hunters (2021)', 'The Elfkins - Baking a Difference (2020)', 'The Restless (2021)', 'Dilly Loves Kitty (2022)', 'Your Turn to Kill: The Movie (2021)', 'Russie - Le laboratoire syrien (2022)', 'Unprincipled in the Village (2023)', 'The Stranger (2022)', 'Eingeschlossene Gesellschaft (2022)', 'The Attachment Diaries (2021)', 'Shark Season (2020)', 'George Ezra: End to End (2022)', 'Super Monsters: Day of the Monsters (2020)', 'Eric Clapton: Standing at the Crossroads (2021)', 'The Wimbledon Kidnapping (2021)', 'Tantura (2022)', 'The Restoration (2020)', 'Mercy (2023)', 'Chien blanc (2022)', 'Not Going Quietly (2021)', 'Cerebrum (2021)', 'Siberian Sniper (2021)', 'Bem-Vinda a Quixeramobim (2022)', 'Bigorexia (2020)', 'Killer Cheer Mom (2021)', 'Konga TNT (2020)', 'Eva & Adam (2021)', 'Silent Witnesses (2023)', 'Meteor Moon (2020)', 'The Hole in the Fence (2021)', \"Les Bodin's en Thaïlande (2021)\", 'El método Tangalanga (2023)', 'Woman (2020)', \"Bob the Drag Queen: Live at Caroline's (2020)\", 'Fist of the Condor (2023)', 'A Loud House Christmas (2021)', 'Range Roads (2021)', 'War Pony (2023)', 'Black Box (2021)', 'Us Kids (2020)', \"Hospital - Daughter's Mother (2021)\", 'Mes très chers enfants (2021)', 'Dave Stevens: Drawn to Perfection (2022)', 'The Violent Heart (2020)', 'Gensan Punch (2021)', 'Money Bots (2020)', 'The Price of Family (2022)', 'Three Floors (2021)', 'Her Secret Family Killer (2020)', \"Dad, I'm Sorry (2021)\", 'Darkness in Tenement 45 (2020)', 'Lost Tombs of the Pyramids (2020)', 'Jesus (2020)', 'Next Door Neighbor (2020)', 'Zombie Town (2023)', 'Once Upon a Main Street (2020)', 'Black Friday Subliminal (2021)', \"We All Think We're Special (2021)\", 'Nightmare (2022)', 'Pollywood (2020)', 'Life as It Should Be (2020)', 'The Final Rose (2022)', 'That Kind of Summer (2022)', 'Wolf Hound (2022)', 'Exhibit (2021)', 'Lost & Found in Rome (2021)', 'Game of Love (2022)', 'Aliens, Clowns & Geeks (2021)', 'Mystery 101: Deadly History (2021)', 'Mighty Oak (2020)', 'Wander (2022)', 'Kratt (2020)', 'Feride (2020)', 'The Vaccine War (2023)', 'Dirty (2020)', 'Reclaim (2022)', 'Too Late (2021)', 'Sulphur and White (2020)', 'The Last Chapter (2021)', 'The Wedding Trip (2021)', 'A Bend in the River (2020)', 'A Party Gone Wrong (2021)', 'The Girl on a Bulldozer (2022)', 'Risto Räppääjä ja villi kone (2023)', 'Nest of Vampires (2021)', 'Expulsion (2020)', 'Truth or Consequences (2020)', 'Hunting Ava Bravo (2022)', 'The Shift (2021)', 'Startup: The Real Story (2021)', 'The Giants of Easter Islands (2023)', 'White Sky (2021)', 'Eden (2020)', 'Homeroom (2021)', 'Furtive (2020)', 'Yannick (2023)', 'Christmas CEO (2021)', 'The Devil to Pay (2020)', 'Bangarraju (2022)', 'Shark Teeth (2023)', 'Death Drop Gorgeous (2021)', 'Bigfoot: The Conspiracy (2020)', 'The Wrong Mr. Right (2021)', 'Dead Reckoning (2020)', 'Ritorno al crimine (2021)', 'MC-Helper BeKINGs (2022)', 'Yaga and Spell Book (2023)', \"Who's the Boss (2020)\", \"Princess 'Daya'Reese (2021)\", 'Christmas in the Pines (2021)', 'Paulie Go! (2022)', 'All the Crows in the World (2021)', 'Vibration (2020)', 'Subtraction (2022)', 'Her Name Was Christa (2020)', 'The Green Sea (2021)', 'ETs Among Us 4: The Reality of ET/Human Hybrids (2020)', 'Death Ranch (2020)', 'Haroun (2021)', 'El Camino (2020)', 'Black Ice (2022)', 'Ghoul Catchers (2020)', 'The Silent Forest (2020)', 'They Call Me Dr. Miami (2020)', 'Tre di troppo (2023)', 'Tim Dillon: A Real Hero (2022)', 'Love Stories in Sunflower Valley (2021)', 'Walk the Tideline (2021)', 'The Park (2023)', 'Kicking Blood (2021)', 'Vir Das: Outside in - The Lockdown Special (2020)', 'Noah’s Shark (2021)', 'Sugar High (2020)', 'Guardian of the Palace (2020)', 'A Christmas Exchange (2020)', 'Of Fish and Men (2020)', 'Christmas Freak (2021)', 'My Massive Cock (2022)', 'Harvey (2021)', 'Diva (2020)', 'Axiom (2022)', 'The Plains (2022)', 'Star Light (2020)', 'Легенды Орлёнка (2022)', 'Bicentenario (2020)', 'Happy Ending (2023)', 'Living Bad (2023)', 'Beauty and the Beast: A 30th Celebration (2022)', 'Honest Candidate 2 (2022)', 'The Hunt (2021)', 'The Male Gaze: Strikers & Defenders (2020)', 'Aurora Teagarden Mysteries: Heist and Seek (2020)', 'Rose (2021)', 'Chasing Whiskey (2020)', 'The Neighbor in the Window (2020)', 'Trip (2022)', 'When the Waves Are Gone (2022)', \"The Tiger's Nest (2022)\", 'Runt (2020)', 'Seneca – On the Creation of Earthquakes (2023)', 'The Secret of Karma (2020)', \"I Didn't See You There (2022)\", 'Abang Adik (2023)', 'Taking the Reins (2021)', 'We Lost Our Human (2023)', 'Hiraeth (2021)', 'Nuclear (2022)', 'Fairy (2020)', 'The Young Observant (2020)', 'Night Shift (2021)', 'The Adventures of Açela (2020)', 'The Winners (2020)', 'I Missed You (2021)', 'Giraffe (2020)', 'A Bookshop in Paris (2021)', 'Mael Totey: The Movie (2020)', 'Alex Murdaugh: Death. Deception. Power (2021)', 'Hacksaw (2020)', 'Miss. Shetty Mr. Polishetty (2023)', 'Pompei ultima scoperta (2020)', 'Wedding of the Century (2021)', 'Merry Liddle Christmas Wedding (2020)', 'Laid-Back Camp The Movie (2022)', 'A Lot of Nothing (2023)', 'A Sickness (2021)'}\n"
          ]
        }
      ]
    },
    {
      "cell_type": "markdown",
      "source": [
        "#Data Load and Batching"
      ],
      "metadata": {
        "id": "uLD_-M7Z0KvA"
      }
    },
    {
      "cell_type": "code",
      "source": [
        "import torch\n",
        "import numpy as np\n",
        "device = torch.device(\"cuda:0\" if torch.cuda.is_available() else \"cpu\")"
      ],
      "metadata": {
        "id": "tXyC2eg50d4C"
      },
      "execution_count": 84,
      "outputs": []
    },
    {
      "cell_type": "code",
      "source": [
        "def df_2_tensor(df, device):\n",
        "    # return a triplet user_num, item_num, rating from the dataframe\n",
        "    user_num = np.asarray(df['userId'])\n",
        "    item_num = np.asarray(df['movieId'])\n",
        "    rating = np.asarray(df['rating'])\n",
        "    return torch.from_numpy(user_num).to(device), torch.from_numpy(item_num).to(device), torch.from_numpy(rating).to(device)"
      ],
      "metadata": {
        "id": "E7F-qE-n0NDS"
      },
      "execution_count": 85,
      "outputs": []
    },
    {
      "cell_type": "code",
      "source": [
        "train_user_num, train_item_num, train_rating = df_2_tensor(ratings_train,device)"
      ],
      "metadata": {
        "id": "uAytwcUH0cX9"
      },
      "execution_count": 86,
      "outputs": []
    },
    {
      "cell_type": "code",
      "source": [
        "val_user_num, val_item_num, val_rating = df_2_tensor(ratings_val,device)\n",
        "test_user_num, test_item_num, test_rating = df_2_tensor(ratings_test,device)"
      ],
      "metadata": {
        "id": "BuoOo-pJ0pis"
      },
      "execution_count": 87,
      "outputs": []
    },
    {
      "cell_type": "markdown",
      "source": [
        "Dataset and dataloader\n"
      ],
      "metadata": {
        "id": "H4jYG-YZ0tYw"
      }
    },
    {
      "cell_type": "code",
      "source": [
        "def tensor_2_dataset(user,item,rating):\n",
        "    # your code here\n",
        "    # Hint: check the zip function\n",
        "    return list(zip(user,item,rating))\n",
        "\n",
        "def make_dataloader(dataset,bs,shuffle):\n",
        "    # your code here\n",
        "    return torch.utils.data.DataLoader(dataset,batch_size=bs,shuffle=shuffle)"
      ],
      "metadata": {
        "id": "T7yxYkNV0w2m"
      },
      "execution_count": 88,
      "outputs": []
    },
    {
      "cell_type": "code",
      "source": [
        "train_dataset = tensor_2_dataset(train_user_num,train_item_num, train_rating)\n",
        "val_dataset = tensor_2_dataset(val_user_num,val_item_num,val_rating)\n",
        "test_dataset = tensor_2_dataset(test_user_num, test_item_num, test_rating)"
      ],
      "metadata": {
        "id": "6FaYnkST0zTe"
      },
      "execution_count": 89,
      "outputs": []
    },
    {
      "cell_type": "code",
      "source": [
        "train_dataloader = make_dataloader(train_dataset,1024,True)\n",
        "val_dataloader = make_dataloader(val_dataset,1024, False)\n",
        "test_dataloader = make_dataloader(test_dataset,1024,False)"
      ],
      "metadata": {
        "id": "jpnggqkgelwB"
      },
      "execution_count": 90,
      "outputs": []
    },
    {
      "cell_type": "markdown",
      "source": [
        "#The model"
      ],
      "metadata": {
        "id": "XlphBk4VfDeq"
      }
    },
    {
      "cell_type": "code",
      "source": [
        "import torch.nn as nn\n",
        "import torch.nn.functional as F\n",
        "import torch.optim as optim"
      ],
      "metadata": {
        "id": "KCURc1sCfFd0"
      },
      "execution_count": 91,
      "outputs": []
    },
    {
      "cell_type": "code",
      "source": [
        "class ScaledEmbedding(nn.Embedding):\n",
        "    \"\"\"\n",
        "    Embedding layer that initialises its values\n",
        "    to using a normal variable scaled by the inverse\n",
        "    of the embedding dimension.\n",
        "    \"\"\"\n",
        "    def reset_parameters(self):\n",
        "        \"\"\"\n",
        "        Initialize parameters.\n",
        "        \"\"\"\n",
        "\n",
        "        self.weight.data.normal_(0, 1.0 / self.embedding_dim)\n",
        "        if self.padding_idx is not None:\n",
        "            self.weight.data[self.padding_idx].fill_(0.0)\n",
        "\n",
        "\n",
        "class ZeroEmbedding(nn.Embedding):\n",
        "    \"\"\"\n",
        "    Used for biases.\n",
        "    \"\"\"\n",
        "\n",
        "    def reset_parameters(self):\n",
        "        \"\"\"\n",
        "        Initialize parameters.\n",
        "        \"\"\"\n",
        "\n",
        "        self.weight.data.zero_()\n",
        "        if self.padding_idx is not None:\n",
        "            self.weight.data[self.padding_idx].fill_(0.0)"
      ],
      "metadata": {
        "id": "-faAf_d4fIqq"
      },
      "execution_count": 92,
      "outputs": []
    },
    {
      "cell_type": "code",
      "source": [
        "class DotModel(nn.Module):\n",
        "\n",
        "    def __init__(self,\n",
        "                 num_users,\n",
        "                 num_items,\n",
        "                 embedding_dim=32):\n",
        "\n",
        "        super(DotModel, self).__init__()\n",
        "\n",
        "        self.embedding_dim = embedding_dim\n",
        "\n",
        "        # TODO: generate user and item embeddigns using ScaledEmbedding\n",
        "        # your code\n",
        "        self.user_embeddings = ScaledEmbedding(num_users, embedding_dim)\n",
        "        self.item_embeddings = ScaledEmbedding(num_items, embedding_dim)\n",
        "\n",
        "        # TODO: generate bias embeddigns using ZeroEmbedding\n",
        "        # your code\n",
        "        self.user_biases = ZeroEmbedding(num_users, 1)\n",
        "        self.item_biases = ZeroEmbedding(num_items, 1)\n",
        "\n",
        "\n",
        "    def forward(self, user_ids, item_ids):\n",
        "        #\n",
        "        # your code\n",
        "        #\n",
        "        user_embedding = self.user_embeddings(user_ids)\n",
        "        item_embedding = self.item_embeddings(item_ids)\n",
        "\n",
        "        user_bias = self.user_biases(user_ids).squeeze()\n",
        "        item_bias = self.item_biases(item_ids).squeeze()\n",
        "\n",
        "        dot = torch.mul(user_embedding, item_embedding).sum(1)\n",
        "        res = dot + user_bias + item_bias\n",
        "\n",
        "        return res"
      ],
      "metadata": {
        "id": "rxo2ummJfJdj"
      },
      "execution_count": 93,
      "outputs": []
    },
    {
      "cell_type": "code",
      "source": [
        "total_user_id = merged_data['userId'].nunique()  # Total number of unique users\n",
        "total_item_id = merged_data['movieId'].nunique()  # Total number of unique items\n",
        "\n",
        "total_user_id, total_item_id\n"
      ],
      "metadata": {
        "id": "S8iDW4rbghis",
        "outputId": "c8bdf128-baf0-450e-86ca-036ed40a2ab3",
        "colab": {
          "base_uri": "https://localhost:8080/"
        }
      },
      "execution_count": 94,
      "outputs": [
        {
          "output_type": "execute_result",
          "data": {
            "text/plain": [
              "(200948, 84432)"
            ]
          },
          "metadata": {},
          "execution_count": 94
        }
      ]
    },
    {
      "cell_type": "code",
      "source": [
        "net = DotModel(total_user_id,total_item_id).to(device)\n",
        "net"
      ],
      "metadata": {
        "id": "Rc0zvIDLfNPi",
        "outputId": "13b510be-2948-4c77-b01c-9966bb8d1553",
        "colab": {
          "base_uri": "https://localhost:8080/"
        }
      },
      "execution_count": 95,
      "outputs": [
        {
          "output_type": "execute_result",
          "data": {
            "text/plain": [
              "DotModel(\n",
              "  (user_embeddings): ScaledEmbedding(200948, 32)\n",
              "  (item_embeddings): ScaledEmbedding(84432, 32)\n",
              "  (user_biases): ZeroEmbedding(200948, 1)\n",
              "  (item_biases): ZeroEmbedding(84432, 1)\n",
              ")"
            ]
          },
          "metadata": {},
          "execution_count": 95
        }
      ]
    },
    {
      "cell_type": "code",
      "source": [
        "batch_user, batch_item, batch_rating = next(iter(train_dataloader))\n",
        "batch_user, batch_item, batch_rating = batch_user.to(device), batch_item.to(device), batch_rating.to(device)"
      ],
      "metadata": {
        "id": "0X_COQ5Kg5b8"
      },
      "execution_count": 96,
      "outputs": []
    },
    {
      "cell_type": "code",
      "source": [
        "predictions = net(batch_user, batch_item)\n",
        "predictions.shape"
      ],
      "metadata": {
        "id": "o744AzmHg8Hw",
        "outputId": "724a94a8-ce16-4456-816c-2209e84bca97",
        "colab": {
          "base_uri": "https://localhost:8080/"
        }
      },
      "execution_count": 97,
      "outputs": [
        {
          "output_type": "execute_result",
          "data": {
            "text/plain": [
              "torch.Size([1024])"
            ]
          },
          "metadata": {},
          "execution_count": 97
        }
      ]
    },
    {
      "cell_type": "markdown",
      "source": [
        "MSE loss\n"
      ],
      "metadata": {
        "id": "jNOCbPeqitAg"
      }
    },
    {
      "cell_type": "code",
      "source": [
        "def regression_loss(predicted_ratings, observed_ratings):\n",
        "    return ((observed_ratings - predicted_ratings) ** 2).mean()\n"
      ],
      "metadata": {
        "id": "aKzcpsMhium9"
      },
      "execution_count": 100,
      "outputs": []
    },
    {
      "cell_type": "code",
      "source": [
        "loss=regression_loss(predictions,batch_rating)"
      ],
      "metadata": {
        "id": "Z4Phke00i5r1"
      },
      "execution_count": 101,
      "outputs": []
    },
    {
      "cell_type": "code",
      "source": [
        "loss"
      ],
      "metadata": {
        "id": "1ObQYj40i6YU",
        "outputId": "028a7ff3-9d35-4c54-b95b-6cc305ecefdd",
        "colab": {
          "base_uri": "https://localhost:8080/"
        }
      },
      "execution_count": 102,
      "outputs": [
        {
          "output_type": "execute_result",
          "data": {
            "text/plain": [
              "tensor(12.1305, dtype=torch.float64, grad_fn=<MeanBackward0>)"
            ]
          },
          "metadata": {},
          "execution_count": 102
        }
      ]
    },
    {
      "cell_type": "markdown",
      "source": [
        "#Train and test model"
      ],
      "metadata": {
        "id": "EA7cLEEqi_yi"
      }
    },
    {
      "cell_type": "code",
      "source": [
        "class FactorizationModel(object):\n",
        "\n",
        "    def __init__(self, embedding_dim=32, n_iter=10, l2=0.0,\n",
        "                 learning_rate=1e-2, device=device, net=None, num_users=None,\n",
        "                 num_items=None,random_state=None):\n",
        "\n",
        "        self._embedding_dim = embedding_dim\n",
        "        self._n_iter = n_iter\n",
        "        self._learning_rate = learning_rate\n",
        "        self._l2 = l2\n",
        "        self._device = device\n",
        "        self._num_users = num_users\n",
        "        self._num_items = num_items\n",
        "        self._net = net\n",
        "        self._optimizer = None\n",
        "        self._loss_func = None\n",
        "        self._random_state = random_state or np.random.RandomState()\n",
        "\n",
        "\n",
        "    def _initialize(self):\n",
        "        if self._net is None:\n",
        "            self._net = DotModel(self._num_users, self._num_items, self._embedding_dim).to(self._device)\n",
        "\n",
        "        self._optimizer = optim.Adam(\n",
        "                self._net.parameters(),\n",
        "                lr=self._learning_rate,\n",
        "                weight_decay=self._l2\n",
        "            )\n",
        "\n",
        "        self._loss_func = regression_loss\n",
        "\n",
        "    @property\n",
        "    def _initialized(self):\n",
        "        return self._optimizer is not None\n",
        "\n",
        "\n",
        "    def fit(self, dataloader, val_dataloader, verbose=True):\n",
        "        if not self._initialized:\n",
        "            self._initialize()\n",
        "\n",
        "        valid_loss_min = np.Inf # track change in validation loss\n",
        "        train_losses, valid_losses, valid_maes =[], [], []\n",
        "\n",
        "        for epoch_num in range(self._n_iter):\n",
        "            tot_train_loss = 0.0\n",
        "            ###################\n",
        "            # train the model #\n",
        "            ###################\n",
        "            #TODO: trainining loop:\n",
        "            # your code\n",
        "            self._net.train()\n",
        "            for batch_user, batch_item, batch_rating in dataloader:\n",
        "\n",
        "                bath_user=batch_user.to(device)\n",
        "                batch_item=batch_item.to(device)\n",
        "                batch_rating=batch_rating.to(device)\n",
        "\n",
        "                #1. Compute the output\n",
        "                predictions = self._net(batch_user,batch_item)\n",
        "                #2. Compute the loss\n",
        "                #loss = self._loss_func(predictions,batch_rating)\n",
        "                loss = self._loss_func(predictions,batch_rating)\n",
        "                # 3. Zero out the gradient\n",
        "                self._optimizer.zero_grad()\n",
        "                # 4. Backward pass, compute the new gradients\n",
        "                loss.backward()\n",
        "                # 5. Update the weights\n",
        "                self._optimizer.step()\n",
        "\n",
        "                tot_train_loss += loss.item()\n",
        "\n",
        "\n",
        "            train_loss = tot_train_loss /len(dataloader)\n",
        "            # Go to the validation loop\n",
        "            valid_loss, valid_mae = self.test(val_dataloader)\n",
        "            train_losses.append(train_loss)\n",
        "            valid_losses.append(valid_loss)\n",
        "            valid_maes.append(valid_mae)\n",
        "\n",
        "            if verbose:\n",
        "                print('Epoch {}: loss_train {}, loss_val {}'.format(epoch_num, train_loss,valid_loss))\n",
        "\n",
        "            if np.isnan(train_loss) or train_loss == 0.0:\n",
        "                raise ValueError('Degenerate train loss: {}'.format(train_loss))\n",
        "\n",
        "            #TODO: Saving model if validation loss has decreased\n",
        "            if valid_loss <= valid_loss_min:\n",
        "              print('Validation loss decreased ({:.6f} --> {:.6f}).  Saving model ...'.format(valid_loss_min,valid_loss))\n",
        "              torch.save(self._net.state_dict(), 'model_cf.pt')\n",
        "              valid_loss_min = valid_loss\n",
        "\n",
        "        return train_losses, valid_losses, valid_maes\n",
        "\n",
        "\n",
        "    ######################\n",
        "    # validate/Test the model #\n",
        "    ######################\n",
        "    def test(self,dataloader, verbose = False):\n",
        "        self._net.eval()\n",
        "        L1loss = torch.nn.L1Loss()\n",
        "        tot_test_loss = 0.0\n",
        "        tot_test_mae = 0.0\n",
        "\n",
        "        # TODO: validation/testing loop\n",
        "        # your code here (mae = mean absolute error)\n",
        "        with torch.no_grad():\n",
        "          for batch_user, batch_item, batch_rating in dataloader:\n",
        "            #1. compute the output\n",
        "            predictions = self._net(batch_user,batch_item)\n",
        "            #2. Compute the loss\n",
        "            loss = self._loss_func(predictions,batch_rating)\n",
        "\n",
        "            tot_test_loss += loss.item()\n",
        "            tot_test_mae += L1loss(predictions,batch_rating.type(torch.FloatTensor).to(device))\n",
        "\n",
        "\n",
        "        test_loss = tot_test_loss / len(dataloader)\n",
        "        test_mae = tot_test_mae / len(dataloader)\n",
        "        if verbose:\n",
        "            print(f\"RMSE: {np.sqrt(test_loss)}, MAE: {test_mae}\")\n",
        "        return test_loss, test_mae"
      ],
      "metadata": {
        "id": "MI8QLEjZjCY8"
      },
      "execution_count": 103,
      "outputs": []
    },
    {
      "cell_type": "code",
      "source": [
        "model = FactorizationModel(embedding_dim=50,  # latent dimensionality\n",
        "                                   n_iter=40,  # number of epochs of training\n",
        "                                   learning_rate=5e-4,\n",
        "                                   l2=1e-8,  # strength of L2 regularization\n",
        "                                   num_users=total_user_id,\n",
        "                                   num_items=total_item_id)"
      ],
      "metadata": {
        "id": "L1QxxN_zjIk0"
      },
      "execution_count": 104,
      "outputs": []
    },
    {
      "cell_type": "code",
      "source": [
        "train_losses,valid_losses,valid_maes =model.fit(train_dataloader,val_dataloader)"
      ],
      "metadata": {
        "id": "v-vVPON7jKoU",
        "outputId": "ba212ff6-c31a-446f-ee6d-6e02f3ec7c6d",
        "colab": {
          "base_uri": "https://localhost:8080/"
        }
      },
      "execution_count": 105,
      "outputs": [
        {
          "output_type": "stream",
          "name": "stdout",
          "text": [
            "Epoch 0: loss_train 11.880773830098104, loss_val 11.505952793644708\n",
            "Validation loss decreased (inf --> 11.505953).  Saving model ...\n",
            "Epoch 1: loss_train 10.43010245245656, loss_val 8.906438883723343\n",
            "Validation loss decreased (11.505953 --> 8.906439).  Saving model ...\n",
            "Epoch 2: loss_train 6.64396625139803, loss_val 4.92792031009275\n",
            "Validation loss decreased (8.906439 --> 4.927920).  Saving model ...\n",
            "Epoch 3: loss_train 3.646743615918257, loss_val 3.1426084094401405\n",
            "Validation loss decreased (4.927920 --> 3.142608).  Saving model ...\n",
            "Epoch 4: loss_train 2.461849182841007, loss_val 2.447549018177367\n",
            "Validation loss decreased (3.142608 --> 2.447549).  Saving model ...\n",
            "Epoch 5: loss_train 1.9153395026764557, loss_val 2.0754535325503594\n",
            "Validation loss decreased (2.447549 --> 2.075454).  Saving model ...\n",
            "Epoch 6: loss_train 1.5917918355359417, loss_val 1.8368968165338038\n",
            "Validation loss decreased (2.075454 --> 1.836897).  Saving model ...\n",
            "Epoch 7: loss_train 1.3731267265890672, loss_val 1.6716350207168786\n",
            "Validation loss decreased (1.836897 --> 1.671635).  Saving model ...\n",
            "Epoch 8: loss_train 1.2151241566346718, loss_val 1.548974911254408\n",
            "Validation loss decreased (1.671635 --> 1.548975).  Saving model ...\n",
            "Epoch 9: loss_train 1.0956190751692139, loss_val 1.4558215568722852\n",
            "Validation loss decreased (1.548975 --> 1.455822).  Saving model ...\n",
            "Epoch 10: loss_train 1.001750719174292, loss_val 1.3833031905461122\n",
            "Validation loss decreased (1.455822 --> 1.383303).  Saving model ...\n",
            "Epoch 11: loss_train 0.9262403657499078, loss_val 1.3257003370969778\n",
            "Validation loss decreased (1.383303 --> 1.325700).  Saving model ...\n",
            "Epoch 12: loss_train 0.864782347813294, loss_val 1.2797350457110013\n",
            "Validation loss decreased (1.325700 --> 1.279735).  Saving model ...\n",
            "Epoch 13: loss_train 0.8134431935440762, loss_val 1.242362122217345\n",
            "Validation loss decreased (1.279735 --> 1.242362).  Saving model ...\n",
            "Epoch 14: loss_train 0.7699403155788743, loss_val 1.2106895856701312\n",
            "Validation loss decreased (1.242362 --> 1.210690).  Saving model ...\n",
            "Epoch 15: loss_train 0.7328735577277925, loss_val 1.1861852556706585\n",
            "Validation loss decreased (1.210690 --> 1.186185).  Saving model ...\n",
            "Epoch 16: loss_train 0.7005535050263207, loss_val 1.1648498608778466\n",
            "Validation loss decreased (1.186185 --> 1.164850).  Saving model ...\n",
            "Epoch 17: loss_train 0.6723252971408866, loss_val 1.1465099946016857\n",
            "Validation loss decreased (1.164850 --> 1.146510).  Saving model ...\n",
            "Epoch 18: loss_train 0.6471696701250903, loss_val 1.13187238682435\n",
            "Validation loss decreased (1.146510 --> 1.131872).  Saving model ...\n",
            "Epoch 19: loss_train 0.624556086929879, loss_val 1.1197273769552003\n",
            "Validation loss decreased (1.131872 --> 1.119727).  Saving model ...\n",
            "Epoch 20: loss_train 0.6039419262761004, loss_val 1.1086576754962978\n",
            "Validation loss decreased (1.119727 --> 1.108658).  Saving model ...\n",
            "Epoch 21: loss_train 0.5849648526622216, loss_val 1.100256155168541\n",
            "Validation loss decreased (1.108658 --> 1.100256).  Saving model ...\n",
            "Epoch 22: loss_train 0.567788322891724, loss_val 1.0925744562178528\n",
            "Validation loss decreased (1.100256 --> 1.092574).  Saving model ...\n",
            "Epoch 23: loss_train 0.5512511683135315, loss_val 1.0855052150441444\n",
            "Validation loss decreased (1.092574 --> 1.085505).  Saving model ...\n",
            "Epoch 24: loss_train 0.5360397448319157, loss_val 1.0801771927401396\n",
            "Validation loss decreased (1.085505 --> 1.080177).  Saving model ...\n",
            "Epoch 25: loss_train 0.5212704732011492, loss_val 1.0756794792655406\n",
            "Validation loss decreased (1.080177 --> 1.075679).  Saving model ...\n",
            "Epoch 26: loss_train 0.5075816649080677, loss_val 1.0711741045481764\n",
            "Validation loss decreased (1.075679 --> 1.071174).  Saving model ...\n",
            "Epoch 27: loss_train 0.4941545462482332, loss_val 1.0687315351254705\n",
            "Validation loss decreased (1.071174 --> 1.068732).  Saving model ...\n",
            "Epoch 28: loss_train 0.4811860592590392, loss_val 1.0652968504600357\n",
            "Validation loss decreased (1.068732 --> 1.065297).  Saving model ...\n",
            "Epoch 29: loss_train 0.4685885962465582, loss_val 1.0634762752004214\n",
            "Validation loss decreased (1.065297 --> 1.063476).  Saving model ...\n",
            "Epoch 30: loss_train 0.45622066606364114, loss_val 1.0616028876277723\n",
            "Validation loss decreased (1.063476 --> 1.061603).  Saving model ...\n",
            "Epoch 31: loss_train 0.4441878871510065, loss_val 1.0605657134942372\n",
            "Validation loss decreased (1.061603 --> 1.060566).  Saving model ...\n",
            "Epoch 32: loss_train 0.4323544798476663, loss_val 1.058465329594118\n",
            "Validation loss decreased (1.060566 --> 1.058465).  Saving model ...\n",
            "Epoch 33: loss_train 0.42048419374126383, loss_val 1.0584606040415652\n",
            "Validation loss decreased (1.058465 --> 1.058461).  Saving model ...\n",
            "Epoch 34: loss_train 0.409046945182345, loss_val 1.0587689823038324\n",
            "Epoch 35: loss_train 0.3974861300147598, loss_val 1.0590110624612685\n",
            "Epoch 36: loss_train 0.3861008279432092, loss_val 1.0588092071138504\n",
            "Epoch 37: loss_train 0.3748256211504009, loss_val 1.0589342242062738\n",
            "Epoch 38: loss_train 0.3636586057986219, loss_val 1.0592880004382335\n",
            "Epoch 39: loss_train 0.35267233847037255, loss_val 1.0604065499023476\n"
          ]
        }
      ]
    },
    {
      "cell_type": "markdown",
      "source": [
        "plot loss"
      ],
      "metadata": {
        "id": "Djir-5N1pf19"
      }
    },
    {
      "cell_type": "code",
      "source": [
        "%matplotlib inline\n",
        "%config InlineBackend.figure_format = 'retina'\n",
        "\n",
        "import matplotlib.pyplot as plt"
      ],
      "metadata": {
        "id": "dK1Q1Qzyph4C"
      },
      "execution_count": 106,
      "outputs": []
    },
    {
      "cell_type": "code",
      "source": [
        "plt.plot(np.log(train_losses), label='Training loss')\n",
        "plt.plot(np.log(valid_losses), label='Validation loss')\n",
        "plt.legend(frameon=False)"
      ],
      "metadata": {
        "id": "JGuU1YEJpi1r",
        "outputId": "cc9948ff-4999-4be9-9214-3f707ec876f7",
        "colab": {
          "base_uri": "https://localhost:8080/",
          "height": 448
        }
      },
      "execution_count": 107,
      "outputs": [
        {
          "output_type": "execute_result",
          "data": {
            "text/plain": [
              "<matplotlib.legend.Legend at 0x7b021816bd60>"
            ]
          },
          "metadata": {},
          "execution_count": 107
        },
        {
          "output_type": "display_data",
          "data": {
            "text/plain": [
              "<Figure size 640x480 with 1 Axes>"
            ],
            "image/png": "[encoded data removed]"
          },
          "metadata": {
            "image/png": {
              "width": 559,
              "height": 413
            }
          }
        }
      ]
    },
    {
      "cell_type": "code",
      "source": [
        "model._net.load_state_dict(torch.load('model_cf.pt'))\n",
        "test_loss, test_mae = model.test(test_dataloader,True)"
      ],
      "metadata": {
        "id": "-R2rm4iNpm5P",
        "outputId": "e048d8fa-a81a-4f3c-955c-d0d4f46dfddd",
        "colab": {
          "base_uri": "https://localhost:8080/"
        }
      },
      "execution_count": 108,
      "outputs": [
        {
          "output_type": "stream",
          "name": "stdout",
          "text": [
            "RMSE: 1.0003066675476113, MAE: 0.691552460193634\n"
          ]
        },
        {
          "output_type": "stream",
          "name": "stderr",
          "text": [
            "<ipython-input-108-10f034373507>:1: FutureWarning: You are using `torch.load` with `weights_only=False` (the current default value), which uses the default pickle module implicitly. It is possible to construct malicious pickle data which will execute arbitrary code during unpickling (See https://github.com/pytorch/pytorch/blob/main/SECURITY.md#untrusted-models for more details). In a future release, the default value for `weights_only` will be flipped to `True`. This limits the functions that could be executed during unpickling. Arbitrary objects will no longer be allowed to be loaded via this mode unless they are explicitly allowlisted by the user via `torch.serialization.add_safe_globals`. We recommend you start setting `weights_only=True` for any use case where you don't have full control of the loaded file. Please open an issue on GitHub for any issues related to this experimental feature.\n",
            "  model._net.load_state_dict(torch.load('model_cf.pt'))\n"
          ]
        }
      ]
    },
    {
      "cell_type": "markdown",
      "source": [
        "#Optimize model\n"
      ],
      "metadata": {
        "id": "mMszIfZ_p8Ki"
      }
    },
    {
      "cell_type": "code",
      "source": [
        "model_tuning = FactorizationModel(embedding_dim=128, # embedding_dim 50 --> 128\n",
        "                  n_iter=20,\n",
        "                  learning_rate=5e-4,\n",
        "                  l2=5e-8,  # l2-penalty 1e-8 --> 5e-8\n",
        "                  num_users=total_user_id,\n",
        "                  num_items=total_item_id)\n",
        "train_losses,test_losses, test_maes = model_tuning.fit(train_dataloader,val_dataloader)\n"
      ],
      "metadata": {
        "id": "c_zlCas3p94r",
        "outputId": "47546a60-a751-459b-de4f-d24ca5f8b4ee",
        "colab": {
          "base_uri": "https://localhost:8080/"
        }
      },
      "execution_count": 109,
      "outputs": [
        {
          "output_type": "stream",
          "name": "stdout",
          "text": [
            "Epoch 0: loss_train 11.654316988301847, loss_val 10.175935257861127\n",
            "Validation loss decreased (inf --> 10.175935).  Saving model ...\n",
            "Epoch 1: loss_train 6.632087116586538, loss_val 4.0962191565992905\n",
            "Validation loss decreased (10.175935 --> 4.096219).  Saving model ...\n",
            "Epoch 2: loss_train 2.93411118388769, loss_val 2.5673328708088174\n",
            "Validation loss decreased (4.096219 --> 2.567333).  Saving model ...\n",
            "Epoch 3: loss_train 1.9525492281784078, loss_val 2.0238246993944635\n",
            "Validation loss decreased (2.567333 --> 2.023825).  Saving model ...\n",
            "Epoch 4: loss_train 1.5125448315525294, loss_val 1.7350034598229656\n",
            "Validation loss decreased (2.023825 --> 1.735003).  Saving model ...\n",
            "Epoch 5: loss_train 1.258000334559762, loss_val 1.557702099608833\n",
            "Validation loss decreased (1.735003 --> 1.557702).  Saving model ...\n",
            "Epoch 6: loss_train 1.0922357696955998, loss_val 1.4385727852080603\n",
            "Validation loss decreased (1.557702 --> 1.438573).  Saving model ...\n",
            "Epoch 7: loss_train 0.9768372851637762, loss_val 1.3551514443865726\n",
            "Validation loss decreased (1.438573 --> 1.355151).  Saving model ...\n",
            "Epoch 8: loss_train 0.8920568441778293, loss_val 1.2953926196353194\n",
            "Validation loss decreased (1.355151 --> 1.295393).  Saving model ...\n",
            "Epoch 9: loss_train 0.8275957351297811, loss_val 1.2502572050457257\n",
            "Validation loss decreased (1.295393 --> 1.250257).  Saving model ...\n",
            "Epoch 10: loss_train 0.7767417672749471, loss_val 1.2138477434998387\n",
            "Validation loss decreased (1.250257 --> 1.213848).  Saving model ...\n",
            "Epoch 11: loss_train 0.7355576407076908, loss_val 1.1880906356035787\n",
            "Validation loss decreased (1.213848 --> 1.188091).  Saving model ...\n",
            "Epoch 12: loss_train 0.7017067397097616, loss_val 1.165097400878867\n",
            "Validation loss decreased (1.188091 --> 1.165097).  Saving model ...\n",
            "Epoch 13: loss_train 0.6726472256235903, loss_val 1.1463583625647906\n",
            "Validation loss decreased (1.165097 --> 1.146358).  Saving model ...\n",
            "Epoch 14: loss_train 0.64745804945155, loss_val 1.1321845938796649\n",
            "Validation loss decreased (1.146358 --> 1.132185).  Saving model ...\n",
            "Epoch 15: loss_train 0.6252434358465987, loss_val 1.1209973573787202\n",
            "Validation loss decreased (1.132185 --> 1.120997).  Saving model ...\n",
            "Epoch 16: loss_train 0.6050843147484741, loss_val 1.1104162877831296\n",
            "Validation loss decreased (1.120997 --> 1.110416).  Saving model ...\n",
            "Epoch 17: loss_train 0.5864599665220427, loss_val 1.1028390696755621\n",
            "Validation loss decreased (1.110416 --> 1.102839).  Saving model ...\n",
            "Epoch 18: loss_train 0.5686872953171886, loss_val 1.0962695317448254\n",
            "Validation loss decreased (1.102839 --> 1.096270).  Saving model ...\n",
            "Epoch 19: loss_train 0.5514889755052209, loss_val 1.0886418366938828\n",
            "Validation loss decreased (1.096270 --> 1.088642).  Saving model ...\n"
          ]
        }
      ]
    },
    {
      "cell_type": "code",
      "source": [
        "torch.save(model_tuning._net.state_dict(), 'model_cf_tuned.pt')"
      ],
      "metadata": {
        "id": "3wmIa-x35iy1"
      },
      "execution_count": 111,
      "outputs": []
    },
    {
      "cell_type": "code",
      "source": [
        "model_tuning._net.load_state_dict(torch.load('model_cf_tuned.pt'))\n",
        "test_loss, test_mae = model_tuning.test(test_dataloader,verbose=True)"
      ],
      "metadata": {
        "id": "MDZ-rFaA47x0",
        "outputId": "0085e0b6-b730-4af6-a9e9-ca112588a751",
        "colab": {
          "base_uri": "https://localhost:8080/"
        }
      },
      "execution_count": 112,
      "outputs": [
        {
          "output_type": "stream",
          "name": "stderr",
          "text": [
            "<ipython-input-112-a1169bb0c22d>:1: FutureWarning: You are using `torch.load` with `weights_only=False` (the current default value), which uses the default pickle module implicitly. It is possible to construct malicious pickle data which will execute arbitrary code during unpickling (See https://github.com/pytorch/pytorch/blob/main/SECURITY.md#untrusted-models for more details). In a future release, the default value for `weights_only` will be flipped to `True`. This limits the functions that could be executed during unpickling. Arbitrary objects will no longer be allowed to be loaded via this mode unless they are explicitly allowlisted by the user via `torch.serialization.add_safe_globals`. We recommend you start setting `weights_only=True` for any use case where you don't have full control of the loaded file. Please open an issue on GitHub for any issues related to this experimental feature.\n",
            "  model_tuning._net.load_state_dict(torch.load('model_cf_tuned.pt'))\n"
          ]
        },
        {
          "output_type": "stream",
          "name": "stdout",
          "text": [
            "RMSE: 1.0150981418253053, MAE: 0.6959798336029053\n"
          ]
        }
      ]
    }
  ]
}